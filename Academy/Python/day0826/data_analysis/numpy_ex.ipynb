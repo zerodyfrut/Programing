{
 "cells": [
  {
   "cell_type": "code",
   "execution_count": null,
   "id": "e495b517",
   "metadata": {},
   "outputs": [],
   "source": [
    "import os\n",
    "os.chdir(r'D:\\새 폴더\\Programing\\Academy\\Python\\day0826')\n"
   ]
  },
  {
   "cell_type": "code",
   "execution_count": 36,
   "id": "fc179ae8",
   "metadata": {},
   "outputs": [
    {
     "name": "stdout",
     "output_type": "stream",
     "text": [
      "[[9 1 8]\n",
      " [2 5 3]]\n",
      "[[8 1 4]\n",
      " [7 1 5]]\n",
      "[[False  True False]\n",
      " [ True False  True]]\n",
      "-----\n",
      "[[9 1 8]\n",
      " [7 5 5]]\n",
      "-----\n",
      "[[8 1 4]\n",
      " [2 1 3]]\n",
      "-----\n",
      "['김길동' '이길동']\n",
      "['김길동' '이길동']\n",
      "[[100  90  60]\n",
      " [ 10  60  80]\n",
      " [ 50  40 100]]\n",
      "[ True False  True]\n",
      "['홍길동' '이길동']\n"
     ]
    }
   ],
   "source": [
    "import numpy as np\n",
    "a = np.random.randint(1, 11, [2, 3])\n",
    "b = np.random.randint(1, 11, [2, 3])\n",
    "# -> 1~10까지의 변수로 [2,3] 배열 생성\n",
    "\n",
    "print(a)\n",
    "print(b)\n",
    "\n",
    "# greater, greater_equal, equal, not_equal, less, less_equal\n",
    "j = np.less_equal(a, b)\n",
    "print(j)\n",
    "print(\"-----\")\n",
    "\n",
    "# maximum\n",
    "k = np.maximum(a, b)  # 같은 인덱스의 값끼리 비교, 큰것만 출력\n",
    "print(k)\n",
    "print(\"-----\")\n",
    "\n",
    "# minimum\n",
    "k = np.minimum(a, b)  # 같은 인덱스의 값끼리 비교, 작은 것만 출력\n",
    "print(k)\n",
    "print(\"-----\")\n",
    "\n",
    "\n",
    "name = np.array([\"홍길동\", \"김길동\", \"이길동\"])\n",
    "kor = np.array([100, 90, 60])\n",
    "eng = np.array([10, 60, 80])\n",
    "mat = np.array([50, 40, 100])\n",
    "\n",
    "# 평균60 넘는 학생이름\n",
    "print(name[np.greater(np.divide(np.add(np.add(kor, eng), mat), 3), 60)])\n",
    "# print(name[np.greater((kor+eng+mat)/3, 60)])\n",
    "\n",
    "scores=np.array([kor,eng,mat]) # (3,3) 배열\n",
    "print(scores)\n",
    "# axios=1 : 행 방향(가로축)\n",
    "# axios=0 : 열 방향(세로축) \n",
    "\n",
    "avg=scores.mean(axis=1)\n",
    "print(avg>60)\n",
    "print(name[avg>60])\n"
   ]
  }
 ],
 "metadata": {
  "kernelspec": {
   "display_name": "analysis",
   "language": "python",
   "name": "python3"
  },
  "language_info": {
   "codemirror_mode": {
    "name": "ipython",
    "version": 3
   },
   "file_extension": ".py",
   "mimetype": "text/x-python",
   "name": "python",
   "nbconvert_exporter": "python",
   "pygments_lexer": "ipython3",
   "version": "3.13.3"
  }
 },
 "nbformat": 4,
 "nbformat_minor": 5
}
