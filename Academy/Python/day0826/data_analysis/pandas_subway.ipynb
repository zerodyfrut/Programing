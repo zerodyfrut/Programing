{
 "cells": [
  {
   "cell_type": "code",
   "execution_count": 1,
   "id": "8d49d324",
   "metadata": {},
   "outputs": [],
   "source": [
    "import os, pandas as pd\n",
    "os.chdir(r'D:\\새 폴더\\Programing\\Academy\\Python\\day0826')\n"
   ]
  },
  {
   "cell_type": "code",
   "execution_count": 2,
   "id": "e4744657",
   "metadata": {},
   "outputs": [
    {
     "data": {
      "text/plain": [
       "['analysis', 'data_analysis', 'today(day0826).txt']"
      ]
     },
     "execution_count": 2,
     "metadata": {},
     "output_type": "execute_result"
    }
   ],
   "source": [
    "os.listdir()"
   ]
  },
  {
   "cell_type": "code",
   "execution_count": 3,
   "id": "bc133f1b",
   "metadata": {},
   "outputs": [],
   "source": [
    "# cvs 파일읽기\n",
    "df=pd.read_csv('data_analysis/subway2507.csv',index_col=False)"
   ]
  },
  {
   "cell_type": "code",
   "execution_count": null,
   "id": "b4266896",
   "metadata": {},
   "outputs": [],
   "source": [
    "if df.columns[-1] == df.columns[-1].strip():  # 혹은 그냥 이름이 'Unnamed: 6'이면\n",
    "    df = df.iloc[:, :-1]\n",
    "\n",
    "# 숫자 컬럼이 문자열로 들어왔다면 숫자로 변환\n",
    "df['승차총승객수'] = pd.to_numeric(df['승차총승객수'], errors='coerce')\n",
    "df['하차총승객수'] = pd.to_numeric(df['하차총승객수'], errors='coerce')"
   ]
  },
  {
   "cell_type": "code",
   "execution_count": 10,
   "id": "b0976fab",
   "metadata": {},
   "outputs": [
    {
     "data": {
      "text/html": [
       "<div>\n",
       "<style scoped>\n",
       "    .dataframe tbody tr th:only-of-type {\n",
       "        vertical-align: middle;\n",
       "    }\n",
       "\n",
       "    .dataframe tbody tr th {\n",
       "        vertical-align: top;\n",
       "    }\n",
       "\n",
       "    .dataframe thead th {\n",
       "        text-align: right;\n",
       "    }\n",
       "</style>\n",
       "<table border=\"1\" class=\"dataframe\">\n",
       "  <thead>\n",
       "    <tr style=\"text-align: right;\">\n",
       "      <th></th>\n",
       "      <th>사용일자</th>\n",
       "      <th>노선명</th>\n",
       "      <th>역명</th>\n",
       "      <th>승차총승객수</th>\n",
       "      <th>하차총승객수</th>\n",
       "    </tr>\n",
       "  </thead>\n",
       "  <tbody>\n",
       "    <tr>\n",
       "      <th>0</th>\n",
       "      <td>20250701</td>\n",
       "      <td>경원선</td>\n",
       "      <td>창동</td>\n",
       "      <td>9</td>\n",
       "      <td>0</td>\n",
       "    </tr>\n",
       "    <tr>\n",
       "      <th>1</th>\n",
       "      <td>20250701</td>\n",
       "      <td>장항선</td>\n",
       "      <td>쌍용(나사렛대)</td>\n",
       "      <td>2260</td>\n",
       "      <td>2155</td>\n",
       "    </tr>\n",
       "    <tr>\n",
       "      <th>2</th>\n",
       "      <td>20250701</td>\n",
       "      <td>장항선</td>\n",
       "      <td>아산</td>\n",
       "      <td>3313</td>\n",
       "      <td>3113</td>\n",
       "    </tr>\n",
       "    <tr>\n",
       "      <th>3</th>\n",
       "      <td>20250701</td>\n",
       "      <td>장항선</td>\n",
       "      <td>탕정</td>\n",
       "      <td>1969</td>\n",
       "      <td>1778</td>\n",
       "    </tr>\n",
       "    <tr>\n",
       "      <th>4</th>\n",
       "      <td>20250701</td>\n",
       "      <td>장항선</td>\n",
       "      <td>배방</td>\n",
       "      <td>1260</td>\n",
       "      <td>1204</td>\n",
       "    </tr>\n",
       "  </tbody>\n",
       "</table>\n",
       "</div>"
      ],
      "text/plain": [
       "       사용일자  노선명        역명  승차총승객수  하차총승객수\n",
       "0  20250701  경원선        창동       9       0\n",
       "1  20250701  장항선  쌍용(나사렛대)    2260    2155\n",
       "2  20250701  장항선        아산    3313    3113\n",
       "3  20250701  장항선        탕정    1969    1778\n",
       "4  20250701  장항선        배방    1260    1204"
      ]
     },
     "execution_count": 10,
     "metadata": {},
     "output_type": "execute_result"
    }
   ],
   "source": [
    "df.head()"
   ]
  },
  {
   "cell_type": "code",
   "execution_count": 5,
   "id": "b1dc0579",
   "metadata": {},
   "outputs": [
    {
     "data": {
      "text/html": [
       "<div>\n",
       "<style scoped>\n",
       "    .dataframe tbody tr th:only-of-type {\n",
       "        vertical-align: middle;\n",
       "    }\n",
       "\n",
       "    .dataframe tbody tr th {\n",
       "        vertical-align: top;\n",
       "    }\n",
       "\n",
       "    .dataframe thead th {\n",
       "        text-align: right;\n",
       "    }\n",
       "</style>\n",
       "<table border=\"1\" class=\"dataframe\">\n",
       "  <thead>\n",
       "    <tr style=\"text-align: right;\">\n",
       "      <th></th>\n",
       "      <th>사용일자</th>\n",
       "      <th>노선명</th>\n",
       "      <th>역명</th>\n",
       "      <th>승차총승객수</th>\n",
       "      <th>하차총승객수</th>\n",
       "    </tr>\n",
       "  </thead>\n",
       "  <tbody>\n",
       "    <tr>\n",
       "      <th>0</th>\n",
       "      <td>20250701</td>\n",
       "      <td>경원선</td>\n",
       "      <td>창동</td>\n",
       "      <td>9</td>\n",
       "      <td>0</td>\n",
       "    </tr>\n",
       "    <tr>\n",
       "      <th>1</th>\n",
       "      <td>20250701</td>\n",
       "      <td>장항선</td>\n",
       "      <td>쌍용(나사렛대)</td>\n",
       "      <td>2260</td>\n",
       "      <td>2155</td>\n",
       "    </tr>\n",
       "    <tr>\n",
       "      <th>2</th>\n",
       "      <td>20250701</td>\n",
       "      <td>장항선</td>\n",
       "      <td>아산</td>\n",
       "      <td>3313</td>\n",
       "      <td>3113</td>\n",
       "    </tr>\n",
       "    <tr>\n",
       "      <th>3</th>\n",
       "      <td>20250701</td>\n",
       "      <td>장항선</td>\n",
       "      <td>탕정</td>\n",
       "      <td>1969</td>\n",
       "      <td>1778</td>\n",
       "    </tr>\n",
       "    <tr>\n",
       "      <th>4</th>\n",
       "      <td>20250701</td>\n",
       "      <td>장항선</td>\n",
       "      <td>배방</td>\n",
       "      <td>1260</td>\n",
       "      <td>1204</td>\n",
       "    </tr>\n",
       "  </tbody>\n",
       "</table>\n",
       "</div>"
      ],
      "text/plain": [
       "       사용일자  노선명        역명  승차총승객수  하차총승객수\n",
       "0  20250701  경원선        창동       9       0\n",
       "1  20250701  장항선  쌍용(나사렛대)    2260    2155\n",
       "2  20250701  장항선        아산    3313    3113\n",
       "3  20250701  장항선        탕정    1969    1778\n",
       "4  20250701  장항선        배방    1260    1204"
      ]
     },
     "execution_count": 5,
     "metadata": {},
     "output_type": "execute_result"
    }
   ],
   "source": [
    "# 마지막 데이터 3개만 확인\n",
    "\n",
    "# 언제 데이터부터 있었나 확인용 첫 번째 데이터의 날짜부분만\n",
    "\n",
    "# 100 ~ 110번 데이터 노선번호, 역이름\n",
    "\n",
    "# 노선번호로 찾을수 있게 세팅\n",
    "\n",
    "df_by_line = df.set_index('노선명')\n",
    "df.head()\n",
    "\n",
    "# 2호선 데이터만\n",
    "\n",
    "# 1호선 데이터의 역이름, 탄, 내린\n",
    "\n",
    "# 탄 사람수가 50000이상인 데이터\n",
    "\n",
    "# 탄 사람수가 50이 안되는 데이터의 날짜, 역이름\n",
    "\n",
    "# '종각'역 데이터\n",
    "\n",
    "# 역이름에 '입구'들어가는 데이터\n",
    "\n",
    "# 역이름이 '서울'로 시작하는 데이터 노선"
   ]
  },
  {
   "cell_type": "code",
   "execution_count": 9,
   "id": "548c698e",
   "metadata": {},
   "outputs": [
    {
     "data": {
      "text/html": [
       "<div>\n",
       "<style scoped>\n",
       "    .dataframe tbody tr th:only-of-type {\n",
       "        vertical-align: middle;\n",
       "    }\n",
       "\n",
       "    .dataframe tbody tr th {\n",
       "        vertical-align: top;\n",
       "    }\n",
       "\n",
       "    .dataframe thead th {\n",
       "        text-align: right;\n",
       "    }\n",
       "</style>\n",
       "<table border=\"1\" class=\"dataframe\">\n",
       "  <thead>\n",
       "    <tr style=\"text-align: right;\">\n",
       "      <th></th>\n",
       "      <th>사용일자</th>\n",
       "      <th>노선명</th>\n",
       "      <th>역명</th>\n",
       "      <th>승차총승객수</th>\n",
       "      <th>하차총승객수</th>\n",
       "    </tr>\n",
       "  </thead>\n",
       "  <tbody>\n",
       "    <tr>\n",
       "      <th>19128</th>\n",
       "      <td>20250731</td>\n",
       "      <td>중앙선</td>\n",
       "      <td>양평</td>\n",
       "      <td>3186</td>\n",
       "      <td>3321</td>\n",
       "    </tr>\n",
       "    <tr>\n",
       "      <th>19129</th>\n",
       "      <td>20250731</td>\n",
       "      <td>중앙선</td>\n",
       "      <td>원덕</td>\n",
       "      <td>333</td>\n",
       "      <td>333</td>\n",
       "    </tr>\n",
       "    <tr>\n",
       "      <th>19130</th>\n",
       "      <td>20250731</td>\n",
       "      <td>중앙선</td>\n",
       "      <td>용문</td>\n",
       "      <td>2444</td>\n",
       "      <td>2413</td>\n",
       "    </tr>\n",
       "  </tbody>\n",
       "</table>\n",
       "</div>"
      ],
      "text/plain": [
       "           사용일자  노선명  역명  승차총승객수  하차총승객수\n",
       "19128  20250731  중앙선  양평    3186    3321\n",
       "19129  20250731  중앙선  원덕     333     333\n",
       "19130  20250731  중앙선  용문    2444    2413"
      ]
     },
     "execution_count": 9,
     "metadata": {},
     "output_type": "execute_result"
    }
   ],
   "source": [
    "# 마지막 데이터 3개만 확인\n",
    "df[-3:]"
   ]
  },
  {
   "cell_type": "code",
   "execution_count": null,
   "id": "1d447a17",
   "metadata": {},
   "outputs": [
    {
     "data": {
      "text/html": [
       "<div>\n",
       "<style scoped>\n",
       "    .dataframe tbody tr th:only-of-type {\n",
       "        vertical-align: middle;\n",
       "    }\n",
       "\n",
       "    .dataframe tbody tr th {\n",
       "        vertical-align: top;\n",
       "    }\n",
       "\n",
       "    .dataframe thead th {\n",
       "        text-align: right;\n",
       "    }\n",
       "</style>\n",
       "<table border=\"1\" class=\"dataframe\">\n",
       "  <thead>\n",
       "    <tr style=\"text-align: right;\">\n",
       "      <th></th>\n",
       "      <th>사용일자</th>\n",
       "      <th>노선명</th>\n",
       "      <th>역명</th>\n",
       "      <th>승차총승객수</th>\n",
       "      <th>하차총승객수</th>\n",
       "    </tr>\n",
       "  </thead>\n",
       "  <tbody>\n",
       "    <tr>\n",
       "      <th>0</th>\n",
       "      <td>20250701</td>\n",
       "      <td>경원선</td>\n",
       "      <td>창동</td>\n",
       "      <td>9</td>\n",
       "      <td>0</td>\n",
       "    </tr>\n",
       "  </tbody>\n",
       "</table>\n",
       "</div>"
      ],
      "text/plain": [
       "       사용일자  노선명  역명  승차총승객수  하차총승객수\n",
       "0  20250701  경원선  창동       9       0"
      ]
     },
     "execution_count": 13,
     "metadata": {},
     "output_type": "execute_result"
    }
   ],
   "source": [
    "# 언제 데이터부터 있었나 확인용 첫 번째 데이터의 날짜부분만\n",
    "df.loc[:0]"
   ]
  }
 ],
 "metadata": {
  "kernelspec": {
   "display_name": "analysis",
   "language": "python",
   "name": "python3"
  },
  "language_info": {
   "codemirror_mode": {
    "name": "ipython",
    "version": 3
   },
   "file_extension": ".py",
   "mimetype": "text/x-python",
   "name": "python",
   "nbconvert_exporter": "python",
   "pygments_lexer": "ipython3",
   "version": "3.13.3"
  }
 },
 "nbformat": 4,
 "nbformat_minor": 5
}
