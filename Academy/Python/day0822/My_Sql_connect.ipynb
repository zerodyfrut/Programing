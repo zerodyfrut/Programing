{
 "cells": [
  {
   "cell_type": "code",
   "execution_count": 65,
   "id": "1548e013",
   "metadata": {},
   "outputs": [
    {
     "name": "stdout",
     "output_type": "stream",
     "text": [
      "(10, 'ACCOUNTING', 'NEW YORK')\n",
      "(20, 'RESEARCH', 'DALLAS')\n",
      "(30, 'SALES', 'CHICAGO')\n",
      "(40, 'OPERATIONS', 'BOSTON')\n",
      "(50, 'wktkf', 'wnrwk')\n",
      "(60, 'dhotksk', 'ahffk')\n"
     ]
    }
   ],
   "source": [
    "import pymysql\n",
    "\n",
    "db = pymysql.connect(\n",
    "   host='localhost',\n",
    "    port=3306, #DB 포트번호\n",
    "    user='pytest',\n",
    "    passwd='pytest',\n",
    "    db='pytest',\n",
    "    charset='utf8'\n",
    " )\n",
    "\n",
    "cursor = db.cursor() # 커서 객체 생성 -> sql 쿼리문 수행\n",
    "sql = 'select * from dept'\n",
    "\n",
    "cursor.execute(sql) # excute() 실행\n",
    "\n",
    "rows = cursor.fetchall() # 쿼리결과에서 모든 행 가져옴 (tuple)\n",
    "for row in rows:\n",
    "   print(row)\n",
    "\n",
    "db.close()"
   ]
  },
  {
   "cell_type": "code",
   "execution_count": 59,
   "id": "a1dd95c6",
   "metadata": {},
   "outputs": [],
   "source": [
    "def max_deptno(db,cursor):\n",
    "    sql='select max(deptno)+10 from dept'\n",
    "    cursor.execute(sql)\n",
    "    row= cursor.fetchone() \n",
    "    if row :\n",
    "        return row[0]\n",
    "    else : \n",
    "        return 10\n",
    "\n",
    "def insert(db,cursor,deptno):\n",
    "    dname =input('부서명')\n",
    "    loc =input('근무지')\n",
    "    dept_info=(int(deptno),dname,loc)\n",
    "    insert_sql='insert into dept values(%s,%s,%s)'\n",
    "    cursor.execute(insert_sql,dept_info)\n",
    "    db.commit()\n",
    "    print(cursor.rowcount, \"개의 레코드가 추가되었습니다.\")"
   ]
  },
  {
   "cell_type": "code",
   "execution_count": 64,
   "id": "4e7abd81",
   "metadata": {},
   "outputs": [
    {
     "name": "stdout",
     "output_type": "stream",
     "text": [
      "1 개의 레코드가 추가되었습니다.\n"
     ]
    }
   ],
   "source": [
    "db = pymysql.connect(\n",
    "   host='localhost',\n",
    "    port=3306,\n",
    "    user='pytest',\n",
    "    passwd='pytest',\n",
    "    db='pytest',\n",
    "    charset='utf8'\n",
    ")\n",
    "cursor = db.cursor()\n",
    " \n",
    "deptno =  max_deptno(db, cursor)\n",
    "insert(db, cursor, deptno)\n",
    "\n",
    "db.close()"
   ]
  },
  {
   "cell_type": "code",
   "execution_count": 67,
   "id": "7d4158b9",
   "metadata": {},
   "outputs": [
    {
     "name": "stdout",
     "output_type": "stream",
     "text": [
      "(10, 'ACCOUNTING', 'NEW YORK')\n",
      "(20, 'RESEARCH', 'DALLAS')\n",
      "----------\n",
      "(30, 'SALES', 'CHICAGO')\n",
      "(40, 'OPERATIONS', 'BOSTON')\n",
      "----------\n"
     ]
    }
   ],
   "source": [
    "db = pymysql.connect(\n",
    "   host='localhost',\n",
    "    port=3306,\n",
    "    user='pytest',\n",
    "    passwd='pytest',\n",
    "    db='pytest',\n",
    "    charset='utf8'\n",
    " )\n",
    "\n",
    "cursor = db.cursor() #커서 객체 생성 ->sql 쿼리문 수행\n",
    "sql = 'select * from dept'\n",
    "\n",
    "cursor.execute(sql) # execute() : 실행\n",
    "\n",
    "rows = cursor.fetchmany(2) # 지정한 개수만큼만 가져오기\n",
    "for row in rows:\n",
    "   print(row)\n",
    "print('----------')\n",
    "rows = cursor.fetchmany(2) \n",
    "for row in rows:\n",
    "   print(row)\n",
    "print('----------')\n",
    "\n",
    "db.close()"
   ]
  },
  {
   "cell_type": "code",
   "execution_count": null,
   "id": "fed89f5c",
   "metadata": {},
   "outputs": [],
   "source": [
    "# 근무지 수정\n",
    "\n",
    "db = pymysql.connect(\n",
    "   host='localhost',\n",
    "    port=3306, #DB 포트번호\n",
    "    user='pytest',\n",
    "    passwd='pytest',\n",
    "    db='pytest',\n",
    "    charset='utf8'\n",
    ")\n",
    "\n",
    "cursor=db.cursor()\n",
    "sql='update dept set loc = %s where deptno = %s'\n",
    "\n",
    "deptno= input('부서번호')\n",
    "loc= input('근무지')\n",
    "\n",
    "cursor.execute(sql,(loc,deptno))\n",
    "db.commit()\n",
    "\n",
    "db.close()\n"
   ]
  },
  {
   "cell_type": "code",
   "execution_count": null,
   "id": "d75432a1",
   "metadata": {},
   "outputs": [],
   "source": [
    "db = pymysql.connect(\n",
    "   host='localhost',\n",
    "    port=3306, #DB 포트번호\n",
    "    user='pytest',\n",
    "    passwd='pytest',\n",
    "    db='pytest',\n",
    "    charset='utf8'\n",
    ")\n",
    "\n",
    "cursor=db.cursor()\n",
    "sql='update dept set loc = %s where deptno = %s'\n",
    "\n",
    "deptno= input('부서번호')\n",
    "loc= input('근무지')\n",
    "\n",
    "cursor.execute(deptno,loc)"
   ]
  },
  {
   "cell_type": "code",
   "execution_count": 57,
   "id": "a39469ca",
   "metadata": {},
   "outputs": [],
   "source": [
    "db = pymysql.connect(\n",
    "    host='localhost',\n",
    "    port=3306,\n",
    "    user='pytest',\n",
    "    passwd='pytest',\n",
    "    db='pytest',\n",
    "    charset='utf8'\n",
    ")\n",
    "\n",
    "cursor=db.cursor() # sql 쿼리문을 수행할 커서 객체 생성\n",
    "sql='delete from dept where deptno=%s'\n",
    "\n",
    "deptno=input('삭제할 부서')\n",
    "\n",
    "cursor.execute(sql,(deptno))\n",
    "db.commit()\n",
    "\n",
    "db.close()"
   ]
  }
 ],
 "metadata": {
  "kernelspec": {
   "display_name": "analysis",
   "language": "python",
   "name": "python3"
  },
  "language_info": {
   "codemirror_mode": {
    "name": "ipython",
    "version": 3
   },
   "file_extension": ".py",
   "mimetype": "text/x-python",
   "name": "python",
   "nbconvert_exporter": "python",
   "pygments_lexer": "ipython3",
   "version": "3.13.3"
  }
 },
 "nbformat": 4,
 "nbformat_minor": 5
}
