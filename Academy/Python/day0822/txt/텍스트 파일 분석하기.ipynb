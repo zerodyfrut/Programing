{
 "cells": [
  {
   "cell_type": "code",
   "execution_count": 1,
   "id": "4115a892",
   "metadata": {},
   "outputs": [
    {
     "data": {
      "text/plain": [
       "'d:\\\\새 폴더\\\\Programing\\\\Academy\\\\Python\\\\day0822\\\\analysis\\\\txt'"
      ]
     },
     "execution_count": 1,
     "metadata": {},
     "output_type": "execute_result"
    }
   ],
   "source": [
    "import os\n",
    "# getcwd() : 현재 위치 확인하기\n",
    "\n",
    "os.getcwd()"
   ]
  },
  {
   "cell_type": "code",
   "execution_count": 2,
   "id": "8b30bacc",
   "metadata": {},
   "outputs": [
    {
     "name": "stdout",
     "output_type": "stream",
     "text": [
      "['friends101.txt', 'test.ipynb', '텍스트 파일 분석하기.ipynb']\n"
     ]
    }
   ],
   "source": [
    "# listdir() : 현재 위치의 dir list출력\n",
    "print(os.listdir())"
   ]
  },
  {
   "cell_type": "code",
   "execution_count": 3,
   "id": "e69b75ce",
   "metadata": {},
   "outputs": [
    {
     "name": "stdout",
     "output_type": "stream",
     "text": [
      "d:\\새 폴더\\Programing\\Academy\\Python\\day0822\\analysis\\txt\n"
     ]
    }
   ],
   "source": [
    "# chdir(변경 위치) : 현재 위치를 변경 위치로 변경\n",
    "os.chdir(r'd:\\새 폴더\\Programing\\Academy\\Python\\day0822\\analysis\\txt')\n",
    "print(os.getcwd())"
   ]
  },
  {
   "cell_type": "code",
   "execution_count": 2,
   "id": "7e2224bb",
   "metadata": {},
   "outputs": [
    {
     "name": "stdout",
     "output_type": "stream",
     "text": [
      "<re.Match object; span=(0, 4), match='Life'>\n",
      "Life\n"
     ]
    }
   ],
   "source": [
    "import re\n",
    "# 정규표현식\n",
    "# 시작과 끝을 \\로 표현하다보니, r을 사용하는게 일반적\n",
    "\n",
    "# match(패턴,문자열) : 문자열이 패턴으로 시작하는지 확인\n",
    "#                  : 뒤에 group()까지 해야 해당 문자열로 반환, 없으면 match 객체로 반환\n",
    "#                  : group으로 반환시, 해당 패턴으로 시작하지 않으면 에러(AttributeError)                  \n",
    "\n",
    "pattern= r'Life'\n",
    "script1= 'Life is bad'\n",
    "\n",
    "print(re.match(pattern,script1))\n",
    "print(re.match(pattern,script1).group())\n",
    "\n",
    "\n"
   ]
  },
  {
   "cell_type": "code",
   "execution_count": 5,
   "id": "ce377db9",
   "metadata": {},
   "outputs": [
    {
     "name": "stdout",
     "output_type": "stream",
     "text": [
      "None\n"
     ]
    },
    {
     "ename": "AttributeError",
     "evalue": "'NoneType' object has no attribute 'group'",
     "output_type": "error",
     "traceback": [
      "\u001b[31m---------------------------------------------------------------------------\u001b[39m",
      "\u001b[31mAttributeError\u001b[39m                            Traceback (most recent call last)",
      "\u001b[36mCell\u001b[39m\u001b[36m \u001b[39m\u001b[32mIn[5]\u001b[39m\u001b[32m, line 4\u001b[39m\n\u001b[32m      1\u001b[39m \u001b[38;5;66;03m# match()는 문자열에 해당 패턴이 있더라도 시작하는 문자열이 아니면 반환 못함\u001b[39;00m\n\u001b[32m      3\u001b[39m \u001b[38;5;28mprint\u001b[39m(re.match(\u001b[33m'\u001b[39m\u001b[33mis\u001b[39m\u001b[33m'\u001b[39m,script1))\n\u001b[32m----> \u001b[39m\u001b[32m4\u001b[39m \u001b[38;5;28mprint\u001b[39m(\u001b[43mre\u001b[49m\u001b[43m.\u001b[49m\u001b[43mmatch\u001b[49m\u001b[43m(\u001b[49m\u001b[33;43m'\u001b[39;49m\u001b[33;43mis\u001b[39;49m\u001b[33;43m'\u001b[39;49m\u001b[43m,\u001b[49m\u001b[43mscript1\u001b[49m\u001b[43m)\u001b[49m\u001b[43m.\u001b[49m\u001b[43mgroup\u001b[49m())\n",
      "\u001b[31mAttributeError\u001b[39m: 'NoneType' object has no attribute 'group'"
     ]
    }
   ],
   "source": [
    "# match()는 문자열에 해당 패턴이 있더라도 시작하는 문자열이 아니면 반환 못함\n",
    "\n",
    "print(re.match('is',script1))\n",
    "print(re.match('is',script1).group())\n"
   ]
  },
  {
   "cell_type": "code",
   "execution_count": 1,
   "id": "8d47a6b9",
   "metadata": {},
   "outputs": [
    {
     "ename": "NameError",
     "evalue": "name 'pattern' is not defined",
     "output_type": "error",
     "traceback": [
      "\u001b[31m---------------------------------------------------------------------------\u001b[39m",
      "\u001b[31mNameError\u001b[39m                                 Traceback (most recent call last)",
      "\u001b[36mCell\u001b[39m\u001b[36m \u001b[39m\u001b[32mIn[1]\u001b[39m\u001b[32m, line 8\u001b[39m\n\u001b[32m      5\u001b[39m     \u001b[38;5;28;01melse\u001b[39;00m : \n\u001b[32m      6\u001b[39m         \u001b[38;5;28mprint\u001b[39m(\u001b[33m'\u001b[39m\u001b[33mnot match!\u001b[39m\u001b[33m'\u001b[39m)\n\u001b[32m----> \u001b[39m\u001b[32m8\u001b[39m refinder(\u001b[43mpattern\u001b[49m,script1)\n\u001b[32m      9\u001b[39m refinder(\u001b[33m'\u001b[39m\u001b[33mis\u001b[39m\u001b[33m'\u001b[39m,script1)\n",
      "\u001b[31mNameError\u001b[39m: name 'pattern' is not defined"
     ]
    }
   ],
   "source": [
    "# match() 사용 시, 해당 문자열로 시작하는지 확인하는 편이 좋음\n",
    "def refinder(pattern,script1) :\n",
    "    if(re.match(pattern,script1)) :\n",
    "        print('match!',re.match(pattern,script1).group())\n",
    "    else : \n",
    "        print('not match!')\n",
    "\n",
    "refinder(pattern,script1)\n",
    "refinder('is',script1)\n"
   ]
  },
  {
   "cell_type": "code",
   "execution_count": 7,
   "id": "0782b29a",
   "metadata": {},
   "outputs": [
    {
     "name": "stdout",
     "output_type": "stream",
     "text": [
      "<re.Match object; span=(5, 7), match='is'>\n",
      "is\n",
      "(5, 7)\n",
      "i\n",
      "(1, 2)\n"
     ]
    }
   ],
   "source": [
    "# search(패턴, 문자열) : 모든 구간에 대해 패턴이 있는지 확인\n",
    "\n",
    "print(re.search('is',script1))\n",
    "print(re.search('is',script1).group())\n",
    "\n",
    "print(re.search('is',script1).span())\n",
    "# span()으로 해당 패턴의 위치를 알 수도 있네.\n",
    "\n",
    "print(re.search('i',script1).group())\n",
    "print(re.search('i',script1).span())\n",
    "# 근데 해당 패턴의 여럿이 있어도 처음 것밖에 확인을 못하네.."
   ]
  },
  {
   "cell_type": "code",
   "execution_count": 8,
   "id": "2c5cac19",
   "metadata": {},
   "outputs": [
    {
     "name": "stdout",
     "output_type": "stream",
     "text": [
      "['Life']\n",
      "[]\n"
     ]
    }
   ],
   "source": [
    "# findall(패턴,문자열) : 해당 패턴들을 찾아 리스트 생성. 패턴이 없으면 빈 리스트 생성\n",
    "\n",
    "print(re.findall(pattern,script1))\n",
    "print(re.findall('not',script1))"
   ]
  },
  {
   "cell_type": "code",
   "execution_count": 9,
   "id": "734dff95",
   "metadata": {},
   "outputs": [
    {
     "name": "stdout",
     "output_type": "stream",
     "text": [
      "['9aaa1년생이고, 97년에는 IMF가 있었습니다. 지금은 2025년']\n",
      "['1년', '97년', '2025년']\n",
      "['1년', '97년', '2025년']\n",
      "['9aaa1년', '97년', '2025년']\n",
      "['97년', '2025년']\n"
     ]
    }
   ],
   "source": [
    "# *를 통해 0회이상 반복하는 것 출력 가능\n",
    "# +를 통해 1회이상 반복하는 것 출력 가능\n",
    "# .+를 통해 .을 +로 반복해 사이의 모든 문자를 출력\n",
    "# ?를 통해 0 또는 1회 나타나는 것 출력 가능\n",
    "\n",
    "e1 ='저는 9aaa1년생이고, 97년에는 IMF가 있었습니다. 지금은 2025년입니다.'\n",
    "\n",
    "pattern=r'\\d.+년' # .+ => greedy (모든 문자를 집어 삼킴)\n",
    "print(re.findall(pattern,e1))\n",
    "pattern=r'\\d+년'\n",
    "print(re.findall(pattern,e1))\n",
    "pattern=r'\\d*년'\n",
    "print(re.findall(pattern,e1))\n",
    "\n",
    "pattern=r'\\d.+?년'\n",
    "print(re.findall(pattern,e1))\n",
    "pattern=r'\\d+.년'\n",
    "print(re.findall(pattern,e1))"
   ]
  },
  {
   "cell_type": "code",
   "execution_count": null,
   "id": "224a0f3d",
   "metadata": {},
   "outputs": [
    {
     "name": "stdout",
     "output_type": "stream",
     "text": [
      "[\"Monica: There's nothing to tell\", \" He's just some guy I work with\", '', \"Joey: C'mon, you're going out with the guy\", \" There's gotta be something wrong with him\", '', 'Chandler: All right Joey, be nice', '  So does he have a hump', ' A hump and a hairpiece', '', 'Phoebe: Wait, does he eat chalk', '']\n"
     ]
    }
   ],
   "source": [
    "sentence='''Monica: There's nothing to tell! He's just some guy I work with!\n",
    "Joey: C'mon, you're going out with the guy! There's gotta be something wrong with him!\n",
    "Chandler: All right Joey, be nice.  So does he have a hump? A hump and a hairpiece?\n",
    "Phoebe: Wait, does he eat chalk?'''\n",
    "\n",
    "data=re.split(r'[!?.\\n]',sentence)\n",
    "print(data)"
   ]
  },
  {
   "cell_type": "code",
   "execution_count": 11,
   "id": "d8dff1e9",
   "metadata": {},
   "outputs": [
    {
     "name": "stdout",
     "output_type": "stream",
     "text": [
      "[['a', '3'], ['b', '4'], ['c', '5']]\n",
      "['a', '3']\n",
      "['b', '4']\n",
      "['c', '5']\n"
     ]
    }
   ],
   "source": [
    "data='a:3;b:4;c:5'\n",
    "listdata=[re.split(r':',i)for i in re.split(r';',data)]\n",
    "print(listdata)\n",
    "\n",
    "for i in re.split(r';',data):\n",
    "    print(re.split(r':',i))"
   ]
  },
  {
   "cell_type": "code",
   "execution_count": 12,
   "id": "423f0f45",
   "metadata": {},
   "outputs": [
    {
     "name": "stdout",
     "output_type": "stream",
     "text": [
      "I am home now.\n",
      "\n",
      "\n",
      "\n",
      "I am with my cat\n",
      "I am home now.I am with my cat\n"
     ]
    }
   ],
   "source": [
    "words='I am home now.\\n\\n\\n\\nI am with my cat'\n",
    "print(words)\n",
    "print(re.sub(r'\\n','',words))"
   ]
  },
  {
   "cell_type": "code",
   "execution_count": null,
   "id": "db39e443",
   "metadata": {},
   "outputs": [
    {
     "name": "stdout",
     "output_type": "stream",
     "text": [
      "Monica: There's nothing to tell! He's just some guy I work with!\n",
      "Monica: Okay, everybody relax. This is not even a date. It's just two people going out to dinner and- not having sex.\n",
      "Monica: And they weren't looking at you before?!\n"
     ]
    }
   ],
   "source": [
    "# Monica의 대사만 출력\n",
    "\n",
    "pattern=r'Monica: .+'\n",
    "\n",
    "with open('friends101.txt','r+',encoding='utf-8') as friend :\n",
    "    script101=friend.read()\n",
    "    # print(script101[:100])\n",
    "    line=re.findall(pattern,script101)\n",
    "    # print(line[:3]) # 너무 길어 3줄만 출력\n",
    "    for m in line[:3]: \n",
    "        print(m) # 한줄씩 개행하며 출력\n",
    "\n"
   ]
  },
  {
   "cell_type": "code",
   "execution_count": null,
   "id": "d4f15f7a",
   "metadata": {},
   "outputs": [],
   "source": [
    "# Monica의 대사 텍스트 파일 생성\n",
    "\n",
    "f=open('Monica.txt','w')\n",
    "monica=''\n",
    "\n",
    "for i in line:\n",
    "    monica+=i+'\\n'\n",
    "\n",
    "f.write(monica)\n",
    "f.close()"
   ]
  },
  {
   "cell_type": "code",
   "execution_count": null,
   "id": "572e2965",
   "metadata": {},
   "outputs": [
    {
     "name": "stdout",
     "output_type": "stream",
     "text": [
      "['Ross', 'Note', 'Frannie', 'Rachel', 'Paul', 'Waitress', 'All', 'Monica', 'Joey', 'Scene', 'Phoebe', 'Customer', 'Chandler']\n"
     ]
    }
   ],
   "source": [
    "# 등장인물 목록 출력\n",
    "\n",
    "# f= open('friends101.txt','r+',encoding='utf-8')\n",
    "# script101=f.read()\n",
    "\n",
    "# char=r'[A-Z][a-z]+:'\n",
    "# human=re.findall(char,script101)\n",
    "# print(human)\n",
    "# set_human=set(human)\n",
    "# print(set_human)\n",
    "\n",
    "# human=set(re.findall(char,script101))\n",
    "# print(human)\n",
    "# list_human=list(human)\n",
    "# character=[]\n",
    "\n",
    "# for i in list_human:\n",
    "#     character+=[i[:-1]]\n",
    "# print(character)\n",
    "\n",
    "character=[i[:-1] for i in list(set(re.findall(r'[A-Z][a-z]+:',open('friends101.txt','r+',encoding='utf-8').read())))]\n",
    "print(character)"
   ]
  },
  {
   "cell_type": "code",
   "execution_count": null,
   "id": "adb2e151",
   "metadata": {},
   "outputs": [],
   "source": [
    "# 지문 (: ()안의 내용) 만 출력\n",
    "\n",
    "char=r'\\(.+\\)'\n"
   ]
  },
  {
   "cell_type": "code",
   "execution_count": null,
   "id": "ee4bb178",
   "metadata": {},
   "outputs": [
    {
     "name": "stdout",
     "output_type": "stream",
     "text": [
      "['(The Pilot-The Uncut Version)', '(Note: The previously unseen parts of this episode are shown in blue text.)', '(They all stare, bemused.)']\n"
     ]
    }
   ],
   "source": [
    "# class\n",
    "# 지문만 출력하기\n",
    "# r'\\([A-Za-z].+[a-z|.]\\)'\n",
    "\n",
    "direction = re.findall(r'''\n",
    "                       \\(\n",
    "                       [A-Za-z]\n",
    "                       .+\n",
    "                       [a-z|\n",
    "                       .]\n",
    "                       \\)''', script101, re.VERBOSE)\n",
    "# 정규표현식에 컴파일시 자동으로 제거되는 공백\"\n",
    "\n",
    "print(direction[0:3])"
   ]
  },
  {
   "cell_type": "code",
   "execution_count": null,
   "id": "7f02dbd3",
   "metadata": {},
   "outputs": [],
   "source": [
    "# 특정 단어의 예문만 파일로 추출\n",
    "\n",
    "input_word=input('찾을 단어를 입력하세요')\n",
    "f = open('friends101.txt','r')\n",
    "sentence=f.readlines()\n",
    "f.close()\n",
    "\n",
    "data = [i for i in sentence if re.match(r'[A-Z][a-z]+:',i) and re.search(input_word,i)]\n",
    "# 입력받은 단어를 파일명으로 해서 txt문서에 data 저장\n",
    "\n",
    "f = open(input_word+'.txt','w')\n",
    "f.writelines(data)\n",
    "f.close()\n",
    "\n",
    "\n"
   ]
  },
  {
   "cell_type": "code",
   "execution_count": null,
   "id": "1c890ffc",
   "metadata": {},
   "outputs": [
    {
     "name": "stdout",
     "output_type": "stream",
     "text": [
      "Monica: There's nothing to tell! He's just some guy I work with!\n",
      "Monica: Okay, everybody relax. This is not even a date. It's just two people going out to dinner and- not having sex.\n",
      "Monica: And they weren't looking at you before?!\n",
      "Monica: Are you okay, sweetie?\n",
      "Monica: (explaining to the others) Carol moved her stuff out today.\n",
      "Monica: (to Ross) Let me get you some coffee.\n",
      "Monica: No you don't.\n",
      "Monica: Oh really, so that hysterical phone call I got from a woman at sobbing 3:00 A.M., \"I'll never have grandchildren, I'll never have grandchildren.\" was what?  A wrong number?\n",
      "Monica: Rachel?!\n",
      "Monica: (pointing at Rachel) De-caff. (to All) Okay, everybody, this is Rachel, another Lincoln High survivor. (to Rachel) This is everybody, this is Chandler, and Phoebe, and Joey, and- you remember my brother Ross?\n",
      "Monica: So you wanna tell us now, or are we waiting for four wet bridesmaids?\n",
      "Monica: Who wasn't invited to the wedding.\n",
      "Monica: Now I'm guessing that he bought her the big pipe organ, and she's really not happy about it.\n",
      "Monica: Well, I guess we've established who's staying here with Monica...\n",
      "Monica: Just breathe, breathe.. that's it. Just try to think of nice calm things...\n",
      "Monica: Okay, look, this is probably for the best, y'know? Independence. Taking control of your life.  The whole, 'hat' thing.\n",
      "Monica: Joey, stop hitting on her! It's her wedding day!\n",
      "Monica: Oh God, is it 6:30?  Buzz him in!\n",
      "Monica: Maybe. Joey: Wait. Your 'not a real date' tonight is with Paul the Wine Guy?\n",
      "Monica: Yes!\n",
      "Monica: Rach, wait, I can cancel...\n",
      "Monica: (to Ross) Are, are you okay? I mean, do you want me to stay?\n",
      "Monica: (horrified) Really?\n",
      "Monica: Hi, come in! Paul, this is.. (They are all lined up next to the door.)... everybody, everybody, this is Paul.\n",
      "Monica: Okay, umm-umm, I'll just--I'll be right back, I just gotta go ah, go ah...\n",
      "Monica: Change!  Okay, sit down. (Shows Paul in) Two seconds.\n",
      "Monica: (yelling from the bedroom) Shut up, Joey!\n",
      "Monica: Oh my God!\n",
      "Monica: My brother's going through that right now, he's such a mess. How did you get through it?\n",
      "Monica: -leg?\n",
      "Monica: You actually broke her watch?  Wow!  The worst thing I ever did was, I-I shredded by boyfriend's favorite bath towel.\n",
      "Monica: That's right. [Scene: Monica's Apartment, Rachel is talking on the phone and pacing.]\n",
      "Monica: What?..... What, you wanna spell it out with noodles?\n",
      "Monica: Oh, so there is gonna be a fifth date?\n",
      "Monica: Yeah... yeah, I think there is. -What were you gonna say?\n",
      "Monica: (spitting out her drink in shock) Oh God, oh God, I am sorry... I am so sorry...\n",
      "Monica: I know being spit on is probably not what you need right now. Um... how long?\n",
      "Monica: Wow! I'm-I'm-I'm glad you smashed her watch!\n",
      "Monica: (pause)...Yeah. Yeah, I do.\n",
      "Monica: (entering, to herself) Oh good, Lenny and Squigy are here.\n",
      "Monica: Stop!\n",
      "Monica: We'll talk later.\n",
      "Monica: Shut up, and put my table back.\n",
      "Monica: Yeah, we all have jobs. See, that's how we buy stuff.\n",
      "Monica: Oh wait, wait, unless you happened to catch the Reruns' production of Pinocchio, at the little theater in the park.\n",
      "Monica: So how you doing today? Did you sleep okay? Talk to Barry? I can't stop smiling.\n",
      "Monica: I know, he's just so, so... Do you remember you and Tony DeMarco?\n",
      "Monica: Well, it's like that. With feelings.\n",
      "Monica: Big time!\n",
      "Monica: I think we are getting a little ahead of selves here. Okay. Okay. I am just going to get up, go to work and not think about him all day. Or else I'm just gonna get up and go to work.\n",
      "Monica: What for?\n",
      "Monica: Hey Frannie, welcome back! How was Florida?\n",
      "Monica: How do you do that?\n",
      "Monica: You know Paul?\n",
      "Monica: You mean you know Paul like I know Paul?\n",
      "Monica: Why?! Why? Why, why would anybody do something like that?\n",
      "Monica: I hate men!  I hate men!\n",
      "Monica: Is it me? Is it like I have some sort of beacon that only dogs and men with severe emotional problems can hear?\n",
      "Monica: I just thought he was nice, y'know?\n",
      "Monica: How'd you pay for them?\n",
      "Monica: And who pays for that?\n",
      "Monica: C'mon, you can't live off your parents your whole life.\n",
      "Monica: All right, you ready?\n",
      "Monica: You can, I know you can!\n",
      "Monica:  Rachel!  That was a library card!\n",
      "Monica: Welcome to the real world! It sucks. You're gonna love it!\n",
      "Monica: Well, that's it (To Ross) You gonna crash on the couch?\n",
      "Monica: You be okay?\n",
      "Monica: That's Paul's watch. You just put it back where you found it. Oh boy. Alright. Goodnight, everybody.\n",
      "Monica: See ya.... Waitwait, what's with you?\n",
      "Monica: What? I-I said you had a-\n",
      "Monica: (to Phoebe) Would you stop?\n",
      "Monica: I said that you had a nice butt, it's just not a great butt.\n",
      "--------------------------------\n",
      "Monica:There's nothing to tell! He's just some guy I work with! \n",
      "---\n",
      "Monica:Okay, everybody relax. This is not even a date. It's just two people going out to dinner and- not having sex. \n",
      "---\n",
      "Monica:And they weren't looking at you before?! \n",
      "---\n"
     ]
    }
   ],
   "source": [
    "# GPT\n",
    "# 1️⃣ Monica: 로 시작하는 \"한 줄만\" 가져오기\n",
    "import re\n",
    "\n",
    "pattern = r'^Monica: .+'\n",
    "\n",
    "with open('friends101.txt','r',encoding='utf-8') as f:\n",
    "    lines = f.readlines()   # 줄 단위 리스트\n",
    "    for line in lines:\n",
    "        if re.match(pattern, line):\n",
    "            print(line.strip())\n",
    "\n",
    "print('--------------------------------')\n",
    "# 2️⃣ Monica의 \"여러 줄 대사 전체\" 가져오기\n",
    "import re\n",
    "\n",
    "with open('friends101.txt','r',encoding='utf-8') as f:\n",
    "    script = f.read()\n",
    "\n",
    "pattern = r'Monica:([\\s\\S]+?)(?=\\n[A-Z][a-z]+:|\\Z)'  \n",
    "# Monica: 로 시작 → 그 뒤 모든 줄 포함 → 다음 사람이 나오기 전까지\n",
    "\n",
    "lines = re.findall(pattern, script)\n",
    "\n",
    "for m in lines[:3]:  # 앞의 3개만 예시 출력\n",
    "    print(\"Monica:\" + m.strip(), \"\\n---\")\n"
   ]
  },
  {
   "cell_type": "code",
   "execution_count": null,
   "id": "7e5985ee",
   "metadata": {},
   "outputs": [],
   "source": []
  }
 ],
 "metadata": {
  "kernelspec": {
   "display_name": "analysis",
   "language": "python",
   "name": "python3"
  },
  "language_info": {
   "codemirror_mode": {
    "name": "ipython",
    "version": 3
   },
   "file_extension": ".py",
   "mimetype": "text/x-python",
   "name": "python",
   "nbconvert_exporter": "python",
   "pygments_lexer": "ipython3",
   "version": "3.13.3"
  }
 },
 "nbformat": 4,
 "nbformat_minor": 5
}
