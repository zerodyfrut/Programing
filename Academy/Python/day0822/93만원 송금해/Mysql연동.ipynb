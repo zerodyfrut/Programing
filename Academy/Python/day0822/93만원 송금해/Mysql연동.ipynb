{
 "cells": [
  {
   "cell_type": "code",
   "execution_count": null,
   "id": "6259cb83",
   "metadata": {},
   "outputs": [],
   "source": [
    "import pymysql\n",
    "\n",
    "db = pymysql.connect(\n",
    "  host='localhost',\n",
    "  port=3306, # DB 포트번호\n",
    "  user='pytest',\n",
    "  password='pytest',\n",
    "  database='pytest',\n",
    "  charset='utf8'\n",
    ")\n",
    "cursor = db.cursor() # 커서 객체 생성 -> SQL 쿼리문 수행\n",
    "\n",
    "sql = 'SELECT * FROM dept'\n",
    "\n",
    "cursor.execute(sql) # execute(): SQL 쿼리문 실행\n",
    "\n",
    "rows = cursor.fetchall() # fetchall(): 쿼리문 실행 결과를 모두 가져옴\n",
    "for row in rows:\n",
    "  print(row)\n",
    "\n",
    "db.close()"
   ]
  },
  {
   "cell_type": "code",
   "execution_count": null,
   "id": "174905a9",
   "metadata": {},
   "outputs": [],
   "source": [
    "def max_deptno(db, cursor):\n",
    "  sql = 'SELECT MAX(deptno)+10 FROM dept'\n",
    "  cursor.execute(sql)\n",
    "  row = cursor.fetchone()\n",
    "  if (row):\n",
    "    return row[0]\n",
    "\n",
    "def insert(db, cursor, deptno):\n",
    "  dname = input('부서명')\n",
    "  loc = input('근무지')\n",
    "  dept_info = (int(deptno), dname, loc)\n",
    "  insert_sql = 'INSERT INTO dept VALUES (%s, %s, %s)'\n",
    "  cursor.execute(insert_sql, dept_info)\n",
    "  db.commit()\n",
    "  print(cursor.rowcount, \"개의 레코드가 추가되었습니다.\")"
   ]
  },
  {
   "cell_type": "code",
   "execution_count": null,
   "id": "7f41bbc4",
   "metadata": {},
   "outputs": [
    {
     "name": "stdout",
     "output_type": "stream",
     "text": [
      "(50,)\n"
     ]
    },
    {
     "ename": "TypeError",
     "evalue": "int() argument must be a string, a bytes-like object or a real number, not 'tuple'",
     "output_type": "error",
     "traceback": [
      "\u001b[31m---------------------------------------------------------------------------\u001b[39m",
      "\u001b[31mTypeError\u001b[39m                                 Traceback (most recent call last)",
      "\u001b[36mCell\u001b[39m\u001b[36m \u001b[39m\u001b[32mIn[26]\u001b[39m\u001b[32m, line 14\u001b[39m\n\u001b[32m     11\u001b[39m cursor = db.cursor()\n\u001b[32m     13\u001b[39m deptno = max_deptno(db, cursor)\n\u001b[32m---> \u001b[39m\u001b[32m14\u001b[39m \u001b[43minsert\u001b[49m\u001b[43m(\u001b[49m\u001b[43mdb\u001b[49m\u001b[43m,\u001b[49m\u001b[43m \u001b[49m\u001b[43mcursor\u001b[49m\u001b[43m,\u001b[49m\u001b[43m \u001b[49m\u001b[43mdeptno\u001b[49m\u001b[43m)\u001b[49m\n\u001b[32m     15\u001b[39m \u001b[38;5;28mprint\u001b[39m(deptno)\n\u001b[32m     17\u001b[39m db.close()\n",
      "\u001b[36mCell\u001b[39m\u001b[36m \u001b[39m\u001b[32mIn[24]\u001b[39m\u001b[32m, line 14\u001b[39m, in \u001b[36minsert\u001b[39m\u001b[34m(db, cursor, deptno)\u001b[39m\n\u001b[32m     12\u001b[39m dname = \u001b[38;5;28minput\u001b[39m(\u001b[33m'\u001b[39m\u001b[33m부서명\u001b[39m\u001b[33m'\u001b[39m)\n\u001b[32m     13\u001b[39m loc = \u001b[38;5;28minput\u001b[39m(\u001b[33m'\u001b[39m\u001b[33m근무지\u001b[39m\u001b[33m'\u001b[39m)\n\u001b[32m---> \u001b[39m\u001b[32m14\u001b[39m dept_info = (\u001b[38;5;28;43mint\u001b[39;49m\u001b[43m(\u001b[49m\u001b[43mdeptno\u001b[49m\u001b[43m)\u001b[49m, dname, loc)\n\u001b[32m     15\u001b[39m insert_sql = \u001b[33m'\u001b[39m\u001b[33mINSERT INTO dept VALUES (\u001b[39m\u001b[38;5;132;01m%s\u001b[39;00m\u001b[33m, \u001b[39m\u001b[38;5;132;01m%s\u001b[39;00m\u001b[33m, \u001b[39m\u001b[38;5;132;01m%s\u001b[39;00m\u001b[33m)\u001b[39m\u001b[33m'\u001b[39m\n\u001b[32m     16\u001b[39m cursor.execute(insert_sql, dept_info)\n",
      "\u001b[31mTypeError\u001b[39m: int() argument must be a string, a bytes-like object or a real number, not 'tuple'"
     ]
    }
   ],
   "source": [
    "import pymysql\n",
    "\n",
    "db = pymysql.connect(\n",
    "  host='localhost',\n",
    "  port=3306, # DB 포트번호\n",
    "  user='pytest',\n",
    "  password='pytest',\n",
    "  database='pytest',\n",
    "  charset='utf8'\n",
    ")\n",
    "cursor = db.cursor()\n",
    "\n",
    "deptno = max_deptno(db, cursor)\n",
    "insert(db, cursor, deptno)\n",
    "# print(deptno)\n",
    "\n",
    "db.close()"
   ]
  }
 ],
 "metadata": {
  "kernelspec": {
   "display_name": "analysis",
   "language": "python",
   "name": "python3"
  },
  "language_info": {
   "codemirror_mode": {
    "name": "ipython",
    "version": 3
   },
   "file_extension": ".py",
   "mimetype": "text/x-python",
   "name": "python",
   "nbconvert_exporter": "python",
   "pygments_lexer": "ipython3",
   "version": "3.13.3"
  }
 },
 "nbformat": 4,
 "nbformat_minor": 5
}
