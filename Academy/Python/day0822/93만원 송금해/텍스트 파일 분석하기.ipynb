{
 "cells": [
  {
   "cell_type": "markdown",
   "id": "4d9b0bad",
   "metadata": {},
   "source": [
    "##### 디렉터리, 파일 경로"
   ]
  },
  {
   "cell_type": "code",
   "execution_count": null,
   "id": "6cc12a6d",
   "metadata": {},
   "outputs": [],
   "source": [
    "import os\n",
    "\n",
    "# 현재 위치\n",
    "os.getcwd()"
   ]
  },
  {
   "cell_type": "code",
   "execution_count": null,
   "id": "325efda7",
   "metadata": {},
   "outputs": [],
   "source": [
    "# 현재 위치에 있는 파일과 폴더 목록 출력\n",
    "print(os.listdir())"
   ]
  },
  {
   "cell_type": "code",
   "execution_count": null,
   "id": "1b04fc62",
   "metadata": {},
   "outputs": [],
   "source": [
    "# 위치 이동\n",
    "os.chdir(r'F:\\python')\n",
    "print(os.getcwd())\n",
    "\n",
    "os.chdir(r'F:\\python\\data_analysis\\analysis\\txt')\n",
    "print(os.getcwd())"
   ]
  },
  {
   "cell_type": "markdown",
   "id": "febf83fd",
   "metadata": {},
   "source": [
    "##### 문자열 찾기\n",
    "<style>\n",
    "@import url('https://fonts.googleapis.com/css2?family=Edu+NSW+ACT+Cursive:wght@400..700&display=swap');\n",
    "p {\n",
    "  font-family: \"Edu NSW ACT Cursive\", cursive;\n",
    "  font-optical-sizing: auto;\n",
    "  font-weight: <weight>;\n",
    "  font-style: normal;\n",
    "}\n",
    "</style>\n",
    "<p></p>"
   ]
  },
  {
   "cell_type": "markdown",
   "id": "e7f02358",
   "metadata": {},
   "source": [
    "정규 표현식 re  \n",
    "re 모듈을 임포트해 정규표현식 사용 가능"
   ]
  },
  {
   "cell_type": "markdown",
   "id": "614669f9",
   "metadata": {},
   "source": [
    "######\n",
    "<style>\n",
    "  th {\n",
    "    background-color: lightgray;\n",
    "    color: black;\n",
    "  }\n",
    "</style>\n",
    "<table>\n",
    "  <tr>\n",
    "    <th style=\"border: 1px solid lightgray\">\n",
    "      match( )\n",
    "    </th>\n",
    "    <td>\n",
    "      문자열 도입에서 패턴 찾기\n",
    "    </td>\n",
    "  </tr>\n",
    "</table>"
   ]
  },
  {
   "cell_type": "code",
   "execution_count": null,
   "id": "20a22e6e",
   "metadata": {},
   "outputs": [],
   "source": [
    "import re\n",
    "\n",
    "pattern = 'Life'\n",
    "script1 = 'Life is cool'\n",
    "\n",
    "print(re.match(pattern, script1))\n",
    "print(re.match(pattern, script1).group())"
   ]
  },
  {
   "cell_type": "code",
   "execution_count": null,
   "id": "35be898e",
   "metadata": {},
   "outputs": [],
   "source": [
    "print(re.match('is', script1))\n",
    "# 시작 부분이 'is'로 시작하지 않기 때문에 None이 반환\n",
    "print(re.match('is', script1).group())"
   ]
  },
  {
   "cell_type": "code",
   "execution_count": null,
   "id": "dc35e7c1",
   "metadata": {},
   "outputs": [],
   "source": [
    "def refinder(pattern, script):\n",
    "  if re.match(pattern, script):\n",
    "    print('match!!', re.match(pattern, script).group())\n",
    "  else:\n",
    "    print('not match!!')\n",
    "\n",
    "refinder(pattern, script1)\n",
    "refinder(pattern, 'ZZZZZZ')"
   ]
  },
  {
   "cell_type": "markdown",
   "id": "e1bdbcbc",
   "metadata": {},
   "source": [
    "######\n",
    "<style>\n",
    "  th {\n",
    "    background-color: lightgray;\n",
    "    color: black;\n",
    "  }\n",
    "</style>\n",
    "<table>\n",
    "  <tr>\n",
    "    <th style=\"border: 1px solid lightgray\">\n",
    "      search( )\n",
    "    </th>\n",
    "    <td>\n",
    "      문자열 전체에서 패턴 찾기\n",
    "    </td>\n",
    "  </tr>\n",
    "</table>"
   ]
  },
  {
   "cell_type": "code",
   "execution_count": null,
   "id": "b2c5108c",
   "metadata": {},
   "outputs": [],
   "source": [
    "print(re.search('is', script1))\n",
    "print(re.search('is', script1).group())"
   ]
  },
  {
   "cell_type": "markdown",
   "id": "59c29762",
   "metadata": {},
   "source": [
    "######\n",
    "<style>\n",
    "  th {\n",
    "    background-color: lightgray;\n",
    "    color: black;\n",
    "  }\n",
    "</style>\n",
    "<table>\n",
    "  <tr>\n",
    "    <th style=\"border: 1px solid lightgray\">\n",
    "      findall( )\n",
    "    </th>\n",
    "    <td>\n",
    "      패턴을 모두 찾아 리스트로 반환하기\n",
    "    </td>\n",
    "  </tr>\n",
    "</table>"
   ]
  },
  {
   "cell_type": "code",
   "execution_count": null,
   "id": "2a09f6c9",
   "metadata": {},
   "outputs": [],
   "source": [
    "print(re.findall(pattern, script1))\n",
    "print(re.findall('없는 거', script1))"
   ]
  },
  {
   "cell_type": "code",
   "execution_count": null,
   "id": "41f5c561",
   "metadata": {},
   "outputs": [],
   "source": [
    "e1 = '저는 91년생이고 97년에는 IMF가 있었습니다. 지금은 2025년입니다.'\n",
    "# ~년(년도)라는 패턴을 찾아서 출력\n",
    "\n",
    "print(re.findall(r'\\d.+년', e1))\n",
    "# .+: 1개 이상의 문자(greedy 패턴: 모든 문자를 집어삼킴) ※ 주의해서 사용\n",
    "\n",
    "print(re.findall(r'\\d+년', e1))\n",
    "print(re.findall(r'\\d.+?년', e1))\n",
    "print(re.findall(r'\\d+.년', e1))"
   ]
  },
  {
   "cell_type": "markdown",
   "id": "1f216ef7",
   "metadata": {},
   "source": [
    "######\n",
    "<style>\n",
    "  th {\n",
    "    background-color: lightgray;\n",
    "    color: black;\n",
    "  }\n",
    "</style>\n",
    "<table>\n",
    "  <tr>\n",
    "    <th style=\"border: 1px solid lightgray\">\n",
    "      split( )\n",
    "    </th>\n",
    "    <td>\n",
    "      문장 나누는 패턴 만들기\n",
    "    </td>\n",
    "  </tr>\n",
    "</table>"
   ]
  },
  {
   "cell_type": "code",
   "execution_count": null,
   "id": "efd8f861",
   "metadata": {},
   "outputs": [],
   "source": [
    "data = 'a:3; b:4; c:5'\n",
    "\n",
    "for i in re.split(r';', data):\n",
    "  print(i, type(i))\n",
    "  text = re.split(r':', i)\n",
    "  print(text, type(text))\n",
    "  print()\n",
    "\n",
    "listdata = [re.split(r':', i) for i in re.split(r';', data)]\n",
    "print(listdata)"
   ]
  },
  {
   "cell_type": "markdown",
   "id": "7e95d850",
   "metadata": {},
   "source": [
    "######\n",
    "<style>\n",
    "  th {\n",
    "    background-color: lightgray;\n",
    "    color: black;\n",
    "  }\n",
    "</style>\n",
    "<table>\n",
    "  <tr>\n",
    "    <th style=\"border: 1px solid lightgray\">\n",
    "      sub( )\n",
    "    </th>\n",
    "    <td>\n",
    "      문자열 바꾸기 \n",
    "    </td>\n",
    "  </tr>\n",
    "</table>"
   ]
  },
  {
   "cell_type": "code",
   "execution_count": null,
   "id": "e666c339",
   "metadata": {},
   "outputs": [],
   "source": [
    "sentence = 'I love a lovely dog, really. I am not telling a lie. What a pretty dog! I love this dog.'\n",
    "re.sub(r'dog', 'cat', sentence)"
   ]
  },
  {
   "cell_type": "code",
   "execution_count": null,
   "id": "ea28b614",
   "metadata": {},
   "outputs": [],
   "source": [
    "words = 'I am home now.\\n\\n\\nI am with my cat.\\n\\n'\n",
    "print(words)\n",
    "\n",
    "before_words = re.sub(r'\\n\\n', '', words)\n",
    "print(before_words)"
   ]
  },
  {
   "cell_type": "markdown",
   "id": "0220078d",
   "metadata": {},
   "source": [
    "######\n",
    "<style>\n",
    "  @import './css.css';\n",
    "  th {\n",
    "    background-color: lightgray;\n",
    "    color: black;\n",
    "  }\n",
    "</style>\n",
    "<table>\n",
    "  <tr>\n",
    "    <th style=\"border: 1px solid lightgray\">\n",
    "      드라마 대본\n",
    "    </th>\n",
    "    <td>\n",
    "      텍스트 파일 가공하기 \n",
    "    </td>\n",
    "  </tr>\n",
    "</table>\n",
    "<br>\n",
    "<blockquote>\n",
    "  <a href=\"https://fangj.github.io/friends/\">\n",
    "  <button>freinds 대본</button></a>\n",
    "</blockquote>"
   ]
  },
  {
   "cell_type": "code",
   "execution_count": null,
   "id": "da4cff32",
   "metadata": {},
   "outputs": [],
   "source": [
    "with open('../../../데이터 분석/friends101.txt', 'r', encoding='utf-8') as file:\n",
    "  words = file.read()\n",
    "\n",
    "# 전체 텍스트\n",
    "print(words[:])"
   ]
  },
  {
   "cell_type": "code",
   "execution_count": null,
   "id": "72c0bb43",
   "metadata": {},
   "outputs": [],
   "source": [
    "# 특정 등장인물의 대사만 모으기\n",
    "# Monica\n",
    "monica_text = re.findall(r'Monica:.+', words)\n",
    "for mlist in monica_text:\n",
    "  print(mlist)\n",
    "\n",
    "with open('monica.txt', 'w') as f:\n",
    "  monica = ''\n",
    "  for i in monica_text:\n",
    "    monica += i + '\\n'\n",
    "    f.write(monica)"
   ]
  },
  {
   "cell_type": "code",
   "execution_count": null,
   "id": "85f99c2d",
   "metadata": {},
   "outputs": [],
   "source": [
    "# 등장인물 리스트 만들기\n",
    "char = re.compile(r'[A-Z][a-z]+:')\n",
    "char_list = re.findall(char, words)\n",
    "char_list_set = set(char_list)\n",
    "char_colon = list(char_list_set)\n",
    "character1 = []\n",
    "for i in char_colon:\n",
    "  character1 += [i[:-1]]\n",
    "print(character1)\n",
    "\n",
    "# 간략한 방법\n",
    "character2 = [x[:-1] for x in list(set(re.findall(r'[A-Z][a-z]+:', words)))]\n",
    "print(character)"
   ]
  },
  {
   "cell_type": "markdown",
   "id": "6be36e41",
   "metadata": {},
   "source": [
    "######\n",
    "<style>\n",
    "  @import './css.css';\n",
    "  th {\n",
    "    background-color: lightgray;\n",
    "    color: black;\n",
    "  }\n",
    "</style>\n",
    "<table>\n",
    "  <tr>\n",
    "    <th style=\"border: 1px solid lightgray\">\n",
    "      re.compile()\n",
    "    </th>\n",
    "    <td>\n",
    "      정규표현식 패턴을 미리 컴파일해서 re.Pattern 객체로 만들어주는 함수\n",
    "    </td>\n",
    "  </tr>\n",
    "</table>\n",
    "<br>\n",
    "<blockquote>\n",
    "  ※ 같은 패턴을 여러 번 사용할 때 효율적으로 사용<br><br>\n",
    "  예시:<br>\n",
    "  &nbsp;&nbsp;&nbsp;&nbsp;pattern = re.compile(r'\\d+년')<br>\n",
    "  &nbsp;&nbsp;&nbsp;&nbsp;result = pattern.findall(e1)<br>\n",
    "  &nbsp;&nbsp;&nbsp;&nbsp;print(result)\n",
    "</blockquote>"
   ]
  },
  {
   "cell_type": "code",
   "execution_count": null,
   "id": "33e69e3e",
   "metadata": {},
   "outputs": [],
   "source": [
    "# 지문만 따로 모으기\n",
    "# r'\\([A-Za-z].+[a-z|.]\\)'\n",
    "\n",
    "direction = re.findall(r'''\n",
    "                        \\(\n",
    "                        [A-Za-z]\n",
    "                        .+\n",
    "                        [a-z|\n",
    "                        .]\n",
    "                        \\)''', words, re.VERBOSE)\n",
    "                        # 정규표현식에 컴파일 시 자동으로 제거되는 공백\n",
    "print(direction)\n",
    "with open('direction.txt', 'w') as f:\n",
    "  for i in direction:\n",
    "    f.write(i + '\\n')"
   ]
  },
  {
   "cell_type": "code",
   "execution_count": null,
   "id": "c243b521",
   "metadata": {},
   "outputs": [],
   "source": [
    "# 특정 단어가 들어있는 대사만 모으기\n",
    "input_word = input('찾을 단어를 입력하세요.')\n",
    "with open('../../../데이터 분석/friends101.txt', 'r', encoding='utf-8') as f:\n",
    "  sentences = f.readlines()\n",
    "\n",
    "data = [i for i in sentences if re.match(r'[A-Z][a-z]+:', i) and re.search(input_word, i)]\n",
    "print(type(data), data)\n",
    "\n",
    "# 입력 단어를 파일명으로 저장\n",
    "with open('input_word.txt', 'w', encoding='utf-8') as f:\n",
    "  for i in data:\n",
    "    f.write(i)\n",
    "\n",
    "# 조금 더 편한 방법\n",
    "with open(input_word+'.txt', 'w', encoding='utf-8') as f:\n",
    "  f.writelines(data)"
   ]
  }
 ],
 "metadata": {
  "kernelspec": {
   "display_name": "analysis",
   "language": "python",
   "name": "python3"
  },
  "language_info": {
   "codemirror_mode": {
    "name": "ipython",
    "version": 3
   },
   "file_extension": ".py",
   "mimetype": "text/x-python",
   "name": "python",
   "nbconvert_exporter": "python",
   "pygments_lexer": "ipython3",
   "version": "3.13.3"
  }
 },
 "nbformat": 4,
 "nbformat_minor": 5
}
