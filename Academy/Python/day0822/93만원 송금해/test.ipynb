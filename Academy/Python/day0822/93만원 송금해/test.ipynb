{
 "cells": [
  {
   "cell_type": "code",
   "execution_count": 1,
   "id": "c81ef7f5",
   "metadata": {},
   "outputs": [
    {
     "name": "stdout",
     "output_type": "stream",
     "text": [
      "hello world\n"
     ]
    }
   ],
   "source": [
    "print('hello world')"
   ]
  },
  {
   "cell_type": "code",
   "execution_count": null,
   "id": "59278a11",
   "metadata": {},
   "outputs": [],
   "source": [
    "text = \"python\"\n",
    "print(text[2])\n",
    "text[0] = \"y\"\n",
    "# 접근은 가능하지만, 수정은 불가능합니다."
   ]
  },
  {
   "cell_type": "code",
   "execution_count": null,
   "id": "d2f694e3",
   "metadata": {
    "vscode": {
     "languageId": "ini"
    }
   },
   "outputs": [],
   "source": [
    "# .join()은 문자열 메서드로, 리스트나 튜플 등 반복 가능한(iterable) 객체의 요소들을 하나의 문자열로 합칠 때 사용합니다.\n",
    "# 예시:\n",
    "result = \"-\".join(['a', 'b', 'c'])\n",
    "print(result)  # 출력: a-b-c"
   ]
  },
  {
   "cell_type": "code",
   "execution_count": null,
   "id": "73b6cc52",
   "metadata": {},
   "outputs": [
    {
     "name": "stdout",
     "output_type": "stream",
     "text": [
      "['John', 50]\n"
     ]
    }
   ],
   "source": [
    "a = {'name': 'John', 'age': 30}\n",
    "a['age'] = 50\n",
    "b = list(a.values())\n",
    "print(b)"
   ]
  },
  {
   "cell_type": "code",
   "execution_count": null,
   "id": "2de12019",
   "metadata": {},
   "outputs": [
    {
     "name": "stdout",
     "output_type": "stream",
     "text": [
      "['__add__', '__class__', '__class_getitem__', '__contains__', '__delattr__', '__delitem__', '__dir__', '__doc__', '__eq__', '__format__', '__ge__', '__getattribute__', '__getitem__', '__getstate__', '__gt__', '__hash__', '__iadd__', '__imul__', '__init__', '__init_subclass__', '__iter__', '__le__', '__len__', '__lt__', '__mul__', '__ne__', '__new__', '__reduce__', '__reduce_ex__', '__repr__', '__reversed__', '__rmul__', '__setattr__', '__setitem__', '__sizeof__', '__str__', '__subclasshook__', 'append', 'clear', 'copy', 'count', 'extend', 'index', 'insert', 'pop', 'remove', 'reverse', 'sort']\n",
      "['__class__', '__class_getitem__', '__contains__', '__delattr__', '__delitem__', '__dir__', '__doc__', '__eq__', '__format__', '__ge__', '__getattribute__', '__getitem__', '__getstate__', '__gt__', '__hash__', '__init__', '__init_subclass__', '__ior__', '__iter__', '__le__', '__len__', '__lt__', '__ne__', '__new__', '__or__', '__reduce__', '__reduce_ex__', '__repr__', '__reversed__', '__ror__', '__setattr__', '__setitem__', '__sizeof__', '__str__', '__subclasshook__', 'clear', 'copy', 'fromkeys', 'get', 'items', 'keys', 'pop', 'popitem', 'setdefault', 'update', 'values']\n"
     ]
    }
   ],
   "source": [
    "# dir == directory\n",
    "# dir(x)는 객체 x가 가지고 있는 속성과 메서드(함수)들의 리스트를 반환합니다.\n",
    "# 예시:\n",
    "print(dir([1, 2, 3])) # 리스트 객체가 가진 속성과 메서드 목록 출력\n",
    "print(dir(a))         # 딕셔너리 객체 a의 속성과 메서드 목록 출력"
   ]
  },
  {
   "cell_type": "code",
   "execution_count": null,
   "id": "9c9e972d",
   "metadata": {
    "vscode": {
     "languageId": "ini"
    }
   },
   "outputs": [],
   "source": [
    "# sort()와 sorted()의 차이\n",
    "# sort()는 리스트 자체를 정렬하며, 반환값이 None입니다(리스트를 직접 변경).\n",
    "# sorted()는 정렬된 새로운 리스트를 반환하며, 원본 리스트는 변경되지 않습니다.\n",
    "\n",
    "sample_list = [3, 1, 4, 2]\n",
    "\n",
    "# sort() 사용 예시 (원본 리스트 변경)\n",
    "sample_list.sort()\n",
    "print(\"sort() 사용 후:\", sample_list)  # [1, 2, 3, 4]\n",
    "\n",
    "# sorted() 사용 예시 (원본 리스트는 그대로, 새로운 리스트 반환)\n",
    "sample_list2 = [3, 1, 4, 2]\n",
    "sorted_list = sorted(sample_list2)\n",
    "print(\"sorted() 결과:\", sorted_list)   # [1, 2, 3, 4]\n",
    "print(\"원본 리스트:\", sample_list2)     # [3, 1, 4, 2]"
   ]
  },
  {
   "cell_type": "code",
   "execution_count": null,
   "id": "f6dcf75b",
   "metadata": {},
   "outputs": [
    {
     "name": "stdout",
     "output_type": "stream",
     "text": [
      "[3, 2, 1, 4] <class 'list'>\n",
      "(3, 2, 1, 4) <class 'tuple'>\n",
      "None\n",
      "[1, 2, 3, 4]\n",
      "[1, 2, 3, 4]\n"
     ]
    }
   ],
   "source": [
    "a = [3, 2, 1, 4]\n",
    "print(a, type(a))\n",
    "print(a.sort())\n",
    "print(a)\n",
    "# sort()는 원본 리스트를 변경합니다.\n",
    "\n",
    "b = 3, 2, 1, 4\n",
    "print(b, type(b))\n",
    "print(sorted(b))\n",
    "# sorted()는 새로운 정렬된 리스트를 반환합니다."
   ]
  }
 ],
 "metadata": {
  "kernelspec": {
   "display_name": "analysis",
   "language": "python",
   "name": "python3"
  },
  "language_info": {
   "codemirror_mode": {
    "name": "ipython",
    "version": 3
   },
   "file_extension": ".py",
   "mimetype": "text/x-python",
   "name": "python",
   "nbconvert_exporter": "python",
   "pygments_lexer": "ipython3",
   "version": "3.13.3"
  }
 },
 "nbformat": 4,
 "nbformat_minor": 5
}
