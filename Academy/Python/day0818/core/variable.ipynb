{
 "cells": [
  {
   "cell_type": "markdown",
   "id": "0605f2e9",
   "metadata": {},
   "source": [
    "### 변수"
   ]
  },
  {
   "cell_type": "code",
   "execution_count": 1,
   "id": "ea50b752",
   "metadata": {},
   "outputs": [
    {
     "name": "stdout",
     "output_type": "stream",
     "text": [
      "30\n"
     ]
    }
   ],
   "source": [
    "# 변수명 = 값\n",
    "a=10\n",
    "b=20\n",
    "\n",
    "print (a+b)"
   ]
  },
  {
   "cell_type": "code",
   "execution_count": 2,
   "id": "701bd720",
   "metadata": {},
   "outputs": [
    {
     "name": "stdout",
     "output_type": "stream",
     "text": [
      "100 0.5 hello True\n"
     ]
    }
   ],
   "source": [
    "a=100\n",
    "b=0.5\n",
    "c='hello'\n",
    "d=True\n",
    "\n",
    "print(a,b,c,d)"
   ]
  },
  {
   "cell_type": "code",
   "execution_count": 3,
   "id": "0af037e8",
   "metadata": {},
   "outputs": [
    {
     "name": "stdout",
     "output_type": "stream",
     "text": [
      "100 0.5 hello True\n"
     ]
    }
   ],
   "source": [
    "print(a,b,c,d)"
   ]
  },
  {
   "cell_type": "code",
   "execution_count": 4,
   "id": "82f4f62f",
   "metadata": {},
   "outputs": [
    {
     "name": "stdout",
     "output_type": "stream",
     "text": [
      "<class 'int'> <class 'float'> <class 'str'> <class 'bool'>\n"
     ]
    }
   ],
   "source": [
    "print(type(a),type(b),type(c),type(d))"
   ]
  },
  {
   "cell_type": "code",
   "execution_count": 5,
   "id": "23b10f2c",
   "metadata": {},
   "outputs": [
    {
     "name": "stdout",
     "output_type": "stream",
     "text": [
      "3.5 3 1 49\n"
     ]
    }
   ],
   "source": [
    "a=7\n",
    "b=2\n",
    "c=a / b\n",
    "d=a // b\n",
    "e=a % b\n",
    "f=a**b\n",
    "\n",
    "print(c,d,e,f)"
   ]
  },
  {
   "cell_type": "code",
   "execution_count": 6,
   "id": "9b2e63f1",
   "metadata": {},
   "outputs": [
    {
     "name": "stdout",
     "output_type": "stream",
     "text": [
      "hello hello hello \n"
     ]
    }
   ],
   "source": [
    "str1='hello '\n",
    "b=3\n",
    "\n",
    "# print(str1 + b)  str + int => error\n",
    "print(str1*3) # str * int => str(객체, 문자열, 자료구조 등)를 int 수 만큼 반복"
   ]
  },
  {
   "cell_type": "code",
   "execution_count": 7,
   "id": "fd3102c3",
   "metadata": {},
   "outputs": [
    {
     "name": "stdout",
     "output_type": "stream",
     "text": [
      "hello \n"
     ]
    }
   ],
   "source": [
    "print(str1) # cell이 달라도 선언시킨 변수는 문서내라면 사용가능하다\n",
    "# 내장함수와 선언한 변수명이 일치하는 경우 내장함수를 사용하지 못한다.\n",
    "# 변수를 삭제해야 사용 가능 (del)\n",
    "del str1\n",
    "#print str1 #print(str1) #name 'str1' is not defined"
   ]
  },
  {
   "cell_type": "code",
   "execution_count": 8,
   "id": "5be4e346",
   "metadata": {},
   "outputs": [
    {
     "name": "stdout",
     "output_type": "stream",
     "text": [
      "13.14\n",
      "13\n"
     ]
    }
   ],
   "source": [
    "a = 10\n",
    "b = 3.14\n",
    "c = a + b\n",
    "d = a + int(b)\n",
    "print(c)\n",
    "print(d)"
   ]
  },
  {
   "cell_type": "code",
   "execution_count": 9,
   "id": "e27fc73a",
   "metadata": {},
   "outputs": [],
   "source": [
    "i=int(10)\n",
    "j=str(i)"
   ]
  },
  {
   "cell_type": "code",
   "execution_count": 10,
   "id": "7ced1405",
   "metadata": {},
   "outputs": [
    {
     "name": "stdout",
     "output_type": "stream",
     "text": [
      "100.0\n",
      "100 <class 'int'>\n",
      "True True\n"
     ]
    }
   ],
   "source": [
    "a = 100\n",
    "print (float (a))\n",
    "print(str(a), type(a))\n",
    "print(bool(a),bool(-100))"
   ]
  },
  {
   "cell_type": "code",
   "execution_count": 11,
   "id": "133007ad",
   "metadata": {},
   "outputs": [
    {
     "name": "stdout",
     "output_type": "stream",
     "text": [
      "False\n",
      "False\n",
      "True\n",
      "False\n",
      "False\n"
     ]
    }
   ],
   "source": [
    "print(bool(0))\n",
    "print(bool(''))\n",
    "print(bool(' '))\n",
    "print(bool(0.0))\n",
    "print(bool())"
   ]
  },
  {
   "cell_type": "code",
   "execution_count": 19,
   "id": "2040b0e0",
   "metadata": {},
   "outputs": [
    {
     "name": "stdout",
     "output_type": "stream",
     "text": [
      "True\n",
      "True\n",
      "True\n"
     ]
    }
   ],
   "source": [
    "print(1==True)\n",
    "print(0==False)\n",
    "print(-10<True)\n"
   ]
  },
  {
   "cell_type": "code",
   "execution_count": 13,
   "id": "f7d56294",
   "metadata": {},
   "outputs": [
    {
     "name": "stdout",
     "output_type": "stream",
     "text": [
      "True\n",
      "True\n"
     ]
    }
   ],
   "source": [
    "a=1\n",
    "b=1\n",
    "\n",
    "print(a==b) # 저장된 값 비교\n",
    "print(a is b) # 주소값 비교\n"
   ]
  },
  {
   "cell_type": "code",
   "execution_count": 16,
   "id": "30d6e95a",
   "metadata": {},
   "outputs": [
    {
     "name": "stdout",
     "output_type": "stream",
     "text": [
      "True\n",
      "False\n"
     ]
    }
   ],
   "source": [
    "a=300 #-5 ~ 256까지는 처음 실행시부터 메모리에 저장\n",
    "b=300 # 해당 범위안에 있는 값을 사용시 저장된 주소를 꺼내서 사용\n",
    "\n",
    "print(a==b)\n",
    "print(a is b) #256이 넘어가면 주소값이 다르다고 출력됨"
   ]
  }
 ],
 "metadata": {
  "kernelspec": {
   "display_name": "Python 3",
   "language": "python",
   "name": "python3"
  },
  "language_info": {
   "codemirror_mode": {
    "name": "ipython",
    "version": 3
   },
   "file_extension": ".py",
   "mimetype": "text/x-python",
   "name": "python",
   "nbconvert_exporter": "python",
   "pygments_lexer": "ipython3",
   "version": "3.13.3"
  }
 },
 "nbformat": 4,
 "nbformat_minor": 5
}
