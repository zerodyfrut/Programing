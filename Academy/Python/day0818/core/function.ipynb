{
 "cells": [
  {
   "cell_type": "markdown",
   "id": "ada74ca3",
   "metadata": {},
   "source": [
    "### function"
   ]
  },
  {
   "cell_type": "code",
   "execution_count": 1,
   "id": "ca533776",
   "metadata": {},
   "outputs": [
    {
     "name": "stdout",
     "output_type": "stream",
     "text": [
      "9\n",
      "3\n"
     ]
    }
   ],
   "source": [
    "def f(x):\n",
    "    y=x\n",
    "    x=5\n",
    "    return y * y\n",
    "\n",
    "x=3\n",
    "print(f(x))\n",
    "print(x)"
   ]
  },
  {
   "cell_type": "code",
   "execution_count": 2,
   "id": "cad5a7b3",
   "metadata": {},
   "outputs": [
    {
     "name": "stdout",
     "output_type": "stream",
     "text": [
      "None\n",
      "[0, 1, 1]\n"
     ]
    }
   ],
   "source": [
    "def spam(eggs): # 함수에는 항상 객체의 주소가 전달됨\n",
    "    eggs.append(1) # 배열 주소 전달 \n",
    "    eggs=[2,3] # 새로운 값이 할당됨 -> 저장된 주소값 변경\n",
    "\n",
    "ham=[0]\n",
    "spam(ham)\n",
    "print(spam(ham)) #리턴 값 없는 함수 출력시 None\n",
    "print(ham)\n"
   ]
  },
  {
   "cell_type": "code",
   "execution_count": 3,
   "id": "594e4c2c",
   "metadata": {},
   "outputs": [
    {
     "name": "stdout",
     "output_type": "stream",
     "text": [
      "I love London!\n",
      "I love London!\n"
     ]
    }
   ],
   "source": [
    "def f():\n",
    "    global s # 전역변수로 선언하면, 전역변수 s가 변경됨\n",
    "    s=\"I love London!\"\n",
    "    print(s)\n",
    "\n",
    "s=\"I love Paris\"\n",
    "f()\n",
    "print(s)"
   ]
  },
  {
   "cell_type": "code",
   "execution_count": 4,
   "id": "ce6a29c1",
   "metadata": {},
   "outputs": [
    {
     "name": "stdout",
     "output_type": "stream",
     "text": [
      "10\n"
     ]
    }
   ],
   "source": [
    "def f1(init):\n",
    "    print(init)\n",
    "\n",
    "f1(10)"
   ]
  },
  {
   "cell_type": "code",
   "execution_count": 5,
   "id": "d9a5347d",
   "metadata": {},
   "outputs": [
    {
     "name": "stdout",
     "output_type": "stream",
     "text": [
      "1 2 3\n",
      "1 0 0\n",
      "1 10 0\n"
     ]
    }
   ],
   "source": [
    "def a_test(a,b=0,args=0):\n",
    "    print(a,b,args)\n",
    "a_test(1,2,3)\n",
    "a_test(1)\n",
    "a_test(1,b='10')\n",
    "\n",
    "# a_test()\n",
    "# a_test(b=10,args=20)\n",
    "# a는 기본값이 없어서 값을 주지 않으면 에러가 남"
   ]
  },
  {
   "cell_type": "code",
   "execution_count": 6,
   "id": "bbccff48",
   "metadata": {},
   "outputs": [
    {
     "name": "stdout",
     "output_type": "stream",
     "text": [
      "1 2 18\n",
      "(3, 4, 5, 6) <class 'tuple'>\n",
      "1 2 0\n",
      "() <class 'tuple'>\n"
     ]
    }
   ],
   "source": [
    "def a_test2(a,b,*args) :\n",
    "    print (a,b,sum(args))\n",
    "    print (args, type(args))\n",
    "\n",
    "a_test2(1,2,3,4,5,6)\n",
    "a_test2(1,2)"
   ]
  },
  {
   "cell_type": "code",
   "execution_count": 7,
   "id": "13272bd1",
   "metadata": {},
   "outputs": [
    {
     "name": "stdout",
     "output_type": "stream",
     "text": [
      "1 5 20\n",
      "(2, 3, 4, 5, 6) <class 'tuple'>\n"
     ]
    }
   ],
   "source": [
    "def a_test3(a,*args,b):\n",
    "    print(a,b,sum(args))\n",
    "    print(args,type(args))\n",
    "\n",
    "# a_test3(1,2,3,4,5,6) # b값을 확정하지 못해서\n",
    "a_test3(1,2,3,4,5,6,b=5)"
   ]
  },
  {
   "cell_type": "code",
   "execution_count": null,
   "id": "c27afac6",
   "metadata": {},
   "outputs": [
    {
     "name": "stdout",
     "output_type": "stream",
     "text": [
      "1 2 [3]\n",
      "1 2 [3, 4]\n"
     ]
    }
   ],
   "source": [
    "def a_test4(*args): #패킹\n",
    "    # a,b,c=args #언패킹\n",
    "    a,b,*c=args # 3개째 이후의 값은 *c에 넣는다. \n",
    "                # 언패킹하면서 동시에 패킹\n",
    "    print(a,b,c)\n",
    "\n",
    "a_test4(1,2,3)\n",
    "a_test4(1,2,3,4) # 값의 수가 맞지 않으면 에러가 발생한다. \n",
    "                 # 값을 *로 받으면 에러가 발생하지 않는다.\n",
    "# 매개변수로 보내서 받을 때는 튜플로 가는데, 값을 풀어서 패킹할 때(*로 받을때)는 list로 처리된다.\n"
   ]
  }
 ],
 "metadata": {
  "kernelspec": {
   "display_name": "Python 3",
   "language": "python",
   "name": "python3"
  },
  "language_info": {
   "codemirror_mode": {
    "name": "ipython",
    "version": 3
   },
   "file_extension": ".py",
   "mimetype": "text/x-python",
   "name": "python",
   "nbconvert_exporter": "python",
   "pygments_lexer": "ipython3",
   "version": "3.13.3"
  }
 },
 "nbformat": 4,
 "nbformat_minor": 5
}
