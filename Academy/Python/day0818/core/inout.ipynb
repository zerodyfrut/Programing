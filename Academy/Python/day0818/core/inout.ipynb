{
 "cells": [
  {
   "cell_type": "markdown",
   "id": "c4c77240",
   "metadata": {},
   "source": [
    "### 입력\n",
    "- input()\n",
    "- input('메세지')"
   ]
  },
  {
   "cell_type": "code",
   "execution_count": 1,
   "id": "b58ec883",
   "metadata": {},
   "outputs": [
    {
     "name": "stdout",
     "output_type": "stream",
     "text": [
      "가나다\n"
     ]
    }
   ],
   "source": [
    "a= input()\n",
    "print(a)"
   ]
  },
  {
   "cell_type": "code",
   "execution_count": null,
   "id": "a5b194f3",
   "metadata": {},
   "outputs": [
    {
     "name": "stdout",
     "output_type": "stream",
     "text": [
      "가나다\n"
     ]
    }
   ],
   "source": [
    "a=input('문자열을 입력 : ')\n",
    "print(a)"
   ]
  },
  {
   "cell_type": "code",
   "execution_count": null,
   "id": "31121b0f",
   "metadata": {},
   "outputs": [
    {
     "name": "stdout",
     "output_type": "stream",
     "text": [
      "11111 <class 'str'>\n"
     ]
    }
   ],
   "source": [
    "b = input('입력하세요')\n",
    "print(b,type(b)) #input으로 입력받은 값은 문자열"
   ]
  },
  {
   "cell_type": "code",
   "execution_count": 6,
   "id": "87da4fb9",
   "metadata": {},
   "outputs": [
    {
     "name": "stdout",
     "output_type": "stream",
     "text": [
      "123 <class 'int'> 223\n"
     ]
    }
   ],
   "source": [
    "i=int(input('정수를 입력'))\n",
    "print(i,type(i),i+100)"
   ]
  },
  {
   "cell_type": "code",
   "execution_count": null,
   "id": "217b8260",
   "metadata": {},
   "outputs": [
    {
     "name": "stdout",
     "output_type": "stream",
     "text": [
      "27\n",
      "1 23 3\n"
     ]
    }
   ],
   "source": [
    "# 한번에 두개 이상의 값 입력받기\n",
    "a, b, c = input('공백을 넣어 값을 세개 입력하세요.').split()\n",
    "# split() : str의 내장함수로 공백을 기준으로 나눠줌 -> 값이 여러개 : List\n",
    "\n",
    "d=int(a)+int(b)+int(c)\n",
    "# 정수만 입력가능.\n",
    "print(d)\n",
    "print(a,b,c)"
   ]
  },
  {
   "cell_type": "markdown",
   "id": "39ccb5f7",
   "metadata": {},
   "source": [
    "### 출력\n",
    "- print(값)\n",
    "- print(값,값,값...)\n",
    "- print(값,값, sep='구분자') : 출력 데이터 간의 구분자 지정(기본값 : 공백)\n",
    "- print(값,값, end='') : 출력 후 나올 문자(기본값 : '\\n')\n",
    "- print(\"포맷 형식 %d,%s\" %(값,값))\n",
    "- print(\"포맷 형식 { } { }\".format(값,값))"
   ]
  },
  {
   "cell_type": "code",
   "execution_count": 15,
   "id": "85e06122",
   "metadata": {},
   "outputs": [
    {
     "name": "stdout",
     "output_type": "stream",
     "text": [
      "1 2 3\n",
      "1,2,3\n"
     ]
    }
   ],
   "source": [
    "print(1,2,3)\n",
    "print(1,2,3,sep=\",\")\n",
    "\n"
   ]
  },
  {
   "cell_type": "code",
   "execution_count": 16,
   "id": "f90244ea",
   "metadata": {},
   "outputs": [
    {
     "name": "stdout",
     "output_type": "stream",
     "text": [
      "1 2 3 4-5-6 7\n"
     ]
    }
   ],
   "source": [
    "print(1,2,3,end=\" \")\n",
    "print(4,5,6,end=\" \",sep=\"-\")\n",
    "print(7)\n"
   ]
  },
  {
   "cell_type": "code",
   "execution_count": null,
   "id": "f16917d8",
   "metadata": {},
   "outputs": [
    {
     "name": "stdout",
     "output_type": "stream",
     "text": [
      "7 / 3 =2.33\n"
     ]
    }
   ],
   "source": [
    "print(\"%d / %d =%.2f\" %(7,3,(7/3))) # 값이 여러개라면(로 묶어줌)"
   ]
  },
  {
   "cell_type": "code",
   "execution_count": 21,
   "id": "4aedb947",
   "metadata": {},
   "outputs": [
    {
     "name": "stdout",
     "output_type": "stream",
     "text": [
      "3.14\n"
     ]
    }
   ],
   "source": [
    "print(\"%.2f\" %(3.141592))"
   ]
  },
  {
   "cell_type": "code",
   "execution_count": null,
   "id": "6312ca09",
   "metadata": {},
   "outputs": [
    {
     "name": "stdout",
     "output_type": "stream",
     "text": [
      "123\n",
      "  123\n",
      "123123123\n"
     ]
    }
   ],
   "source": [
    "print(\"%d\" %123) # 숫자 출력\n",
    "print(\"%5d\" %123) # 5칸을 사용해서 숫자 출력, 넘겨도 그냥 모두 출력\n",
    "print(\"%05d\" %123) # 5칸을 사용해서 숫자 출력, 비는곳은 0으로 채움, 넘겨도 그냥 모두 출력"
   ]
  },
  {
   "cell_type": "code",
   "execution_count": 32,
   "id": "94b92ec3",
   "metadata": {},
   "outputs": [
    {
     "name": "stdout",
     "output_type": "stream",
     "text": [
      "python\n",
      "    python\n"
     ]
    }
   ],
   "source": [
    "print(\"%s\" %'python') # 문자열 출력\n",
    "print(\"%10s\" %'python') "
   ]
  },
  {
   "cell_type": "code",
   "execution_count": null,
   "id": "5d0ab169",
   "metadata": {},
   "outputs": [
    {
     "name": "stdout",
     "output_type": "stream",
     "text": [
      "1+2=3\n",
      "2+1=3\n",
      "10000*00002=20,000\n"
     ]
    }
   ],
   "source": [
    "print(\"{}+{}={}\".format(1,2,3))\n",
    "print(\"{1:}+{0:}={2:}\".format(1,2,3)) \n",
    "#{ } : 첫번째 값 : index\n",
    "print(\"{0:d}*{1:05d}={2:,}\".format(10000,2,20000)) \n",
    "#{ } : 두번째 값 : 표시형식 \",\"를 찍으면 ,표시형식\n"
   ]
  },
  {
   "cell_type": "code",
   "execution_count": 36,
   "id": "b2af4893",
   "metadata": {},
   "outputs": [
    {
     "name": "stdout",
     "output_type": "stream",
     "text": [
      "\n",
      " 줄바꿈 \n",
      " 연습\n",
      "\t 탭키 \t연습\n",
      "글자 \" ' \" '연습\n"
     ]
    }
   ],
   "source": [
    "print(\"\\n 줄바꿈 \\n 연습\")\n",
    "print(\"\\t 탭키 \\t연습\")\n",
    "print(\"글자 \\\" \\' \\\" \\'연습\")\n"
   ]
  },
  {
   "cell_type": "code",
   "execution_count": 59,
   "id": "d6244640",
   "metadata": {},
   "outputs": [
    {
     "name": "stdout",
     "output_type": "stream",
     "text": [
      "화씨온도 : 87.80000000000001\n",
      "화씨온도 : 87.80\n",
      "화씨온도 : 87.80\n",
      "화씨온도 : 87.80\n"
     ]
    }
   ],
   "source": [
    "# 섭씨 온도를 입력 받아 화씨온도로 변환하는 프로그램 구현\n",
    "# (섭씨 온도 * 1.8)+32\n",
    "\n",
    "c=input(\"섭씨온도=> 화씨온도 변경 : 섭씨온도 입력\")\n",
    "f=float(c)*1.8+32\n",
    "\n",
    "print(\"화씨온도 : \"+str(f))\n",
    "print(\"화씨온도 : %0.2f\" %f)\n",
    "print(\"화씨온도 : {:0.2f}\".format(f))\n",
    "print(f\"화씨온도 : {f:.2f}\")\n",
    "\n"
   ]
  },
  {
   "cell_type": "code",
   "execution_count": 52,
   "id": "ffa1b892",
   "metadata": {},
   "outputs": [
    {
     "name": "stdout",
     "output_type": "stream",
     "text": [
      "섭씨 온도를 입력받아 화씨온도로 변환하는 프로그램입니다.\n",
      "섭씨온도 : 31 \n",
      "화씨온도 : 87.8\n"
     ]
    }
   ],
   "source": [
    "#in class\n",
    "\n",
    "print(\"섭씨 온도를 입력받아 화씨온도로 변환하는 프로그램입니다.\")\n",
    "c=input(\"변환하고 싶은 섭씨온도 입력\")\n",
    "f=float(c)*1.8+32\n",
    "print(\"섭씨온도 : {0:} \\n화씨온도 : {1:.1f}\".format(c,f))"
   ]
  }
 ],
 "metadata": {
  "kernelspec": {
   "display_name": "Python 3",
   "language": "python",
   "name": "python3"
  },
  "language_info": {
   "codemirror_mode": {
    "name": "ipython",
    "version": 3
   },
   "file_extension": ".py",
   "mimetype": "text/x-python",
   "name": "python",
   "nbconvert_exporter": "python",
   "pygments_lexer": "ipython3",
   "version": "3.13.3"
  }
 },
 "nbformat": 4,
 "nbformat_minor": 5
}
