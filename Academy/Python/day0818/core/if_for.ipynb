{
 "cells": [
  {
   "cell_type": "code",
   "execution_count": 58,
   "id": "d94c0bef",
   "metadata": {},
   "outputs": [
    {
     "name": "stdout",
     "output_type": "stream",
     "text": [
      "True\n"
     ]
    }
   ],
   "source": [
    "if 1:print(True)\n",
    "else :print(False)"
   ]
  },
  {
   "cell_type": "code",
   "execution_count": 59,
   "id": "a8e7b799",
   "metadata": {},
   "outputs": [
    {
     "name": "stdout",
     "output_type": "stream",
     "text": [
      "True\n"
     ]
    }
   ],
   "source": [
    "if 'hello' : print(True)\n",
    "else :print(False)"
   ]
  },
  {
   "cell_type": "code",
   "execution_count": 60,
   "id": "812b3e22",
   "metadata": {},
   "outputs": [
    {
     "name": "stdout",
     "output_type": "stream",
     "text": [
      "welcome to the Club\n",
      "if의 영역이 아님\n"
     ]
    }
   ],
   "source": [
    "myage = int(input(\"나이를 입력하세요\"))\n",
    "if myage <50:\n",
    "    print(\"welcome to the Club\")\n",
    "else :\n",
    "    print(\"no, you are not accepted\")\n",
    "print(\"if의 영역이 아님\")"
   ]
  },
  {
   "cell_type": "code",
   "execution_count": 61,
   "id": "f388b0b9",
   "metadata": {},
   "outputs": [
    {
     "name": "stdout",
     "output_type": "stream",
     "text": [
      "학생이 아님\n"
     ]
    }
   ],
   "source": [
    "import datetime\n",
    "\n",
    "today= datetime.date.today()\n",
    "y=today.year\n",
    "\n",
    "#태어난 연도를 입력해 나이를 구하고,\n",
    "#현재 상태(학생 종류)를 출력하세요.\n",
    "#초, 중, 고 학생아님 으로 구분\n",
    "\n",
    "birth=int(input(\"태어난 연도를 입력하세요\"))\n",
    "\n",
    "if y-birth<8:\n",
    "    print(\"학생이 아님\")\n",
    "elif y-birth<14 :\n",
    "    print(\"초등학생\")\n",
    "elif y-birth<17 :\n",
    "    print(\"중학생\")\n",
    "elif y-birth<20 :\n",
    "    print(\"고등학생\")\n",
    "elif y-birth<27:\n",
    "    print(\"대학생\")\n",
    "else :\n",
    "    print(\"학생이 아님\")\n",
    "\n",
    "# print(today)"
   ]
  },
  {
   "cell_type": "code",
   "execution_count": 62,
   "id": "1dd3d969",
   "metadata": {},
   "outputs": [
    {
     "name": "stdout",
     "output_type": "stream",
     "text": [
      "2024 학생이 아님\n"
     ]
    }
   ],
   "source": [
    "#in class\n",
    "\n",
    "import datetime\n",
    "\n",
    "today=datetime.date.today()\n",
    "y=today.year\n",
    "\n",
    "b_year=int(input('태어난 연도 입력'))\n",
    "age=y-b_year\n",
    "\n",
    "if age<=26 and age>=20: stu='대학생'\n",
    "elif age<20 and age>=17: stu='고등학생'\n",
    "elif age<17 and age>=14: stu='중학생'\n",
    "elif age<14 and age>=8: stu='초등학생'\n",
    "else : stu='학생이 아님'\n",
    "print (age,stu)"
   ]
  },
  {
   "cell_type": "markdown",
   "id": "f84d2184",
   "metadata": {},
   "source": [
    "for 변수 in [리스트] :\n",
    "    반복문"
   ]
  },
  {
   "cell_type": "code",
   "execution_count": 63,
   "id": "d59d3277",
   "metadata": {},
   "outputs": [
    {
     "name": "stdout",
     "output_type": "stream",
     "text": [
      "for end\n"
     ]
    }
   ],
   "source": [
    "# 아직 작성되지 않았을때, pass처리\n",
    "for i in [1,2,3]:\n",
    "    pass\n",
    "print(\"for end\")"
   ]
  },
  {
   "cell_type": "code",
   "execution_count": 64,
   "id": "c9822449",
   "metadata": {},
   "outputs": [
    {
     "name": "stdout",
     "output_type": "stream",
     "text": [
      "1 1\n",
      "2 4\n",
      "3 9\n",
      "for end\n"
     ]
    }
   ],
   "source": [
    "for i in [1,2,3]:\n",
    "    print(i,end=\" \")\n",
    "    print(i**2)\n",
    "print(\"for end\")"
   ]
  },
  {
   "cell_type": "code",
   "execution_count": 65,
   "id": "a113b4b6",
   "metadata": {},
   "outputs": [
    {
     "name": "stdout",
     "output_type": "stream",
     "text": [
      "hello\n",
      "hello\n",
      "hello\n"
     ]
    }
   ],
   "source": [
    "# 변수를 사용하지 않는 변수는 _로\n",
    "for _ in[1,2,3]:\n",
    "    print(\"hello\")"
   ]
  },
  {
   "cell_type": "code",
   "execution_count": 66,
   "id": "e7e41620",
   "metadata": {},
   "outputs": [
    {
     "name": "stdout",
     "output_type": "stream",
     "text": [
      "h\n",
      "e\n",
      "l\n",
      "l\n",
      "o\n"
     ]
    }
   ],
   "source": [
    "for s in 'hello': # 시계열 데이터 : 순서의 흐름이 중요한 데이터\n",
    "    print(s)"
   ]
  },
  {
   "cell_type": "code",
   "execution_count": 67,
   "id": "3b78b265",
   "metadata": {},
   "outputs": [
    {
     "name": "stdout",
     "output_type": "stream",
     "text": [
      "a\n",
      "bb\n",
      "ccc\n"
     ]
    }
   ],
   "source": [
    "for str in ['a','bb','ccc'] :\n",
    "    print(str)\n",
    "del(str)"
   ]
  },
  {
   "cell_type": "markdown",
   "id": "db0945fd",
   "metadata": {},
   "source": [
    "- for 변수 in range(끝+1) : 0부터 끝까지\n",
    "- for 변수 in range(시작, 끝+1) : 시작부터 끝까지\n",
    "- for 변수 in range(시작, 끝+1, 증가 값) : 시작부터 끝까지 증가값씩 증가"
   ]
  },
  {
   "cell_type": "code",
   "execution_count": 68,
   "id": "8a4ba280",
   "metadata": {},
   "outputs": [
    {
     "name": "stdout",
     "output_type": "stream",
     "text": [
      "1 2 3 \n",
      "1 2 3 \n",
      "1 2 3 "
     ]
    }
   ],
   "source": [
    "for i in range(3):\n",
    "    print(i+1,end=\" \")\n",
    "print()\n",
    "\n",
    "for i in range(0,3):\n",
    "    print(i+1,end=\" \")\n",
    "print()\n",
    "\n",
    "for i in range(0,3,1):\n",
    "    print(i+1,end=\" \")\n",
    "\n"
   ]
  },
  {
   "cell_type": "code",
   "execution_count": 69,
   "id": "1e801dd7",
   "metadata": {},
   "outputs": [
    {
     "name": "stdout",
     "output_type": "stream",
     "text": [
      "1\n",
      "2\n",
      "3\n",
      "4\n",
      "for문 완료\n"
     ]
    }
   ],
   "source": [
    "for x in [1,2,3,4]:\n",
    "    print(x)\n",
    "else:\n",
    "    print(\"for문 완료\")"
   ]
  },
  {
   "cell_type": "code",
   "execution_count": 70,
   "id": "5efa0c0e",
   "metadata": {},
   "outputs": [
    {
     "name": "stdout",
     "output_type": "stream",
     "text": [
      "1\n",
      "2\n"
     ]
    }
   ],
   "source": [
    "for x in [1,2,3,4]:\n",
    "    if x % 3:\n",
    "        print(x)\n",
    "    else : \n",
    "        break\n",
    "else:\n",
    "    print(\"for문 완료\") # break 문으로 인해 for문이 종료되고 수행 x"
   ]
  },
  {
   "cell_type": "code",
   "execution_count": 71,
   "id": "eef091eb",
   "metadata": {},
   "outputs": [
    {
     "name": "stdout",
     "output_type": "stream",
     "text": [
      "0\n",
      "1\n",
      "2\n",
      "3\n",
      "4\n",
      "while end\n"
     ]
    }
   ],
   "source": [
    "i=0\n",
    "while i<5:\n",
    "    print(i)\n",
    "    i+=1\n",
    "else : print(\"while end\") "
   ]
  },
  {
   "cell_type": "code",
   "execution_count": 72,
   "id": "687f1454",
   "metadata": {},
   "outputs": [
    {
     "name": "stdout",
     "output_type": "stream",
     "text": [
      "uoY evoL I\n"
     ]
    }
   ],
   "source": [
    "sentence = \"I Love You\"\n",
    "# for문을 사용해 문장 역순 만들기\n",
    "reverse_s=\"\"\n",
    "\n",
    "for char in sentence:\n",
    "    reverse_s=char+reverse_s\n",
    "\n",
    "print(reverse_s)"
   ]
  },
  {
   "cell_type": "code",
   "execution_count": 73,
   "id": "ed4f7aae",
   "metadata": {},
   "outputs": [
    {
     "name": "stdout",
     "output_type": "stream",
     "text": [
      "You Love I \n"
     ]
    }
   ],
   "source": [
    "sentence = 'I Love You'\n",
    "slist2 = sentence.split() #['I' 'Love' 'You']\n",
    "rs = ''\n",
    "\n",
    "for s in slist2:\n",
    "    rs = s +\" \"+ rs\n",
    "print(rs)"
   ]
  },
  {
   "cell_type": "code",
   "execution_count": 87,
   "id": "6d4a09a3",
   "metadata": {},
   "outputs": [
    {
     "name": "stdout",
     "output_type": "stream",
     "text": [
      "10 값은 이진수로 1010\n"
     ]
    }
   ],
   "source": [
    "# 십진수를 2진수로 바꾸기\n",
    "\n",
    "i=int(input(\"십진수 입력 : \"))\n",
    "j=i\n",
    "e=\"\"\n",
    "\n",
    "while i>0:\n",
    "    e=str(i % 2)+e\n",
    "    i//=2\n",
    "\n",
    "print(f\"{j} 값은 이진수로 {e}\")\n"
   ]
  },
  {
   "cell_type": "code",
   "execution_count": 84,
   "id": "f4bbcaf2",
   "metadata": {},
   "outputs": [
    {
     "name": "stdout",
     "output_type": "stream",
     "text": [
      "10 -> 1010\n"
     ]
    }
   ],
   "source": [
    "#in class\n",
    "d = int (input('십진수 입력 > '))\n",
    "a=d\n",
    "b=''\n",
    "\n",
    "while d>0:\n",
    "    i = d % 2\n",
    "    d//= 2\n",
    "    b=str(i) + b\n",
    "\n",
    "print(a,'-> '+b)\n"
   ]
  }
 ],
 "metadata": {
  "kernelspec": {
   "display_name": "Python 3",
   "language": "python",
   "name": "python3"
  },
  "language_info": {
   "codemirror_mode": {
    "name": "ipython",
    "version": 3
   },
   "file_extension": ".py",
   "mimetype": "text/x-python",
   "name": "python",
   "nbconvert_exporter": "python",
   "pygments_lexer": "ipython3",
   "version": "3.13.3"
  }
 },
 "nbformat": 4,
 "nbformat_minor": 5
}
