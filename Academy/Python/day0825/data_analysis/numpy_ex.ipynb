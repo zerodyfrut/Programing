{
 "cells": [
  {
   "cell_type": "code",
   "execution_count": 6,
   "id": "e495b517",
   "metadata": {},
   "outputs": [],
   "source": [
    "import os\n",
    "os.chdir(r'D:\\새 폴더\\Programing\\Academy\\Python\\day0825')\n"
   ]
  },
  {
   "cell_type": "code",
   "execution_count": null,
   "id": "8d34a845",
   "metadata": {},
   "outputs": [
    {
     "name": "stdout",
     "output_type": "stream",
     "text": [
      "[[100, 80, 80], [50, 60, 100]]\n",
      "[50, 60]\n"
     ]
    },
    {
     "ename": "TypeError",
     "evalue": "must assign iterable to extended slice",
     "output_type": "error",
     "traceback": [
      "\u001b[31m---------------------------------------------------------------------------\u001b[39m",
      "\u001b[31mTypeError\u001b[39m                                 Traceback (most recent call last)",
      "\u001b[36mCell\u001b[39m\u001b[36m \u001b[39m\u001b[32mIn[12]\u001b[39m\u001b[32m, line 5\u001b[39m\n\u001b[32m      3\u001b[39m \u001b[38;5;28mprint\u001b[39m(score)\n\u001b[32m      4\u001b[39m \u001b[38;5;28mprint\u001b[39m(score[\u001b[32m1\u001b[39m][\u001b[32m0\u001b[39m:\u001b[32m2\u001b[39m])\n\u001b[32m----> \u001b[39m\u001b[32m5\u001b[39m \u001b[43mscore\u001b[49m\u001b[43m[\u001b[49m\u001b[32;43m1\u001b[39;49m\u001b[43m]\u001b[49m\u001b[43m[\u001b[49m\u001b[32;43m0\u001b[39;49m\u001b[43m:\u001b[49m\u001b[32;43m2\u001b[39;49m\u001b[43m]\u001b[49m=\u001b[32m0\u001b[39m \u001b[38;5;66;03m# list는 한번에 여러개 수정이 불가\u001b[39;00m\n\u001b[32m      6\u001b[39m \u001b[38;5;28mprint\u001b[39m(score)\n",
      "\u001b[31mTypeError\u001b[39m: must assign iterable to extended slice"
     ]
    }
   ],
   "source": [
    "score=[[100,80,80],[50,60,100]]\n",
    "\n",
    "print(score)\n",
    "print(score[1][0:2])\n",
    "score[1][0:2]=0 # list는 한번에 여러개 수정이 불가, 슬라이스 사용불가\n",
    "print(score)\n",
    "\n"
   ]
  },
  {
   "cell_type": "code",
   "execution_count": 14,
   "id": "58dfe4d7",
   "metadata": {},
   "outputs": [
    {
     "name": "stdout",
     "output_type": "stream",
     "text": [
      "[[100  80  80]\n",
      " [ 50  60 100]]\n"
     ]
    }
   ],
   "source": [
    "import numpy as np\n",
    "\n",
    "score=[[100,80,80],[50,60,100]]\n",
    "s_arr=np.array(score)\n",
    "\n",
    "print(s_arr)"
   ]
  },
  {
   "cell_type": "code",
   "execution_count": null,
   "id": "c3761bd8",
   "metadata": {},
   "outputs": [
    {
     "name": "stdout",
     "output_type": "stream",
     "text": [
      "[2 3 4 5 6] <class 'numpy.ndarray'>\n",
      "int64\n",
      "(5,)\n",
      "[[1. 2. 3. 4. 5.]\n",
      " [2. 3. 4. 5. 6.]] <class 'numpy.ndarray'>\n",
      "float64\n",
      "(2, 5)\n"
     ]
    }
   ],
   "source": [
    "d= np.array([2,3,4,5,6])\n",
    "print(d,type(d))\n",
    "print(d.dtype)\n",
    "print(d.shape) # 튜플타입으로 반환\n",
    "# 배열의 모든 요소의 타입은 일치함\n",
    "\n",
    "d2= np.array([[1,2,3,4,5],[2,3,4,5,6.0]])\n",
    "print(d2,type(d2))\n",
    "print(d2.dtype)\n",
    "print(d2.shape)\n"
   ]
  },
  {
   "cell_type": "code",
   "execution_count": 28,
   "id": "85cb1ddc",
   "metadata": {},
   "outputs": [
    {
     "name": "stdout",
     "output_type": "stream",
     "text": [
      "['apple' 'banana' 'cherry'] <U6\n",
      "(3,)\n",
      "[ True False  True] bool\n",
      "[1 'hello' list([1, 2, 3]) True] object\n"
     ]
    }
   ],
   "source": [
    "# 문자열 배열\n",
    "arr=np.array(['apple','banana','cherry'])\n",
    "print(arr, arr.dtype) # <U6 : 최대 길이 6의 유니코드 문자열\n",
    "print(arr.shape)\n",
    "\n",
    "# boolean 배열\n",
    "arr= np.array([True,False,True])\n",
    "print(arr, arr.dtype)\n",
    "\n",
    "# 객체 배열 == list\n",
    "arr= np.array([1,'hello',[1,2,3],True] ,dtype=object) # 요소들을 object 타입으로 통일\n",
    "print(arr, arr.dtype)\n",
    "\n",
    "# 숫자 배열 -> 계산 최적화(가장 효율적)\n",
    "# 문자열 배열, boolean 배열도 가능하지만 수학 계산에는 부적합"
   ]
  },
  {
   "cell_type": "code",
   "execution_count": null,
   "id": "a964d1af",
   "metadata": {},
   "outputs": [
    {
     "name": "stdout",
     "output_type": "stream",
     "text": [
      "[1 2 3 4] int64\n",
      "[1. 2. 3. 4.] float64\n",
      "[1 2 3 4] int64\n"
     ]
    }
   ],
   "source": [
    "data=np.arange(1,5)\n",
    "print(data, data.dtype)\n",
    "data=data.astype('float64') # 그냥 float만 써도 되긴하네\n",
    "print(data, data.dtype)\n",
    "data=data.astype('int32')\n",
    "print(data, data.dtype)\n"
   ]
  },
  {
   "cell_type": "code",
   "execution_count": 24,
   "id": "3ae5dd3a",
   "metadata": {},
   "outputs": [
    {
     "name": "stdout",
     "output_type": "stream",
     "text": [
      "[[0. 0. 0. 0. 0.]\n",
      " [0. 0. 0. 0. 0.]]\n",
      "[[1. 1. 1. 1.]\n",
      " [1. 1. 1. 1.]\n",
      " [1. 1. 1. 1.]]\n",
      "[1 2 3 4 5]\n"
     ]
    }
   ],
   "source": [
    "d1=np.zeros((2,5))\n",
    "print(d1)\n",
    "d2=np.ones((3,4))\n",
    "print(d2)\n",
    "d3=np.arange(1,6)\n",
    "print(d3)\n"
   ]
  },
  {
   "cell_type": "code",
   "execution_count": 31,
   "id": "f70bd07e",
   "metadata": {},
   "outputs": [
    {
     "name": "stdout",
     "output_type": "stream",
     "text": [
      "[[ 1.09068234 -0.23068582 -0.72158703 -0.67378846 -1.26653709]]\n"
     ]
    }
   ],
   "source": [
    "d4= np.random.randn(1,5) # 정규분포( 중앙값 0, 표준편차 1)에서 난수 10개를 뽑아 배열생성\n",
    "print(d4)"
   ]
  },
  {
   "cell_type": "code",
   "execution_count": 32,
   "id": "51b1bc03",
   "metadata": {},
   "outputs": [
    {
     "name": "stdout",
     "output_type": "stream",
     "text": [
      "[[1. 1. 1.]\n",
      " [1. 1. 1.]]\n",
      "[[1. 1.]\n",
      " [1. 1.]\n",
      " [1. 1.]] (3, 2)\n"
     ]
    }
   ],
   "source": [
    "a=np.ones((2,3))\n",
    "print(a)\n",
    "b=np.transpose(a)\n",
    "print(b,b.shape)"
   ]
  },
  {
   "cell_type": "code",
   "execution_count": 29,
   "id": "efddeaff",
   "metadata": {},
   "outputs": [
    {
     "name": "stdout",
     "output_type": "stream",
     "text": [
      "[[14 26 38]\n",
      " [42 54 66]]\n",
      "[[ 24  69 136]\n",
      " [216 329 464]]\n",
      "[[0.16666667 0.13043478 0.11764706]\n",
      " [0.16666667 0.14893617 0.13793103]]\n",
      "[[-10 -20 -30]\n",
      " [-30 -40 -50]]\n"
     ]
    }
   ],
   "source": [
    "arr1=np.array([[2,3,4],[6,7,8]])\n",
    "arr2=np.array([[12,23,34],[36,47,58]])\n",
    "\n",
    "# 배열의 덧셈\n",
    "print(arr1+arr2)\n",
    "# 배열의 곱셈\n",
    "print(arr1*arr2)\n",
    "# 배열의 나눗셈\n",
    "print(arr1/arr2)\n",
    "# 배열의 뺄셈\n",
    "print(arr1-arr2)"
   ]
  },
  {
   "cell_type": "code",
   "execution_count": null,
   "id": "453678ba",
   "metadata": {},
   "outputs": [
    {
     "name": "stdout",
     "output_type": "stream",
     "text": [
      "[[102 203 304]\n",
      " [106 207 308]]\n",
      "[[102 203 304]\n",
      " [106 207 308]]\n"
     ]
    },
    {
     "ename": "ValueError",
     "evalue": "operands could not be broadcast together with shapes (2,3) (5,) ",
     "output_type": "error",
     "traceback": [
      "\u001b[31m---------------------------------------------------------------------------\u001b[39m",
      "\u001b[31mValueError\u001b[39m                                Traceback (most recent call last)",
      "\u001b[36mCell\u001b[39m\u001b[36m \u001b[39m\u001b[32mIn[33]\u001b[39m\u001b[32m, line 7\u001b[39m\n\u001b[32m      4\u001b[39m \u001b[38;5;28mprint\u001b[39m(arr3+arr1)\n\u001b[32m      6\u001b[39m arr4=np.array([\u001b[32m100\u001b[39m,\u001b[32m200\u001b[39m,\u001b[32m300\u001b[39m,\u001b[32m400\u001b[39m,\u001b[32m500\u001b[39m])\n\u001b[32m----> \u001b[39m\u001b[32m7\u001b[39m \u001b[38;5;28mprint\u001b[39m(\u001b[43marr1\u001b[49m\u001b[43m+\u001b[49m\u001b[43marr4\u001b[49m)\n",
      "\u001b[31mValueError\u001b[39m: operands could not be broadcast together with shapes (2,3) (5,) "
     ]
    }
   ],
   "source": [
    "arr3= np.array([100,200,300])\n",
    "# 크기가 다를 경우\n",
    "print(arr1+arr3)\n",
    "print(arr3+arr1)\n",
    "\n",
    "arr4=np.array([100,200,300,400,500])\n",
    "print(arr1+arr4) # 행이나 열의 크기 중 하나는 같아야함"
   ]
  },
  {
   "cell_type": "code",
   "execution_count": 19,
   "id": "772ba993",
   "metadata": {},
   "outputs": [
    {
     "name": "stdout",
     "output_type": "stream",
     "text": [
      "[[1. 2. 1. 2. 2.]\n",
      " [1. 3. 2. 3. 2.]\n",
      " [1. 4. 3. 3. 3.]\n",
      " [2. 5. 4. 4. 4.]\n",
      " [2. 5. 6. 2. 5.]\n",
      " [3. 6. 4. 2. 5.]\n",
      " [3. 5. 4. 1. 6.]\n",
      " [3. 5. 5. 1. 3.]]\n"
     ]
    }
   ],
   "source": [
    "import numpy as np\n",
    "import module.usecsv as usecsv\n",
    "\n",
    "quest=np.array(usecsv.switch(usecsv.opencsv('quest.csv')))\n",
    "print(quest)"
   ]
  },
  {
   "cell_type": "code",
   "execution_count": 14,
   "id": "2cde9648",
   "metadata": {},
   "outputs": [
    {
     "name": "stdout",
     "output_type": "stream",
     "text": [
      "[[False False False False False]\n",
      " [False False False False False]\n",
      " [False False False False False]\n",
      " [False False False False False]\n",
      " [False False  True False False]\n",
      " [False  True False False False]\n",
      " [False False False False  True]\n",
      " [False False False False False]]\n"
     ]
    }
   ],
   "source": [
    "print(quest>5)"
   ]
  },
  {
   "cell_type": "code",
   "execution_count": 18,
   "id": "713a171c",
   "metadata": {},
   "outputs": [
    {
     "name": "stdout",
     "output_type": "stream",
     "text": [
      "[[1. 2. 1. 2. 2.]\n",
      " [1. 3. 2. 3. 2.]\n",
      " [1. 4. 3. 3. 3.]\n",
      " [2. 5. 4. 4. 4.]\n",
      " [2. 5. 5. 2. 5.]\n",
      " [3. 5. 4. 2. 5.]\n",
      " [3. 5. 4. 1. 5.]\n",
      " [3. 5. 5. 1. 3.]]\n"
     ]
    }
   ],
   "source": [
    "quest[quest>5]=5\n",
    "print(quest)"
   ]
  },
  {
   "cell_type": "code",
   "execution_count": 27,
   "id": "49bd46e7",
   "metadata": {},
   "outputs": [
    {
     "name": "stdout",
     "output_type": "stream",
     "text": [
      "[ True  True  True  True False False False  True]\n",
      "[[1. 2. 1. 2. 2.]\n",
      " [1. 3. 2. 3. 2.]\n",
      " [1. 4. 3. 3. 3.]\n",
      " [2. 5. 4. 4. 4.]\n",
      " [3. 5. 5. 1. 3.]]\n"
     ]
    }
   ],
   "source": [
    "d=np.all((quest>=0) & (quest<6), axis=1) \n",
    "print(d)\n",
    "\n",
    "q_d=quest[d]\n",
    "print(q_d)"
   ]
  },
  {
   "cell_type": "code",
   "execution_count": 24,
   "id": "2bfbd3a1",
   "metadata": {},
   "outputs": [
    {
     "name": "stdout",
     "output_type": "stream",
     "text": [
      "[[5 8]\n",
      " [5 6]]\n"
     ]
    }
   ],
   "source": [
    "# matrix_a = [[1,1,2],[2,1,1]]\n",
    "# matrix_b = [[1,1],[2,1],[1,3]]\n",
    "\n",
    "# result = [[sum(a*b for a , b in zip(row_a, column_b))\n",
    "#                   for column_b in zip(*matrix_b)] for row_a in matrix_a]\n",
    "# print(result)\n",
    "\n",
    "\n",
    "matrix_a=np.array([[1,1,2],[2,1,1]])\n",
    "matrix_b=np.array([[1,1],[2,1],[1,3]])\n",
    "\n",
    "result= matrix_a @ matrix_b # 행렬의 곱\n",
    "print(result)\n"
   ]
  },
  {
   "cell_type": "code",
   "execution_count": 28,
   "id": "1a05f803",
   "metadata": {},
   "outputs": [
    {
     "name": "stdout",
     "output_type": "stream",
     "text": [
      "21\n",
      "[5 7 9]\n",
      "[ 6 15]\n"
     ]
    }
   ],
   "source": [
    "arr = np.array([[1, 2, 3],\n",
    "                [4, 5, 6]])\n",
    "\n",
    "total = np.sum(arr)         # 모든 요소 합\n",
    "col_sum = np.sum(arr, axis=0)  # 열 합\n",
    "row_sum = np.sum(arr, axis=1)  # 행 합\n",
    "\n",
    "print(total)    # 21\n",
    "print(col_sum)  # [5 7 9]\n",
    "print(row_sum)  # [ 6 15]"
   ]
  },
  {
   "cell_type": "code",
   "execution_count": 29,
   "id": "5229e3a1",
   "metadata": {},
   "outputs": [
    {
     "name": "stdout",
     "output_type": "stream",
     "text": [
      "3.5\n",
      "[2.5 3.5 4.5]\n",
      "[2. 5.]\n"
     ]
    }
   ],
   "source": [
    "arr = np.array([[1, 2, 3],\n",
    "                [4, 5, 6]])\n",
    "\n",
    "total_mean = np.mean(arr)          # 전체 평균\n",
    "col_mean = np.mean(arr, axis=0)    # 열 평균\n",
    "row_mean = np.mean(arr, axis=1)    # 행 평균\n",
    "\n",
    "print(total_mean)  # 3.5\n",
    "print(col_mean)    # [2.5 3.5 4.5]\n",
    "print(row_mean)    # [2. 5.]"
   ]
  },
  {
   "cell_type": "markdown",
   "id": "f3d73e88",
   "metadata": {},
   "source": [
    "문제1 :\n",
    "1부터 10까지의 정수로 이루어진 NumPy 배열을 만들고,\n",
    "\n",
    "배열의 합, 배열의 평균, 배열의 제곱 각각 출력\n",
    "\n",
    "\n",
    "문제2:\n",
    "\n",
    "arr = np.array([[1, 2, 3],\n",
    "                [4, 5, 6],\n",
    "                [7, 8, 9]])\n",
    "\n",
    "\n",
    "두 번째 행만 출력\n",
    "첫 번째 열만 출력\n",
    "(2,2) 위치의 원소를 출력\n",
    "\n",
    "\n",
    "문제3 :\n",
    "다음 두 행렬의 곱(np.dot)\n",
    "A = np.array([[1, 2],\n",
    "              [3, 4]])\n",
    "B = np.array([[5, 6],\n",
    "              [7, 8]])\n",
    "\n",
    "\n",
    "문제4:\n",
    "다음 배열에 10을 더하기.(반복문 없이 NumPy 연산 사용)\n",
    "arr = np.array([1, 2, 3, 4, 5])\n",
    "\n",
    "\n",
    "문제5:\n",
    "다음 배열의\n",
    "arr = np.array([10, 20, 30, 40, 50])\n",
    "최댓값(max()), 최솟값(min()), 표준편차(stu()) 출력"
   ]
  },
  {
   "cell_type": "code",
   "execution_count": 79,
   "id": "fa1c49df",
   "metadata": {},
   "outputs": [
    {
     "name": "stdout",
     "output_type": "stream",
     "text": [
      "합:55\n",
      "평균:5.5\n",
      "제곱:[  1   4   9  16  25  36  49  64  81 100]\n",
      " \n"
     ]
    }
   ],
   "source": [
    "# 문제1 :\n",
    "# 1부터 10까지의 정수로 이루어진 NumPy 배열을 만들고, 배열의 합, 배열의 평균, 배열의 제곱 각각 출력\n",
    "import numpy as np\n",
    "\n",
    "Numpy=np.arange(1,11)\n",
    "num_sum=np.sum(Numpy)\n",
    "num_mean=np.mean(Numpy)\n",
    "# num_pow=np.pow(Numpy,2)\n",
    "num_pow=Numpy ** 2\n",
    "\n",
    "\n",
    "print(f'합:{num_sum}\\n평균:{num_mean}\\n제곱:{num_pow}\\n ')"
   ]
  },
  {
   "cell_type": "code",
   "execution_count": 85,
   "id": "044aeed0",
   "metadata": {},
   "outputs": [
    {
     "name": "stdout",
     "output_type": "stream",
     "text": [
      "[4 5 6]\n",
      "[1 4 7]\n",
      "5\n"
     ]
    }
   ],
   "source": [
    "# 문제2:\n",
    "\n",
    "# 두 번째 행만 출력\n",
    "# 첫 번째 열만 출력\n",
    "# (2,2) 위치의 원소를 출력\n",
    "\n",
    "arr = np.array([[1, 2, 3],\n",
    "                [4, 5, 6],\n",
    "                [7, 8, 9]])\n",
    "\n",
    "print(arr[1])\n",
    "print(arr[:,0])\n",
    "print(arr[1][1])"
   ]
  },
  {
   "cell_type": "code",
   "execution_count": 72,
   "id": "7d98aaf8",
   "metadata": {},
   "outputs": [
    {
     "name": "stdout",
     "output_type": "stream",
     "text": [
      "[[19 22]\n",
      " [43 50]]\n",
      "[[19 22]\n",
      " [43 50]]\n"
     ]
    }
   ],
   "source": [
    "# 문제3 :\n",
    "# 다음 두 행렬의 곱(np.dot)\n",
    "A = np.array([[1, 2],\n",
    "              [3, 4]])\n",
    "B = np.array([[5, 6],\n",
    "              [7, 8]])\n",
    "\n",
    "print(np.dot(A,B))\n",
    "\n",
    "print(A@B)"
   ]
  },
  {
   "cell_type": "code",
   "execution_count": 63,
   "id": "ffbbc7e2",
   "metadata": {},
   "outputs": [
    {
     "name": "stdout",
     "output_type": "stream",
     "text": [
      "[11 12 13 14 15]\n"
     ]
    }
   ],
   "source": [
    "# 문제4:\n",
    "# 다음 배열에 10을 더하기.(반복문 없이 NumPy 연산 사용)\n",
    "arr = np.array([1, 2, 3, 4, 5])\n",
    "\n",
    "arr=arr+10\n",
    "\n",
    "print(arr)\n"
   ]
  },
  {
   "cell_type": "code",
   "execution_count": 75,
   "id": "913849ef",
   "metadata": {},
   "outputs": [
    {
     "name": "stdout",
     "output_type": "stream",
     "text": [
      "50\n",
      "10\n",
      "14.142135623730951\n"
     ]
    }
   ],
   "source": [
    "# 문제5:\n",
    "# 다음 배열의 최댓값(max()), 최솟값(min()), 표준편차(std()) 출력\n",
    "arr = np.array([10, 20, 30, 40, 50])\n",
    "\n",
    "print(np.max(arr))\n",
    "print(np.min(arr))\n",
    "print(np.std(arr))\n"
   ]
  }
 ],
 "metadata": {
  "kernelspec": {
   "display_name": "analysis",
   "language": "python",
   "name": "python3"
  },
  "language_info": {
   "codemirror_mode": {
    "name": "ipython",
    "version": 3
   },
   "file_extension": ".py",
   "mimetype": "text/x-python",
   "name": "python",
   "nbconvert_exporter": "python",
   "pygments_lexer": "ipython3",
   "version": "3.13.3"
  }
 },
 "nbformat": 4,
 "nbformat_minor": 5
}
