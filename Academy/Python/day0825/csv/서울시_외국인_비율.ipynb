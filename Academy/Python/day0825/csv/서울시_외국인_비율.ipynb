{
 "cells": [
  {
   "cell_type": "code",
   "execution_count": null,
   "id": "ceca0386",
   "metadata": {},
   "outputs": [],
   "source": [
    "import os\n",
    "os.chdir(r'D:\\새 폴더\\Programing\\Academy\\Python\\day0825')\n",
    "\n",
    "import module.usecsv as usecsv\n",
    "\n",
    "a = [['구','전체','내국인','외국인'],\n",
    "    ['서초구','169518','411515','407672'],\n",
    "    ['강남구','234885','536710','531777'],\n",
    "    ['송파구','286119','668638','662961'],\n",
    "    ['강동구','202861','465496','461630']]\n",
    "\n",
    "usecsv.writecsv('csv/abc.csv', a)\n"
   ]
  },
  {
   "cell_type": "code",
   "execution_count": 2,
   "id": "848e4010",
   "metadata": {},
   "outputs": [
    {
     "name": "stdout",
     "output_type": "stream",
     "text": [
      "[['구', '전체', '내국인', '외국인'], ['서초구', '169518', '411515', '407672'], ['강남구', '234885', '536710', '531777'], ['송파구', '286119', '668638', '662961'], ['강동구', '202861', '465496', '461630']]\n"
     ]
    }
   ],
   "source": [
    "a_list=usecsv.opencsv('csv/abc.csv')\n",
    "print(a_list)\n"
   ]
  },
  {
   "cell_type": "code",
   "execution_count": 3,
   "id": "0acf3f52",
   "metadata": {},
   "outputs": [
    {
     "name": "stdout",
     "output_type": "stream",
     "text": [
      "[['구', '전체', '내국인', '외국인'], ['서초구', 169518.0, 411515.0, 407672.0], ['강남구', 234885.0, 536710.0, 531777.0], ['송파구', 286119.0, 668638.0, 662961.0], ['강동구', 202861.0, 465496.0, 461630.0]]\n"
     ]
    }
   ],
   "source": [
    "b_list=usecsv.opencsv('csv/abc.csv')\n",
    "print(usecsv.switch(b_list))"
   ]
  },
  {
   "cell_type": "code",
   "execution_count": 4,
   "id": "f153ef73",
   "metadata": {},
   "outputs": [
    {
     "name": "stdout",
     "output_type": "stream",
     "text": [
      "['abc.csv', 'apt202508.csv', 'en_to_kr.csv', 'popSeoul2025.csv', 's.25.csv', 'under10in종로.csv', '서울시_외국인_비율.ipynb', '아파트검색.ipynb']\n"
     ]
    }
   ],
   "source": [
    "import os, usecsv\n",
    "print(os.listdir('csv'))"
   ]
  },
  {
   "cell_type": "code",
   "execution_count": null,
   "id": "a593a8b0",
   "metadata": {},
   "outputs": [],
   "source": [
    "import os,re,usecsv\n",
    "\n",
    "seoul=usecsv.opencsv('csv/popSeoul2025.csv')\n",
    "seoul25=usecsv.switch(seoul)\n",
    "\n",
    "print(seoul25[:5])"
   ]
  },
  {
   "cell_type": "code",
   "execution_count": null,
   "id": "73f56caf",
   "metadata": {},
   "outputs": [],
   "source": [
    "i= seoul25[1]\n",
    "print(i)\n",
    "\n",
    "foreign=round(i[2] / (i[1]+i[2]) *100, 1 )\n",
    "\n",
    "print(foreign)"
   ]
  },
  {
   "cell_type": "code",
   "execution_count": null,
   "id": "7ec7e558",
   "metadata": {},
   "outputs": [],
   "source": [
    "for i in seoul25 :\n",
    "    foreign=0\n",
    "    try :\n",
    "        foreign = round(i[2]/(i[1]+i[2])*100,1)\n",
    "        print(f'{i[0]} {foreign}%')\n",
    "    except :\n",
    "        pass\n"
   ]
  },
  {
   "cell_type": "code",
   "execution_count": null,
   "id": "e5662bad",
   "metadata": {},
   "outputs": [],
   "source": [
    "new=[['구','한국인','외국인','외국인 비율(%)']]\n",
    "\n",
    "for i in seoul25 :\n",
    "    foreign = 0\n",
    "    try :\n",
    "        foreign = round(i[2]/(i[1]+i[2])*100,1)\n",
    "        # print(i[0],foreign)\n",
    "        new.append([i[0],i[1],i[2],foreign])\n",
    "    except :\n",
    "        pass\n",
    "print(new)"
   ]
  },
  {
   "cell_type": "code",
   "execution_count": null,
   "id": "890b46d0",
   "metadata": {},
   "outputs": [],
   "source": [
    "sort_data=sorted(new[1:], key=lambda x:x[3],reverse=True)\n",
    "\n",
    "sort_data.insert(0,['구','한국인','외국인','외국인 비율(%)'])\n",
    "for sp in sort_data :\n",
    "    print(sp)"
   ]
  },
  {
   "cell_type": "code",
   "execution_count": 62,
   "id": "3219e411",
   "metadata": {},
   "outputs": [
    {
     "name": "stdout",
     "output_type": "stream",
     "text": [
      "[['구', '한국인', '외국인', '외국인 비율(%)'], ['Jongrogu', 149332.0, 11294.0, 7.0], ['Jongru', 129616.0, 10568.0, 7.5], ['Yongsangu', 216214.0, 13132.0, 5.7], ['Dongdaemoongu', 361871.0, 19727.0, 5.2], ['Gurogu', 410488.0, 24209.0, 5.6], ['Guemcheongu', 238305.0, 14019.0, 5.6], ['Youngdeungpogu', 396841.0, 23778.0, 5.7]]\n"
     ]
    }
   ],
   "source": [
    "# class\n",
    "# 외국인 비율이 5%이상인 구만 뽑아서 s25.csv파일로 저장\n",
    "\n",
    "new=[['구','한국인','외국인','외국인 비율(%)']]\n",
    "\n",
    "for i in seoul25 :\n",
    "    foreign = 0\n",
    "    try :\n",
    "        foreign = round(i[2]/(i[1]+i[2])*100,1)\n",
    "        if foreign>5:\n",
    "            new.append([i[0],i[1],i[2],foreign])\n",
    "    except :\n",
    "        pass\n",
    "print(new)\n",
    "\n",
    "usecsv.writecsv('csv/s.25.csv',new)"
   ]
  },
  {
   "cell_type": "code",
   "execution_count": 20,
   "id": "0d9cc0d9",
   "metadata": {},
   "outputs": [
    {
     "name": "stdout",
     "output_type": "stream",
     "text": [
      "[['구', '한국인', '외국인', '외국인 비율(%)'], ['Jongrogu', 149332.0, 11294.0, 7], ['Jongru', 129616.0, 10568.0, 8], ['Yongsangu', 216214.0, 13132.0, 6], ['Gurogu', 410488.0, 24209.0, 6], ['Guemcheongu', 238305.0, 14019.0, 6], ['Youngdeungpogu', 396841.0, 23778.0, 6]]\n"
     ]
    }
   ],
   "source": [
    "# 외국인 비율이 5%이상인 구만 뽑아서 s25.csv파일로 저장\n",
    "\n",
    "f=usecsv.opencsv('csv/popSeoul2025.csv')\n",
    "list_25=usecsv.switch(f)\n",
    "\n",
    "new=[['구','한국인','외국인','외국인 비율(%)']]\n",
    "\n",
    "for i in list_25 :\n",
    "\n",
    "    foreign=0\n",
    "    try :\n",
    "        foreign=round(i[2]/(i[1]+i[2])*100)\n",
    "        if foreign>5:\n",
    "            new.append([i[0],i[1],i[2],foreign])\n",
    "    except:\n",
    "        pass\n",
    "print(new)\n",
    "\n",
    "# usecsv."
   ]
  },
  {
   "cell_type": "code",
   "execution_count": 2,
   "id": "0e2bf7d9",
   "metadata": {},
   "outputs": [
    {
     "name": "stdout",
     "output_type": "stream",
     "text": [
      "['abc.csv', 'apt202508.csv', 'clean.csv', 'en_to_kr.csv', 'popSeoul2025.csv', 's.25.csv', 'under10in종로.csv', '서울시_외국인_비율.ipynb', '아파트검색.ipynb']\n"
     ]
    }
   ],
   "source": [
    "import os,usecsv\n",
    "print(os.listdir())"
   ]
  },
  {
   "cell_type": "code",
   "execution_count": 1,
   "id": "45541784",
   "metadata": {},
   "outputs": [
    {
     "name": "stdout",
     "output_type": "stream",
     "text": [
      "d:\\새 폴더\\Programing\\Academy\\Python\\day0825\\csv\n"
     ]
    }
   ],
   "source": [
    "import os\n",
    "print(os.getcwd())"
   ]
  }
 ],
 "metadata": {
  "kernelspec": {
   "display_name": "analysis",
   "language": "python",
   "name": "python3"
  },
  "language_info": {
   "codemirror_mode": {
    "name": "ipython",
    "version": 3
   },
   "file_extension": ".py",
   "mimetype": "text/x-python",
   "name": "python",
   "nbconvert_exporter": "python",
   "pygments_lexer": "ipython3",
   "version": "3.13.3"
  }
 },
 "nbformat": 4,
 "nbformat_minor": 5
}
