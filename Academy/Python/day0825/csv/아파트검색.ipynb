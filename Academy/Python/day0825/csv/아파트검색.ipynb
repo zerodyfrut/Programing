{
 "cells": [
  {
   "cell_type": "code",
   "execution_count": 1,
   "id": "e4b0b5fa",
   "metadata": {},
   "outputs": [
    {
     "name": "stdout",
     "output_type": "stream",
     "text": [
      "['analysis', 'csv', 'data_analysis', 'en_to_kr.csv', 'module', 'quest.csv', 'set_marker_05.png', 'survey.csv', 'today(day0825).txt']\n"
     ]
    }
   ],
   "source": [
    "import os\n",
    "os.chdir(r'D:\\새 폴더\\Programing\\Academy\\Python\\day0825')\n",
    "import module.usecsv as usecsv\n",
    "\n",
    "print(os.listdir())\n"
   ]
  },
  {
   "cell_type": "code",
   "execution_count": 2,
   "id": "9f2aa47d",
   "metadata": {},
   "outputs": [
    {
     "name": "stdout",
     "output_type": "stream",
     "text": [
      "[['시군구', '단지명', '전용면적(㎡)', '거래금액(만원)', '층', '건축년도', '도로명'], ['경기도 수원시 영통구 원천동', '원천레이크파크', 84.79, 59900.0, 11.0, 1999.0, '중부대로448번길 28'], ['경기도 수원시 영통구 원천동', '원천레이크파크', 84.79, 59900.0, 11.0, 1999.0, '중부대로448번길 28']]\n",
      "21957\n"
     ]
    }
   ],
   "source": [
    "apt=usecsv.switch(usecsv.opencsv_cp('csv/apt202508.csv'))\n",
    "print(apt[0:3])\n",
    "print(len(apt))"
   ]
  },
  {
   "cell_type": "code",
   "execution_count": 3,
   "id": "f5f65da8",
   "metadata": {},
   "outputs": [
    {
     "name": "stdout",
     "output_type": "stream",
     "text": [
      "경기도 수원시 영통구 원천동 원천레이크파크 84.79 59900.0\n",
      "경기도 수원시 영통구 원천동 원천레이크파크 84.79 59900.0\n",
      "대전광역시 대덕구 법동 삼익소월 84.85 22500.0\n",
      "부산광역시 영도구 봉래동4가 영도센트럴에일린의뜰 84.94 48500.0\n",
      "부산광역시 영도구 청학동 한라비치 84.83 16700.0\n"
     ]
    }
   ],
   "source": [
    "for i in apt[1:6]:\n",
    "    print(i[0],i[1],i[2],i[-4])"
   ]
  },
  {
   "cell_type": "code",
   "execution_count": 21,
   "id": "1c46df94",
   "metadata": {},
   "outputs": [
    {
     "name": "stdout",
     "output_type": "stream",
     "text": [
      "['서울특별시 종로구 창신동', '창신쌍용2', 64.66, 66000.0, 7.0, 1993.0, '낙산길 198']\n",
      "['서울특별시 종로구 평창동', '삼성', 84.93, 86000.0, 10.0, 1998.0, '평창문화로 172']\n",
      "['서울특별시 종로구 창신동', '창신쌍용2', 64.66, 63000.0, 3.0, 1993.0, '낙산길 198']\n",
      "['서울특별시 종로구 창신동', '창신쌍용2', 64.66, 65000.0, 5.0, 1993.0, '낙산길 198']\n",
      "['서울특별시 종로구 청운동', '청운현대', 68.43, 99000.0, 4.0, 2000.0, '자하문로33길 43']\n",
      "['서울특별시 종로구 창신동', '창신쌍용1', 79.87, 73600.0, 11.0, 1992.0, '동망산길 19']\n"
     ]
    }
   ],
   "source": [
    "import re\n",
    "new_list=[]\n",
    "\n",
    "for i in apt : \n",
    "    try:\n",
    "        if i[2]>=59 and i[3]<100000 and re.search(r'종로',i[0]):\n",
    "            new_list.append(i)\n",
    "            print(i)\n",
    "    except:\n",
    "        pass\n",
    "\n",
    "usecsv.writecsv('csv/under10in종로.csv',new_list)"
   ]
  },
  {
   "cell_type": "code",
   "execution_count": 28,
   "id": "6e210693",
   "metadata": {},
   "outputs": [
    {
     "name": "stdout",
     "output_type": "stream",
     "text": [
      "['그녀는 채식주의자입니다']\n",
      "['She is a vegetarian']\n"
     ]
    }
   ],
   "source": [
    "English = 'She is a vegetarian. She does not eat meat. She thinks that animals should not be killed. It is hard for her to hang out with people. Many people like to eat meat. She told his parents not to have meat. They laughed at her. She realized they couldn\\'t give up meat.'\n",
    "## 영문을 English 객체에 저장합니다 \n",
    "Korean = '그녀는 채식주의자입니다. 그녀는 고기를 먹지 않습니다. 그녀는 동물을 죽이지 말아야한다고 생각합니다. 그녀가 사람들과 어울리는 것은 어렵습니다. 많은 사람들이 고기를 좋아합니다. 그녀는 부모에게 고기를 먹지 말라고 말했습니다. 그들은 그녀를 비웃었다. 그녀는 그들이 고기를 포기할 수 없다는 것을 깨달았습니다.'\n",
    "\n",
    "klist = re.split(r'\\.', Korean)\n",
    "elist = re.split(r'\\.', English)\n",
    "\n",
    "print(klist[:1])\n",
    "print(elist[:1])\n",
    "\n",
    "total = []\n",
    "\n",
    "for i in range(0,len(klist)-1):\n",
    "    total.append([elist[i], klist[i]])\n",
    "\n",
    "usecsv.writecsv(\"csv/en_to_kr.csv\", total)"
   ]
  }
 ],
 "metadata": {
  "kernelspec": {
   "display_name": "analysis",
   "language": "python",
   "name": "python3"
  },
  "language_info": {
   "codemirror_mode": {
    "name": "ipython",
    "version": 3
   },
   "file_extension": ".py",
   "mimetype": "text/x-python",
   "name": "python",
   "nbconvert_exporter": "python",
   "pygments_lexer": "ipython3",
   "version": "3.13.3"
  }
 },
 "nbformat": 4,
 "nbformat_minor": 5
}
