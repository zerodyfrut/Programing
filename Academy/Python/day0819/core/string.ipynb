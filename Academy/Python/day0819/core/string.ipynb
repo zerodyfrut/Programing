{
 "cells": [
  {
   "cell_type": "code",
   "execution_count": 5,
   "id": "6dea5bd9",
   "metadata": {},
   "outputs": [
    {
     "name": "stdout",
     "output_type": "stream",
     "text": [
      "42 43 44\n",
      "60 62 64\n"
     ]
    }
   ],
   "source": [
    "import sys\n",
    "\n",
    "print(sys.getsizeof(\"a\"),sys.getsizeof(\"ab\"), sys.getsizeof(\"abc\"))\n",
    "print(sys.getsizeof(\"가\"),sys.getsizeof(\"가나\"), sys.getsizeof(\"가나다\"))\n"
   ]
  },
  {
   "cell_type": "code",
   "execution_count": null,
   "id": "dab90f0a",
   "metadata": {},
   "outputs": [
    {
     "name": "stdout",
     "output_type": "stream",
     "text": [
      "TEAMLA AND ME Python\n",
      "TEAMLAB MOOC, AWESOME Python\n",
      "TEAMLAB MOOC, AWESOME Python\n",
      "TALBMO,AEOEPto AND nohtyP EMOSEWA ,COOM BALMAET\n",
      "\n"
     ]
    }
   ],
   "source": [
    "a=\"TEAMLAB MOOC, AWESOME Python\"\n",
    "\n",
    "print(a[0:6],\"AND\",a[-9:])\n",
    "print(a[:])\n",
    "print(a[-50:50])\n",
    "print(a[::2], \"AND\", a[::-1])\n",
    "print(a[0:50:-10])"
   ]
  },
  {
   "cell_type": "code",
   "execution_count": 20,
   "id": "23218d2e",
   "metadata": {},
   "outputs": [
    {
     "name": "stdout",
     "output_type": "stream",
     "text": [
      "47\n",
      "법률은 특별한 규정\n",
      "효력을 발생한다\n",
      ".다한생발 을력효 써로으함과경 을일02 터부로날 한포공 한 는없 이정규 한별특 은률법\n",
      "법률은 특별한 규정이 없는 한 공포한 날로부터 20일을 경과함으로써 효력을 발생한다.\n"
     ]
    }
   ],
   "source": [
    "a=\"법률은 특별한 규정이 없는 한 공포한 날로부터 20일을 경과함으로써 효력을 발생한다.\"\n",
    "\n",
    "print(len(a))\n",
    "print(a[0:10])\n",
    "print(a[-9:-1])\n",
    "print(a[::-1])\n",
    "print(a[-50:50])\n"
   ]
  },
  {
   "cell_type": "code",
   "execution_count": null,
   "id": "ecc11149",
   "metadata": {},
   "outputs": [
    {
     "ename": "TypeError",
     "evalue": "can only concatenate str (not \"int\") to str",
     "output_type": "error",
     "traceback": [
      "\u001b[31m---------------------------------------------------------------------------\u001b[39m",
      "\u001b[31mTypeError\u001b[39m                                 Traceback (most recent call last)",
      "\u001b[36mCell\u001b[39m\u001b[36m \u001b[39m\u001b[32mIn[23]\u001b[39m\u001b[32m, line 4\u001b[39m\n\u001b[32m      1\u001b[39m \u001b[38;5;66;03m# 문자열 연산\u001b[39;00m\n\u001b[32m      3\u001b[39m int_value=\u001b[32m2\u001b[39m\n\u001b[32m----> \u001b[39m\u001b[32m4\u001b[39m \u001b[38;5;28mprint\u001b[39m(\u001b[33;43m\"\u001b[39;49m\u001b[33;43m결과는\u001b[39;49m\u001b[33;43m\"\u001b[39;49m\u001b[43m+\u001b[49m\u001b[43mint_value\u001b[49m)\n",
      "\u001b[31mTypeError\u001b[39m: can only concatenate str (not \"int\") to str"
     ]
    }
   ],
   "source": [
    "# 문자열 연산\n",
    "# 문자열와 숫자의 합연산은 불가\n",
    "\n",
    "int_value=2\n",
    "print(\"결과는\"+int_value)"
   ]
  },
  {
   "cell_type": "code",
   "execution_count": null,
   "id": "fb4a181b",
   "metadata": {},
   "outputs": [
    {
     "name": "stdout",
     "output_type": "stream",
     "text": [
      "TEAM LAB\n",
      "TEAMTEAM LABLAB\n",
      "TEAM\n"
     ]
    }
   ],
   "source": [
    "# 문자열 연산\n",
    "# 문자열와 숫자의 곱연산은 가능 : 문자를 숫자만큼 반복 출력\n",
    "\n",
    "a=\"TEAM\"\n",
    "b=\"LAB\"\n",
    "\n",
    "print(a+\" \"+b)\n",
    "print(a*2+\" \"+b*2)\n",
    "\n",
    "if 'A' in a : \n",
    "    print(a)\n",
    "else: print(b)"
   ]
  },
  {
   "cell_type": "code",
   "execution_count": 24,
   "id": "526fc806",
   "metadata": {},
   "outputs": [
    {
     "name": "stdout",
     "output_type": "stream",
     "text": [
      "47\n"
     ]
    }
   ],
   "source": [
    "# 문자열 함수\n",
    "# len(문자열) : 문자열 길이 반환\n",
    "\n",
    "a=\"법률은 특별한 규정이 없는 한 공포한 날로부터 20일을 경과함으로써 효력을 발생한다.\"\n",
    "\n",
    "print(len(a))"
   ]
  },
  {
   "cell_type": "code",
   "execution_count": 26,
   "id": "967a38ba",
   "metadata": {},
   "outputs": [
    {
     "name": "stdout",
     "output_type": "stream",
     "text": [
      "91\n",
      "LOREM IPSUM DOLOR SIT AMET, CONSECTETUER ADIPISCING ELIT. AENEAN COMMODO LIGULA EGET DOLOR.\n",
      "lorem ipsum dolor sit amet, consectetuer adipiscing elit. aenean commodo ligula eget dolor.\n",
      "Lorem Ipsum Dolor Sit Amet, Consectetuer Adipiscing Elit. Aenean Commodo Ligula Eget Dolor.\n",
      "Lorem ipsum dolor sit amet, consectetuer adipiscing elit. aenean commodo ligula eget dolor.\n"
     ]
    }
   ],
   "source": [
    "a= 'Lorem ipsum dolor sit amet, consectetuer adipiscing elit. Aenean commodo ligula eget dolor.'\n",
    "\n",
    "print(len(a))\n",
    "print(a.upper())\n",
    "print(a.lower())\n",
    "print(a.title())\n",
    "print(a.capitalize())"
   ]
  },
  {
   "cell_type": "code",
   "execution_count": 35,
   "id": "211fbdf0",
   "metadata": {},
   "outputs": [
    {
     "name": "stdout",
     "output_type": "stream",
     "text": [
      "1261\n"
     ]
    }
   ],
   "source": [
    "# 문자열 함수\n",
    "# isdigit() : 값이 정수인지 확인\n",
    "\n",
    "input_data=input('값 입력')\n",
    "if input_data.isdigit():\n",
    "    print(int(input_data))\n",
    "else:\n",
    "    print(\"input_data\")\n",
    "\n"
   ]
  },
  {
   "cell_type": "code",
   "execution_count": null,
   "id": "d58a3f5e",
   "metadata": {},
   "outputs": [
    {
     "data": {
      "text/plain": [
       "1"
      ]
     },
     "execution_count": 36,
     "metadata": {},
     "output_type": "execute_result"
    }
   ],
   "source": [
    "# 문자열 함수\n",
    "# count(문자열) : 해당 문자열이 얼마나 존재하는지 횟수 반환\n",
    "\n",
    "title=\"TEAMLAB X Infearn\"\n",
    "title.count(\"a\")"
   ]
  },
  {
   "cell_type": "code",
   "execution_count": null,
   "id": "58f7befc",
   "metadata": {},
   "outputs": [
    {
     "name": "stdout",
     "output_type": "stream",
     "text": [
      "\n",
      "It's Ok.\n",
      "I'm Unhappy.\n",
      "See you..\n",
      "\n"
     ]
    }
   ],
   "source": [
    "# 문자열 표현\n",
    "# 큰따옴표, 작은따옴표 세개로 감싸면 문자열 처리. 주석으로도 활용됨\n",
    "\n",
    "a=\"\"\"\n",
    "It's Ok.\n",
    "I'm Unhappy.\n",
    "See you..\n",
    "\"\"\"\n",
    "\n",
    "print (a)"
   ]
  },
  {
   "cell_type": "code",
   "execution_count": 89,
   "id": "8d311a61",
   "metadata": {},
   "outputs": [
    {
     "name": "stdout",
     "output_type": "stream",
     "text": [
      "count :  9\n"
     ]
    }
   ],
   "source": [
    "\n",
    "f=open(\"yesterday.txt\",'r') # r = 읽기용\n",
    "yesterday_lyric=f.readlines() # 줄바꿈을 기준으로 list로 가져옴\n",
    "f.close()\n",
    "\n",
    "contents=\"\"\n",
    "for line in yesterday_lyric:\n",
    "    contents= contents + line.strip() +\"\\n\" # 공백을 제거 및 개행\n",
    "\n",
    "n_of_yesterday=contents.lower().count(\"yesterday\")\n",
    "print('count : ',n_of_yesterday)"
   ]
  },
  {
   "cell_type": "code",
   "execution_count": 45,
   "id": "9d0c8a0f",
   "metadata": {},
   "outputs": [
    {
     "name": "stdout",
     "output_type": "stream",
     "text": [
      "count : 9\n",
      "count : 9\n",
      "count : 9\n"
     ]
    }
   ],
   "source": [
    "f=open(\"yesterday.txt\",'r') # r = 읽기용\n",
    "yesterday_lyric=f.read() \n",
    "f.close()\n",
    "\n",
    "y_count=yesterday_lyric.lower().count(\"yesterday\")\n",
    "print('count :',y_count)\n",
    "print('count : {}'.format(y_count))\n",
    "print(f'count : {y_count}')\n"
   ]
  },
  {
   "cell_type": "code",
   "execution_count": 95,
   "id": "5bb9d6d6",
   "metadata": {},
   "outputs": [
    {
     "name": "stdout",
     "output_type": "stream",
     "text": [
      "     *     \n",
      "    ***    \n",
      "   *****   \n",
      "  *******  \n",
      " ********* \n",
      "***********\n",
      "\n",
      "          *\n",
      "        ***\n",
      "      *****\n",
      "    *******\n",
      "  *********\n",
      "***********\n",
      "*          \n",
      "***        \n",
      "*****      \n",
      "*******    \n",
      "*********  \n",
      "***********\n"
     ]
    }
   ],
   "source": [
    "for i in range(1,12,2): # 1부터 11까지 2칸씩 진행\n",
    "    print(\"{:^11}\".format(\"*\" *i)) #총 11칸을 중앙부터 채움\n",
    "print()\n",
    "\n",
    "for i in range(1,12,2):\n",
    "    print(\"{:>11}\".format(\"*\" *i))\n",
    "\n",
    "for i in range(1,12,2):\n",
    "    print(\"{:<11}\".format(\"*\" *i))\n"
   ]
  }
 ],
 "metadata": {
  "kernelspec": {
   "display_name": "Python 3",
   "language": "python",
   "name": "python3"
  },
  "language_info": {
   "codemirror_mode": {
    "name": "ipython",
    "version": 3
   },
   "file_extension": ".py",
   "mimetype": "text/x-python",
   "name": "python",
   "nbconvert_exporter": "python",
   "pygments_lexer": "ipython3",
   "version": "3.13.3"
  }
 },
 "nbformat": 4,
 "nbformat_minor": 5
}
