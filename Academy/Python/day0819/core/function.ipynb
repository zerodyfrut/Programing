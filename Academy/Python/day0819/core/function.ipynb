{
 "cells": [
  {
   "cell_type": "markdown",
   "id": "1ca4f26b",
   "metadata": {},
   "source": [
    "### day0818 이후 이어서"
   ]
  },
  {
   "cell_type": "code",
   "execution_count": 1,
   "id": "2dd1be10",
   "metadata": {},
   "outputs": [
    {
     "name": "stdout",
     "output_type": "stream",
     "text": [
      "{'first': 3, 'second': 4, 'third': 5}\n",
      "First value is 3\n",
      "Second value is 4\n",
      "Third value is 5\n"
     ]
    }
   ],
   "source": [
    "def kwarge_test(**kwargs):\n",
    "    print(kwargs)\n",
    "    print (\"First value is {first}\".format(**kwargs))\n",
    "    print (\"Second value is {second}\".format(**kwargs))\n",
    "    print (\"Third value is {third}\".format(**kwargs))\n",
    "\n",
    "kwarge_test(first=3,second=4,third=5)"
   ]
  },
  {
   "cell_type": "code",
   "execution_count": 2,
   "id": "6a349fbe",
   "metadata": {},
   "outputs": [
    {
     "name": "stdout",
     "output_type": "stream",
     "text": [
      "{'f': 10, 's': 20}\n",
      "10\n"
     ]
    }
   ],
   "source": [
    "def kwrargs_test(**ka):\n",
    "    print(ka)\n",
    "    print(\"{f}\".format(**ka))\n",
    "\n",
    "kwrargs_test(f=10,s=20)"
   ]
  }
 ],
 "metadata": {
  "kernelspec": {
   "display_name": "Python 3",
   "language": "python",
   "name": "python3"
  },
  "language_info": {
   "codemirror_mode": {
    "name": "ipython",
    "version": 3
   },
   "file_extension": ".py",
   "mimetype": "text/x-python",
   "name": "python",
   "nbconvert_exporter": "python",
   "pygments_lexer": "ipython3",
   "version": "3.13.3"
  }
 },
 "nbformat": 4,
 "nbformat_minor": 5
}
