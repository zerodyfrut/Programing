{
 "cells": [
  {
   "cell_type": "code",
   "execution_count": 1,
   "id": "eadb592d",
   "metadata": {},
   "outputs": [
    {
     "name": "stdout",
     "output_type": "stream",
     "text": [
      "['red', 'green', 'blue']\n",
      "['black', 'white', 'pink', ['red', 'green', 'blue']]\n",
      "['red', 'green', 'blue', 'black', 'white', 'pink']\n"
     ]
    }
   ],
   "source": [
    "# list 함수\n",
    "# append() : list의 맨뒤에 값을 추가\n",
    "\n",
    "colors= ['red','green','blue']\n",
    "colors2= list() # 빈 리스트를 만드는 리스트함수\n",
    "colors3=list(colors) # 기존의 리스트를 가져올 수도 있음\n",
    "\n",
    "colors2.append('black')\n",
    "colors2.append('white')\n",
    "colors2.append('pink')\n",
    "colors2.append(colors) # 리스트를 추가하면 리스트 자체가 하나로 들어가네.\n",
    "\n",
    "colors3.append('black')\n",
    "colors3.append('white')\n",
    "colors3.append('pink')\n",
    "\n",
    "\n",
    "print(colors)\n",
    "print(colors2)\n",
    "print(colors3)\n"
   ]
  },
  {
   "cell_type": "code",
   "execution_count": 2,
   "id": "f237e690",
   "metadata": {},
   "outputs": [
    {
     "name": "stdout",
     "output_type": "stream",
     "text": [
      "red\n",
      "blue\n",
      "3\n",
      "blue\n"
     ]
    }
   ],
   "source": [
    "# 인덱스로 호출 가능\n",
    "\n",
    "print(colors[0])\n",
    "print(colors[2])\n",
    "print(len(colors))\n",
    "print(colors[-1])\n"
   ]
  },
  {
   "cell_type": "code",
   "execution_count": 3,
   "id": "5f3195ce",
   "metadata": {},
   "outputs": [
    {
     "name": "stdout",
     "output_type": "stream",
     "text": [
      "['red', 'green', 'blue', 'black', 'white', 'pink']\n",
      "['red', 'green', 'blue', 'black', 'white', 'pink']\n",
      "['red', 'green']\n",
      "['green', 'blue', 'black', 'white', 'pink']\n",
      "['red', 'green', 'blue', 'black', 'white', 'pink']\n",
      "['green', 'blue', 'black']\n",
      "['pink', 'white', 'black', 'blue', 'green', 'red']\n"
     ]
    }
   ],
   "source": [
    "# 슬라이싱\n",
    "\n",
    "print(colors3)\n",
    "print(colors3[:])\n",
    "print(colors3[:2])\n",
    "print(colors3[1:])\n",
    "print(colors3[-10:])\n",
    "print(colors3[-5:4])\n",
    "print(colors3[::-1])"
   ]
  },
  {
   "cell_type": "code",
   "execution_count": 4,
   "id": "9450aaa4",
   "metadata": {},
   "outputs": [
    {
     "name": "stdout",
     "output_type": "stream",
     "text": [
      "['red', 'green', 'blue', 'orange', 'black', 'puple'] \n",
      "<class 'list'>\n"
     ]
    }
   ],
   "source": [
    "# list 연산\n",
    "# list + list = 두 list의 값이 들어간 새로운 list 생성\n",
    "\n",
    "colors3=['orange', 'black', 'puple']\n",
    "\n",
    "total=colors+colors3\n",
    "print(total,\"\\n\"+str(type(total)))\n"
   ]
  },
  {
   "cell_type": "code",
   "execution_count": 5,
   "id": "d7177bf8",
   "metadata": {},
   "outputs": [
    {
     "name": "stdout",
     "output_type": "stream",
     "text": [
      "['red', 'green', 'blue', 'red', 'green', 'blue', 'red', 'green', 'blue']\n",
      "False \n",
      "True\n"
     ]
    }
   ],
   "source": [
    "# list 연산\n",
    "# list * int = list를 int 만큼 반복\n",
    "\n",
    "print(colors*3)\n",
    "print('blue' in colors3,\"\\n\"+str('red'in colors))"
   ]
  },
  {
   "cell_type": "code",
   "execution_count": 6,
   "id": "48e0b91f",
   "metadata": {},
   "outputs": [
    {
     "name": "stdout",
     "output_type": "stream",
     "text": [
      "['red', 'green', 'blue']\n",
      "['red', 'green', 'blue', 'puple']\n",
      "['red', 'green', 'blue', 'puple', 'yellow', 'pink']\n",
      "['navy', 'red', 'green', 'blue', 'puple', 'yellow', 'pink']\n"
     ]
    }
   ],
   "source": [
    "# list 함수\n",
    "# extend() : list의 맨뒤에 리스트 값를 추가\n",
    "#            + 와 차이 : 얘는 기존리스트의 수정, + 는 새로운 리스트로 반환\n",
    "# insert() : 특정 인덱스에 값을 추가, 기존 값부터 뒤로 밀림\n",
    "\n",
    "color1=['red','green','blue']\n",
    "print(color1)\n",
    "color1.append('puple')\n",
    "print(color1)\n",
    "color1.extend(['yellow','pink'])\n",
    "print(color1)\n",
    "color1.insert(0,'navy')\n",
    "print(color1)"
   ]
  },
  {
   "cell_type": "code",
   "execution_count": 7,
   "id": "0fc053b3",
   "metadata": {},
   "outputs": [
    {
     "name": "stdout",
     "output_type": "stream",
     "text": [
      "['navy', 'red', 'green', 'blue', 'puple', 'yellow', 'pink', ['puple']]\n",
      "['navy', 'red', 'green', 'blue', 'puple', 'yellow', 'pink', ['puple'], 'yellow', 'pink']\n",
      "[['navy', 'gray'], 'navy', 'red', 'green', 'blue', 'puple', 'yellow', 'pink', ['puple'], 'yellow', 'pink']\n"
     ]
    }
   ],
   "source": [
    "color1.append(['puple'])\n",
    "print(color1)\n",
    "color1.extend(['yellow','pink'])\n",
    "print(color1)\n",
    "color1.insert(0,['navy','gray'])\n",
    "print(color1)"
   ]
  },
  {
   "cell_type": "code",
   "execution_count": 8,
   "id": "cf971d34",
   "metadata": {},
   "outputs": [
    {
     "name": "stdout",
     "output_type": "stream",
     "text": [
      "['navy', 'green', 'red']\n"
     ]
    }
   ],
   "source": [
    "# list 함수\n",
    "# remove() : list의 해당 값을 삭제, 값이 중복될 경우, 앞의 값이 삭제됨\n",
    "\n",
    "color2=['navy', 'red', 'green','red']\n",
    "color2.remove('red') # 중복된 값이 여러개 있으면 앞에 값이 지워짐\n",
    "print(color2)"
   ]
  },
  {
   "cell_type": "code",
   "execution_count": 9,
   "id": "f1c98f5c",
   "metadata": {},
   "outputs": [
    {
     "name": "stdout",
     "output_type": "stream",
     "text": [
      "['navy', 'green']\n"
     ]
    }
   ],
   "source": [
    "# list 함수\n",
    "# del() : list의 해당 인덱스의 값의 삭제\n",
    "\n",
    "del color2[2:]\n",
    "print(color2)"
   ]
  },
  {
   "cell_type": "code",
   "execution_count": 10,
   "id": "00ea6ca6",
   "metadata": {},
   "outputs": [
    {
     "name": "stdout",
     "output_type": "stream",
     "text": [
      "(1, 2, 3) <class 'tuple'>\n"
     ]
    }
   ],
   "source": [
    "t=1,2,3\n",
    "print(t,type(t)) # tuple : list처럼 순서대로 데이터를 저장\n",
    "                 # 단, 생성된 tuple은 수정할 수 없다."
   ]
  },
  {
   "cell_type": "code",
   "execution_count": 11,
   "id": "8917eaf0",
   "metadata": {},
   "outputs": [
    {
     "name": "stdout",
     "output_type": "stream",
     "text": [
      "a : 1, b : 2, c : 3\n"
     ]
    }
   ],
   "source": [
    "a,b,c=t\n",
    "print(f'a : {a}, b : {b}, c : {c}')"
   ]
  },
  {
   "cell_type": "code",
   "execution_count": 12,
   "id": "c0717179",
   "metadata": {},
   "outputs": [
    {
     "name": "stdout",
     "output_type": "stream",
     "text": [
      "[[49, 79, 20, 100, 80], [43, 59, 85, 30, 90], [49, 79, 48, 60, 100]]\n",
      "79\n",
      "[[49, 79, 20, 100, 80], [1000, 59, 85, 30, 90], [49, 79, 48, 60, 100]]\n",
      "[80, 90, 100]\n"
     ]
    }
   ],
   "source": [
    "# 이차원 리스트\n",
    "kor_score=[49,79,20,100,80]\n",
    "math_score=[43,59,85,30,90]\n",
    "eng_score=[49,79,48,60,100]\n",
    "# midterm_score=kor_score,math_score,eng_score #[] 없이 묶으면 tuple로 처리됨\n",
    "midterm_score=[kor_score,math_score,eng_score]\n",
    "\n",
    "print(midterm_score)\n",
    "print(midterm_score[0][1])\n",
    "\n",
    "math_score[0]=1000\n",
    "print(midterm_score)\n",
    "\n",
    "\n",
    "print([row[-1] for row in midterm_score])\n"
   ]
  },
  {
   "cell_type": "code",
   "execution_count": 13,
   "id": "f98fc167",
   "metadata": {},
   "outputs": [
    {
     "name": "stdout",
     "output_type": "stream",
     "text": [
      "[1, 5, 1, 3, 2, 84, 145, 14, 15, 32]\n",
      "2\n",
      "[145, 84, 32, 15, 14, 5, 3, 2, 1, 1]\n",
      "['black', 'orange', 'puple']\n"
     ]
    }
   ],
   "source": [
    "# sort() : 사전순으로 정렬, 대입(=)하지 않아도 값이 변경됨\n",
    "# sort(reverse=True) : 역순 정렬\n",
    "\n",
    "a=[1,5,1,3,2,84,145,14,15,32]\n",
    "print(a)\n",
    "print(a.count(1))\n",
    "a.sort(reverse=True)\n",
    "print(a)\n",
    "\n",
    "colors3.sort()\n",
    "print(colors3)"
   ]
  },
  {
   "cell_type": "code",
   "execution_count": 14,
   "id": "32ed5797",
   "metadata": {},
   "outputs": [
    {
     "name": "stdout",
     "output_type": "stream",
     "text": [
      "3\n",
      "1\n",
      "[2]\n"
     ]
    }
   ],
   "source": [
    "a=[1,2,3]\n",
    "\n",
    "print(a.pop()) # 리스트에 가장 마지막 값 반환 및 삭제\n",
    "print(a.pop(0)) # 리스트에 해당 인덱스의 값 반환 및 삭제\n",
    "print(a)"
   ]
  },
  {
   "cell_type": "code",
   "execution_count": 15,
   "id": "61f5130a",
   "metadata": {},
   "outputs": [
    {
     "name": "stdout",
     "output_type": "stream",
     "text": [
      "(1, 2, 3) <class 'tuple'>\n",
      "(1, 2, 3, 1, 2, 3) (1, 2, 3, 1, 2, 3, 1, 2, 3)\n",
      "3\n"
     ]
    }
   ],
   "source": [
    "# tuple\n",
    "# 시퀀스, 값의 변경 불가\n",
    "\n",
    "t=(1,2,3)\n",
    "\n",
    "print(t,type(t))\n",
    "print(t+t,t*3)\n",
    "print(len(t))\n"
   ]
  },
  {
   "cell_type": "code",
   "execution_count": 16,
   "id": "427748c9",
   "metadata": {},
   "outputs": [
    {
     "ename": "TypeError",
     "evalue": "can only concatenate tuple (not \"list\") to tuple",
     "output_type": "error",
     "traceback": [
      "\u001b[31m---------------------------------------------------------------------------\u001b[39m",
      "\u001b[31mTypeError\u001b[39m                                 Traceback (most recent call last)",
      "\u001b[36mCell\u001b[39m\u001b[36m \u001b[39m\u001b[32mIn[16]\u001b[39m\u001b[32m, line 4\u001b[39m\n\u001b[32m      1\u001b[39m \u001b[38;5;66;03m# tuple\u001b[39;00m\n\u001b[32m      2\u001b[39m \u001b[38;5;66;03m# 튜플은 튜플끼리 합연산이 되고, 다른 자료형과는 합연산이 되지않는다.\u001b[39;00m\n\u001b[32m----> \u001b[39m\u001b[32m4\u001b[39m \u001b[38;5;28mprint\u001b[39m(\u001b[43mt\u001b[49m\u001b[43m+\u001b[49m\u001b[43mcolor1\u001b[49m)\n",
      "\u001b[31mTypeError\u001b[39m: can only concatenate tuple (not \"list\") to tuple"
     ]
    }
   ],
   "source": [
    "# tuple\n",
    "# 튜플은 튜플끼리 합연산이 되고, 다른 자료형과는 합연산이 되지않는다.\n",
    "\n",
    "print(t+color1)"
   ]
  },
  {
   "cell_type": "code",
   "execution_count": null,
   "id": "2dcc946b",
   "metadata": {},
   "outputs": [],
   "source": [
    "# tuple\n",
    "# 튜플에 저장된 값이 하나라면 해당 타입으로 변경됨\n",
    "# 만약 값이 하나인 튜플을 생성하고 싶으면 값뒤에 ,를 작성\n",
    "\n",
    "t2 = (10,)\n",
    "\n",
    "print(t2, type(t2))\n",
    "print(len(t2))"
   ]
  },
  {
   "cell_type": "code",
   "execution_count": null,
   "id": "e5b4528a",
   "metadata": {},
   "outputs": [],
   "source": [
    "# tuple\n",
    "# 튜플에 값을 다른 값으로 변경할 수 없다.\n",
    "\n",
    "t2[0]=100"
   ]
  },
  {
   "cell_type": "code",
   "execution_count": null,
   "id": "d9f48011",
   "metadata": {},
   "outputs": [],
   "source": [
    "# tuple\n",
    "# 튜플에 값을 삭제하는 것도 불가하다.\n",
    "# 단 튜플 자체의 삭제는 가능하다.\n",
    "\n",
    "del t2[0]\n",
    "del t2\n"
   ]
  },
  {
   "cell_type": "code",
   "execution_count": null,
   "id": "fdf49b33",
   "metadata": {},
   "outputs": [],
   "source": [
    "# tuple -> list\n",
    "# list를 생성해 tuple을 넣은 뒤 수정을 진행\n",
    "# 수정된 list를 tuple화\n",
    "# 튜플 자체를 수정하는게 아니라 새로 수정한 튜플을 생성\n",
    "# 튜플 자체를 수정하려면 삭제하고 값을 넣어주면 될 듯\n",
    "\n",
    "list1=list(t)\n",
    "list1.append(10)\n",
    "print(list1)\n",
    "\n",
    "# list -> tuple\n",
    "t2=tuple(list1)\n",
    "print(t2)"
   ]
  },
  {
   "cell_type": "code",
   "execution_count": null,
   "id": "aa2e9fbb",
   "metadata": {},
   "outputs": [],
   "source": [
    "# set\n",
    "# 중복 값을 허용하지 않음. 값의 수정 및 삭제 가능\n",
    "\n",
    "set1=set([1,2,3,4,1,2,3])\n",
    "print(set1)\n",
    "\n",
    "set2={1,2,3,4,1,2,'a'}\n",
    "print(set2)"
   ]
  },
  {
   "cell_type": "code",
   "execution_count": null,
   "id": "48744bce",
   "metadata": {},
   "outputs": [],
   "source": [
    "#set\n",
    "# add() : 값의 추가\n",
    "# discard() : 값의 제거\n",
    "# clear() : 모든 값의 삭제\n",
    "\n",
    "set2.add(10)\n",
    "print(set2)\n",
    "\n",
    "set2.discard(1)\n",
    "print(set2)\n",
    "\n",
    "set2.clear()\n",
    "print(set2)"
   ]
  },
  {
   "cell_type": "code",
   "execution_count": null,
   "id": "68fd4c97",
   "metadata": {},
   "outputs": [],
   "source": [
    "# set\n",
    "# 집합연산\n",
    "# | : 합집합\n",
    "# & : 교집합\n",
    "# - : 차집합\n",
    "\n",
    "set1={1,2,3,4,5}\n",
    "set2={3,4,5,6,7}\n",
    "\n",
    "print(set1|set2)\n",
    "print(set1&set2)\n",
    "print(set1-set2)\n"
   ]
  },
  {
   "cell_type": "code",
   "execution_count": null,
   "id": "6bcdc869",
   "metadata": {},
   "outputs": [],
   "source": [
    "# set -> list\n",
    "# 그냥 리스트 선언하면서 감싸면 되는듯\n",
    "\n",
    "list3=[1,2,2,3,4]\n",
    "set3=set(list3)\n",
    "list4=list(set3)\n",
    "\n",
    "print(list4)"
   ]
  },
  {
   "cell_type": "code",
   "execution_count": null,
   "id": "bdc931d2",
   "metadata": {},
   "outputs": [],
   "source": [
    "# dictionary\n",
    "# 선언 : 빈{ } 를 쓰거나 dict() 사용\n",
    "\n",
    "d={}\n",
    "d=dict()\n",
    "\n"
   ]
  },
  {
   "cell_type": "code",
   "execution_count": null,
   "id": "9158ad1f",
   "metadata": {},
   "outputs": [],
   "source": [
    "# dictionary\n",
    "# {key:value} 로 구성\n",
    "# keys() : 저장하고 있는 key값을 리스트로 반환\n",
    "# values() : 저장하고 있는 value값을 리스트로 반환\n",
    "# items() : (key:value) 형태의 튜플로 반환\n",
    "# 없는 key값으로 value를 선언하면, 추가된다.\n",
    "\n",
    "c_code={1:'America',82:'Korea',86:'China',81:'Japan'}\n",
    "print(c_code)\n",
    "\n",
    "print(c_code.keys)\n",
    "print(c_code.keys())\n",
    "\n",
    "c_code[49]='German'\n",
    "print(c_code.values())\n",
    "print(c_code.items())\n",
    "\n",
    "print(82 in c_code.keys())\n",
    "print('Korea' in c_code.values())\n",
    "\n",
    "del(c_code[86])\n",
    "print(c_code)\n"
   ]
  },
  {
   "cell_type": "code",
   "execution_count": null,
   "id": "545bf226",
   "metadata": {},
   "outputs": [],
   "source": [
    "# dictionary\n",
    "# 값을 꺼낼때, 값을 두개 꺼내는 for 문을 이용\n",
    "# 순차적으로 key값과 value값이 들어가게 됨\n",
    "\n",
    "for k,v in c_code.items():\n",
    "    print(f'code : {k} - contry : {v}')"
   ]
  },
  {
   "cell_type": "code",
   "execution_count": null,
   "id": "117269ac",
   "metadata": {},
   "outputs": [],
   "source": [
    "# 학생 성적의 평균을 구하고\n",
    "# 그 평균보다 잫나온 학생의 이름을 출력\n",
    "\n",
    "students={'tom':85,'jane':72,'adans':60,'bob':90}\n",
    "\n",
    "avg=sum(students.values())/len(students)\n",
    "print(avg)\n",
    "\n",
    "for k,v in students.items() :\n",
    "    if(v>avg):\n",
    "        print(k)\n"
   ]
  },
  {
   "cell_type": "code",
   "execution_count": null,
   "id": "8cd74b27",
   "metadata": {},
   "outputs": [
    {
     "name": "stdout",
     "output_type": "stream",
     "text": [
      "{'adans': 60, 'bob': 90, 'jane': 72, 'tom': 85}\n",
      "{'tom': 85, 'jane': 72, 'bob': 90, 'adans': 60}\n",
      "{'adans': 60, 'jane': 72, 'tom': 85, 'bob': 90}\n",
      "{'bob': 90, 'tom': 85, 'jane': 72, 'adans': 60}\n"
     ]
    }
   ],
   "source": [
    "students={'tom':85,'jane':72,'adans':60,'bob':90}\n",
    "\n",
    "# 딕셔너리 정렬 \n",
    "# 1. key 기준 - 오름차순\n",
    "sort_by_key=dict(sorted(students.items(),key=lambda x:x[0]))\n",
    "print(sort_by_key)\n",
    "\n",
    "# 2. key 기준 - 내림차순\n",
    "sort_by_key_desc=dict(sorted(students.items(),key=lambda x:x[0],reverse=True))\n",
    "print(sort_by_key_desc)\n",
    "\n",
    "# 3. value 기준 - 오름차순\n",
    "sort_by_value=dict(sorted(students.items(),key=lambda x:x[1]))\n",
    "print(sort_by_value)\n",
    "\n",
    "# 4. value 기준 - 내림차순\n",
    "sort_by_value_desc=dict(sorted(students.items(),key=lambda x:x[1],reverse=True))\n",
    "print(sort_by_value_desc)\n"
   ]
  },
  {
   "cell_type": "code",
   "execution_count": null,
   "id": "44706a44",
   "metadata": {},
   "outputs": [
    {
     "name": "stdout",
     "output_type": "stream",
     "text": [
      "[7, 5, 4, 3, 2, 1]\n"
     ]
    }
   ],
   "source": [
    "# 주어진 숫자에서 중복제거 및 내림차순 정렬\n",
    "\n",
    "nums=[4,2,5,2,3,1,4,7,3]\n",
    "\n",
    "snums=set(nums)\n",
    "\n",
    "nwnums=list(snums)\n",
    "nwnums.sort(reverse=True)\n",
    "\n",
    "print(nwnums)\n"
   ]
  },
  {
   "cell_type": "code",
   "execution_count": 91,
   "id": "28d15324",
   "metadata": {},
   "outputs": [
    {
     "name": "stdout",
     "output_type": "stream",
     "text": [
      "[7, 5, 4, 3, 2, 1]\n"
     ]
    }
   ],
   "source": [
    "# in class\n",
    "\n",
    "nums=[4,2,5,2,3,1,4,7,3]\n",
    "\n",
    "r1=sorted(set(nums),reverse=True)\n",
    "print(r1)"
   ]
  },
  {
   "cell_type": "code",
   "execution_count": null,
   "id": "402cb20a",
   "metadata": {},
   "outputs": [],
   "source": [
    "ex={'a':2,'b':1,'c':1}\n",
    "print(ex.get('a',0)) # 해당 키에 매핑된 값을 꺼내옴.\n",
    "print(ex.get('b',0)) \n",
    "print(ex.get('Z',10000)) # 키가 없다면 뒤에있는 기본값으로 대체\n"
   ]
  },
  {
   "cell_type": "code",
   "execution_count": null,
   "id": "7b9fae12",
   "metadata": {},
   "outputs": [
    {
     "name": "stdout",
     "output_type": "stream",
     "text": [
      "{'a': 1, 'p': 2, 'l': 1, 'e': 1}\n"
     ]
    }
   ],
   "source": [
    "# in class\n",
    "# 텍스트의 알파벳 개수 세기\n",
    "\n",
    "text='apple'\n",
    "\n",
    "# l_text=list(text)\n",
    "\n",
    "# for l in l_text :\n",
    "\n",
    "result={}\n",
    "\n",
    "for c in text:\n",
    "    result[c]=result.get(c,0)+1 # 해당 값을 가져오고 +1해서 누적이 가능하도록\n",
    "\n",
    "print(result)\n"
   ]
  },
  {
   "cell_type": "code",
   "execution_count": 68,
   "id": "1f5001b9",
   "metadata": {},
   "outputs": [
    {
     "name": "stdout",
     "output_type": "stream",
     "text": [
      "apple\n"
     ]
    }
   ],
   "source": [
    "# 가장 많이 등장한 단어 찾기\n",
    "text = \"apple banana apple orange banana apple mango\"\n",
    "\n",
    "text2=text.split()\n",
    "\n",
    "result={}\n",
    "\n",
    "for i in text2:\n",
    "    result[i]=result.get(i,0)+1\n",
    "\n",
    "a=max(result.values())\n",
    "\n",
    "for k,v in result.items():\n",
    "    if (v==a) :\n",
    "        print(k)"
   ]
  },
  {
   "cell_type": "code",
   "execution_count": 83,
   "id": "da09acae",
   "metadata": {},
   "outputs": [
    {
     "name": "stdout",
     "output_type": "stream",
     "text": [
      "apple : 3회 등장\n"
     ]
    }
   ],
   "source": [
    "# in class\n",
    "# 가장 많이 등장한 단어 찾기\n",
    "# max(dict) : 키 기준 최대값\n",
    "# max(dict,key=dict.get) : 값 기준 최대 키\n",
    "# max(dict.items(),key=lambda x:x[1]) : item 기준 최대\n",
    "text = \"apple banana apple orange banana apple mango\"\n",
    "\n",
    "words=text.split()\n",
    "\n",
    "count_word={}\n",
    "\n",
    "for word in words:\n",
    "    count_word[word]=count_word.get(word,0)+1\n",
    "\n",
    "# 가장 많이 등장한 단어 찾기\n",
    "max_word=max(count_word, key=count_word.get)\n",
    "# key=count_word.get : dict 에 있는 key를 하나씩 꺼내 get함수에게 전달\n",
    "#                   -> 매핑된 값 반환 -> 값들을 비교해서 max()가 가장 큰 키를 반환\n",
    "\n",
    "max_count=count_word[max_word]\n",
    "\n",
    "print(f'{max_word} : {max_count}회 등장')\n",
    "\n",
    "# print(max(result.items(), key=lambda x:x[1]))\n",
    "\n"
   ]
  },
  {
   "cell_type": "code",
   "execution_count": 97,
   "id": "af33e761",
   "metadata": {},
   "outputs": [
    {
     "name": "stdout",
     "output_type": "stream",
     "text": [
      "가장 긴 증가하는 연속 부분 수열의 길이: 5\n"
     ]
    }
   ],
   "source": [
    "# 가장 긴 증가하는 연속 부분 수열 길이\n",
    "\n",
    "nums = [1, 2, 2, 3, 4, 1, 2, 3, 4, 5]\n",
    "\n",
    "max_len = 1     # 최종 결과 (최대 길이)\n",
    "curr_len = 1    # 현재 증가 구간 길이\n",
    "\n",
    "for i in range(1, len(nums)):\n",
    "    if nums[i] > nums[i-1]:       # 이전 값보다 크면 → 연속 증가\n",
    "        curr_len += 1\n",
    "        max_len = max(max_len, curr_len)\n",
    "    else:                         # 증가가 끊기면 다시 1부터\n",
    "        curr_len = 1\n",
    "\n",
    "print(\"가장 긴 증가하는 연속 부분 수열의 길이:\", max_len)\n",
    "\n"
   ]
  }
 ],
 "metadata": {
  "kernelspec": {
   "display_name": "Python 3",
   "language": "python",
   "name": "python3"
  },
  "language_info": {
   "codemirror_mode": {
    "name": "ipython",
    "version": 3
   },
   "file_extension": ".py",
   "mimetype": "text/x-python",
   "name": "python",
   "nbconvert_exporter": "python",
   "pygments_lexer": "ipython3",
   "version": "3.13.3"
  }
 },
 "nbformat": 4,
 "nbformat_minor": 5
}
