{
 "cells": [
  {
   "cell_type": "code",
   "execution_count": 65,
   "id": "2e706231",
   "metadata": {},
   "outputs": [
    {
     "name": "stdout",
     "output_type": "stream",
     "text": [
      "[7, 10]\n"
     ]
    }
   ],
   "source": [
    "u=[2,2]\n",
    "v=[2,3]\n",
    "z=[3,5]\n",
    "\n",
    "result=[sum(t) for t in zip(u,v,z)]\n",
    "print(result)\n"
   ]
  },
  {
   "cell_type": "code",
   "execution_count": null,
   "id": "6da02487",
   "metadata": {},
   "outputs": [],
   "source": [
    "u=[2,2]\n",
    "v=[2,3]\n",
    "z=[3,5]\n",
    "\n",
    "arg=u,v,z\n",
    "\n",
    "result=[sum(t) for t in zip(*arg)]\n",
    "print(result)\n"
   ]
  },
  {
   "cell_type": "code",
   "execution_count": null,
   "id": "b2c8ba22",
   "metadata": {},
   "outputs": [
    {
     "name": "stdout",
     "output_type": "stream",
     "text": [
      "[10, 12, 14]\n"
     ]
    }
   ],
   "source": [
    "u=[1,2,3]\n",
    "v=[4,4,4]\n",
    "alpha=2\n",
    "\n",
    "result=[alpha * sum(t) for t in zip(u,v)]\n",
    "print(result)\n"
   ]
  },
  {
   "cell_type": "code",
   "execution_count": null,
   "id": "cbe8883b",
   "metadata": {},
   "outputs": [
    {
     "name": "stdout",
     "output_type": "stream",
     "text": [
      "[[8, 14], [10, 12]]\n",
      "[[9, 13], [9, 13]]\n"
     ]
    }
   ],
   "source": [
    "matrix_a=[[3,6],[4,5]]\n",
    "matrix_b=[[5,8],[6,7]]\n",
    "\n",
    "result=[[sum(row) for row in zip(*m)] for m in zip(matrix_a,matrix_b)]\n",
    "print(result)\n",
    "\n",
    "result=[[sum(row) for row in m] for m in zip(matrix_a,matrix_b)]\n",
    "print(result)\n",
    "# result=[sum(row) for row in m for m in zip(matrix_a,matrix_b)]\n",
    "# print(result)"
   ]
  },
  {
   "cell_type": "code",
   "execution_count": 23,
   "id": "484767ae",
   "metadata": {},
   "outputs": [
    {
     "name": "stdout",
     "output_type": "stream",
     "text": [
      "False\n",
      "True\n"
     ]
    }
   ],
   "source": [
    "# all() : 값이 모두 True일 경우, True , and 연산과 동\n",
    "# any() : 값이 하나라도 True일 경우, True , or 연산과 동\n",
    "\n",
    "m_a=[[1,2],[3,4]]\n",
    "m_b=[[1,2],[3,4]]\n",
    "\n",
    "result=all([row[0]==value for t in zip(matrix_a,matrix_b) for row in zip(*t) for value in row])\n",
    "print(result)\n",
    "\n",
    "result=all([row[0]==value for t in zip(m_a,m_b) for row in zip(*t) for value in row])\n",
    "print(result)"
   ]
  },
  {
   "cell_type": "code",
   "execution_count": 46,
   "id": "74284121",
   "metadata": {},
   "outputs": [
    {
     "name": "stdout",
     "output_type": "stream",
     "text": [
      "[[1, 1], [1, 1], [2, 2], [2, 2], [3, 3], [3, 3], [4, 4], [4, 5]]\n"
     ]
    }
   ],
   "source": [
    "m_a=[[1,2],[3,4]]\n",
    "m_b=[[1,2],[3,5]]\n",
    "\n",
    "result=([[row[0],value] for t in zip(m_a,m_b) for row in zip(*t) for value in row])\n",
    "print(result)"
   ]
  },
  {
   "cell_type": "code",
   "execution_count": 48,
   "id": "d4bda0fe",
   "metadata": {},
   "outputs": [
    {
     "name": "stdout",
     "output_type": "stream",
     "text": [
      "[True, True, True, True, True, True, True, False]\n"
     ]
    }
   ],
   "source": [
    "m_a=[[1,2],[3,4]]\n",
    "m_b=[[1,2],[3,5]]\n",
    "\n",
    "result=([row[0]==value for t in zip(m_a,m_b) for row in zip(*t) for value in row])\n",
    "print(result)"
   ]
  },
  {
   "cell_type": "code",
   "execution_count": 49,
   "id": "9ad6d490",
   "metadata": {},
   "outputs": [
    {
     "name": "stdout",
     "output_type": "stream",
     "text": [
      "False\n"
     ]
    }
   ],
   "source": [
    "m_a=[[1,2],[3,4]]\n",
    "m_b=[[1,2],[3,5]]\n",
    "\n",
    "result=all([row[0]==value for t in zip(m_a,m_b) for row in zip(*t) for value in row])\n",
    "print(result)"
   ]
  },
  {
   "cell_type": "code",
   "execution_count": null,
   "id": "fca96df6",
   "metadata": {},
   "outputs": [
    {
     "name": "stdout",
     "output_type": "stream",
     "text": [
      "[[1, 1], [2, 2], [3, 3], [4, 5]]\n",
      "[[1, 2, 1, 2], [3, 4, 3, 5]]\n"
     ]
    }
   ],
   "source": [
    "m_a=[[1,2],[3,4]]\n",
    "m_b=[[1,2],[3,5]]\n",
    "\n",
    "result=([[row[0],row[1]] for t in zip(m_a,m_b) for row in zip(*t)])\n",
    "print(result)\n",
    "# 이게 더 비교횟수는 적긴하지만, 2행2열짜리 배열이 아니면 동치확인이 안됨.\n",
    "\n",
    "result=[[*t[0],*t[1]] for t in zip(m_a,m_b)]\n",
    "print(result)\n",
    "#언패킹을 마지막에해서 비교를 해보려했는데, 안되네\n"
   ]
  },
  {
   "cell_type": "code",
   "execution_count": null,
   "id": "9ebabc8f",
   "metadata": {},
   "outputs": [
    {
     "name": "stdout",
     "output_type": "stream",
     "text": [
      "[[1, 4], [2, 5], [3, 6]]\n"
     ]
    }
   ],
   "source": [
    "# 전치행렬 : 행과 열 교체\n",
    "\n",
    "matrix_a=[[1,2,3],[4,5,6]]\n",
    "\n",
    "result=[[i for i in a] for a in zip(*matrix_a)]\n",
    "print(result)"
   ]
  },
  {
   "cell_type": "code",
   "execution_count": null,
   "id": "8ea490a6",
   "metadata": {},
   "outputs": [
    {
     "name": "stdout",
     "output_type": "stream",
     "text": [
      "[[5, 8], [5, 6]]\n",
      "[[5, 8], [5, 6]]\n"
     ]
    }
   ],
   "source": [
    "matrix_a=[[1,1,2],[2,1,1]]\n",
    "matrix_b=[[1,1],[2,1],[1,3]]\n",
    "\n",
    "result = [[sum(a*b for a , b in zip(row_a, column_b)) for column_b in zip(*matrix_b)] for row_a in matrix_a]\n",
    "\n",
    "print(result)\n",
    "\n",
    "# 기존방법 : 근데 어렵네..\n",
    "\n",
    "i=[]\n",
    "for row in matrix_a :\n",
    "    for col in zip(*matrix_b):\n",
    "        s=0\n",
    "        for a,b in zip(row,col) :\n",
    "            s+=a*b\n",
    "        i.append(s)\n",
    "result = [i[0:2], i[2:4]]\n",
    "print(result)   "
   ]
  }
 ],
 "metadata": {
  "kernelspec": {
   "display_name": "Python 3",
   "language": "python",
   "name": "python3"
  },
  "language_info": {
   "codemirror_mode": {
    "name": "ipython",
    "version": 3
   },
   "file_extension": ".py",
   "mimetype": "text/x-python",
   "name": "python",
   "nbconvert_exporter": "python",
   "pygments_lexer": "ipython3",
   "version": "3.13.3"
  }
 },
 "nbformat": 4,
 "nbformat_minor": 5
}
