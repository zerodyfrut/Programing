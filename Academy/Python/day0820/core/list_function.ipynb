{
 "cells": [
  {
   "cell_type": "code",
   "execution_count": 43,
   "id": "4658f7d3",
   "metadata": {},
   "outputs": [
    {
     "name": "stdout",
     "output_type": "stream",
     "text": [
      "0 : a 1 : b 2 : c 3 : d 4 : e 5 : f 6 : g \n",
      "0 : a1 1 : a2 2 : a3 3 : a4 4 : a5 "
     ]
    }
   ],
   "source": [
    "# enumerate() 함수\n",
    "# for 문으로 값을 뽑을 때, index와 value 값을 튜플로 뽑아냄\n",
    "alist=['a1','a2','a3','a4','a5']\n",
    "\n",
    "\n",
    "for i,v in enumerate ('a,b,c,d,e,f,g'.split(',')) : \n",
    "    print(i,\":\",v, sep=\" \", end=\" \")\n",
    "print()\n",
    "\n",
    "for i,v in enumerate (alist) : \n",
    "    print(i,\":\",v, sep=\" \", end=\" \")\n"
   ]
  },
  {
   "cell_type": "code",
   "execution_count": null,
   "id": "d904c1b5",
   "metadata": {},
   "outputs": [
    {
     "name": "stdout",
     "output_type": "stream",
     "text": [
      "{0: 'a', 1: 'b', 2: 'c', 3: 'd', 4: 'e', 5: 'f', 6: 'g'}\n",
      "a\n"
     ]
    }
   ],
   "source": [
    "# enumerate() 함수\n",
    "# dict로 사용가능\n",
    "\n",
    "d={i:v for i, v in enumerate('a,b,c,d,e,f,g'.split(','))}\n",
    "print(d)\n",
    "print(d[0])"
   ]
  },
  {
   "cell_type": "code",
   "execution_count": null,
   "id": "1a0dae4c",
   "metadata": {},
   "outputs": [
    {
     "name": "stdout",
     "output_type": "stream",
     "text": [
      "a1 b1\n",
      "a2 b2\n",
      "a3 b3\n",
      "a4 b4\n",
      "a5 b5\n"
     ]
    }
   ],
   "source": [
    "# zip() 함수\n",
    "# 여러 개의 자료구조에서 같은 인덱스의 값을 묶어줌\n",
    "# 얘도 튜플로 묶음\n",
    "\n",
    "alist=['a1','a2','a3','a4','a5']\n",
    "blist=['b1','b2','b3','b4','b5']\n",
    "\n",
    "for a,b in zip(alist,blist) :\n",
    "    print(a,b)"
   ]
  },
  {
   "cell_type": "code",
   "execution_count": 37,
   "id": "9c99684e",
   "metadata": {},
   "outputs": [
    {
     "name": "stdout",
     "output_type": "stream",
     "text": [
      "(1, 10, 100) (2, 20, 200) (3, 30, 300)\n",
      "[6, 60, 600]\n",
      "<generator object <genexpr> at 0x000001E39A05D2F0>\n"
     ]
    }
   ],
   "source": [
    "# zip\n",
    "# list 뿐 아니라 tuple에서도 사용가능\n",
    "a,b,c=zip((1,2,3),(10,20,30),(100,200,300))\n",
    "print(a,b,c)\n",
    "\n",
    "list1=[sum(x) for x in zip(a,b,c)]\n",
    "print(list1)\n",
    "\n",
    "# 튜플로는 컨프리헨션이 불가\n",
    "list1=(sum(x) for x in zip(a,b,c))\n",
    "print(list1)\n"
   ]
  },
  {
   "cell_type": "code",
   "execution_count": null,
   "id": "37b757f9",
   "metadata": {},
   "outputs": [
    {
     "data": {
      "text/plain": [
       "[(1, 4, 7), (2, 5, 8)]"
      ]
     },
     "execution_count": 38,
     "metadata": {},
     "output_type": "execute_result"
    }
   ],
   "source": [
    "# 열의 값이 부족하면 해당 열은 제외하고 행으로 묶는다.\n",
    "[x for x in zip((1,2,3),(4,5,6),(7,8))]"
   ]
  },
  {
   "cell_type": "code",
   "execution_count": 39,
   "id": "cf77d84e",
   "metadata": {},
   "outputs": [
    {
     "name": "stdout",
     "output_type": "stream",
     "text": [
      "{0: ('a1', 'b1'), 1: ('a2', 'b2'), 2: ('a3', 'b3'), 3: ('a4', 'b4'), 4: ('a5', 'b5')}\n",
      "('a1', 'b1')\n"
     ]
    }
   ],
   "source": [
    "alist=['a1','a2','a3','a4','a5']\n",
    "blist=['b1','b2','b3','b4','b5']\n",
    "\n",
    "d={i: t for i,t in enumerate(zip(alist,blist))}\n",
    "print(d)\n",
    "print(d[0])"
   ]
  }
 ],
 "metadata": {
  "kernelspec": {
   "display_name": "Python 3",
   "language": "python",
   "name": "python3"
  },
  "language_info": {
   "codemirror_mode": {
    "name": "ipython",
    "version": 3
   },
   "file_extension": ".py",
   "mimetype": "text/x-python",
   "name": "python",
   "nbconvert_exporter": "python",
   "pygments_lexer": "ipython3",
   "version": "3.13.3"
  }
 },
 "nbformat": 4,
 "nbformat_minor": 5
}
