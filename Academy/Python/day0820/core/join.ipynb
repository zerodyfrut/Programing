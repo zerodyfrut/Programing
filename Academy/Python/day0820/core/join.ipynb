{
 "cells": [
  {
   "cell_type": "code",
   "execution_count": 2,
   "id": "270d930d",
   "metadata": {},
   "outputs": [
    {
     "name": "stdout",
     "output_type": "stream",
     "text": [
      "['red', 'blue', 'green']\n",
      "red-blue-green\n"
     ]
    }
   ],
   "source": [
    "\n",
    "colors='red,blue,green'\n",
    "\n",
    "colors=colors.split(',')\n",
    "print(colors)\n",
    "\n",
    "result='-'.join(colors)\n",
    "print(result)"
   ]
  },
  {
   "cell_type": "code",
   "execution_count": 5,
   "id": "f4d577f1",
   "metadata": {},
   "outputs": [
    {
     "name": "stdout",
     "output_type": "stream",
     "text": [
      "redbluegreen\n"
     ]
    }
   ],
   "source": [
    "colors=['red' 'blue' 'green']\n",
    "\n",
    "result=''.join(colors)\n",
    "print(result)"
   ]
  }
 ],
 "metadata": {
  "kernelspec": {
   "display_name": "Python 3",
   "language": "python",
   "name": "python3"
  },
  "language_info": {
   "codemirror_mode": {
    "name": "ipython",
    "version": 3
   },
   "file_extension": ".py",
   "mimetype": "text/x-python",
   "name": "python",
   "nbconvert_exporter": "python",
   "pygments_lexer": "ipython3",
   "version": "3.13.3"
  }
 },
 "nbformat": 4,
 "nbformat_minor": 5
}
