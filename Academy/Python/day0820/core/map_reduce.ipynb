{
 "cells": [
  {
   "cell_type": "markdown",
   "id": "b46e6b4e",
   "metadata": {},
   "source": [
    "Map/Reduce"
   ]
  },
  {
   "cell_type": "code",
   "execution_count": 1,
   "id": "3be5b922",
   "metadata": {},
   "outputs": [
    {
     "name": "stdout",
     "output_type": "stream",
     "text": [
      "[1, 4, 9, 16, 25]\n"
     ]
    }
   ],
   "source": [
    "# map\n",
    "# 자료구조의 모든 값에 동일한 효과를 적용하는거\n",
    "# map(함수,리스트) -> 리스트에 함수를 적용한 새로운 map 생성, 추후 강제 캐스팅 필요\n",
    "\n",
    "ex=[1,2,3,4,5]\n",
    "\n",
    "def f(x): return x**2\n",
    "\n",
    "result=list(map(f,ex))\n",
    "print(result)"
   ]
  },
  {
   "cell_type": "code",
   "execution_count": null,
   "id": "ac740be0",
   "metadata": {},
   "outputs": [],
   "source": [
    "ex=[1,2,3,4,5]\n",
    "\n",
    "result=list(map(lambda x:x**2,ex))\n",
    "# 이런식으로 람다식을 쓸수도 있긴함.\n",
    "print(result)"
   ]
  },
  {
   "cell_type": "code",
   "execution_count": null,
   "id": "7f78964d",
   "metadata": {},
   "outputs": [],
   "source": [
    "# 컨프리헨션\n",
    "# 더 간단함. map으로 같은 기능을 할수있지만 코드가 더 길어짐.\n",
    "# -> 람다를 사용해 비슷한 길이의 코드를 짤 수도 있는데, 람다로 온몸비틀기하며 겨우 따라가려는 느낌..\n",
    "# -> 하지만 더 복잡함..\n",
    "ex=[1,2,3,4,5]\n",
    "result=[x**2 for x in ex]\n",
    "\n",
    "print(result)"
   ]
  },
  {
   "cell_type": "code",
   "execution_count": null,
   "id": "45aea417",
   "metadata": {},
   "outputs": [],
   "source": [
    "# reduce : 자료구조 내 값을 통합\n",
    "# 굳이? sum을 두고, import까지 해야하는 걸 써야하나?\n",
    "\n",
    "from functools import reduce\n",
    "ex=[1,2,3,4,5]\n",
    "\n",
    "print(reduce(lambda x,y: x+y,ex))\n",
    "print(sum(ex))"
   ]
  },
  {
   "cell_type": "code",
   "execution_count": null,
   "id": "62b82a7b",
   "metadata": {},
   "outputs": [
    {
     "name": "stdout",
     "output_type": "stream",
     "text": [
      "9\n",
      "9\n",
      "9\n"
     ]
    }
   ],
   "source": [
    "nums=[3,7,2,9,5]\n",
    "# 주어진 리스트에서 최대값을 출력(reduce)\n",
    "\n",
    "print(max(nums))\n",
    "\n",
    "def m(x,y):\n",
    "    if(x>y):\n",
    "        return x\n",
    "    else :\n",
    "        return y\n",
    "\n",
    "print(reduce(m,nums))\n",
    "\n",
    "print(reduce (lambda x,y:x if x>y else y, nums))\n"
   ]
  }
 ],
 "metadata": {
  "kernelspec": {
   "display_name": "Python 3",
   "language": "python",
   "name": "python3"
  },
  "language_info": {
   "codemirror_mode": {
    "name": "ipython",
    "version": 3
   },
   "file_extension": ".py",
   "mimetype": "text/x-python",
   "name": "python",
   "nbconvert_exporter": "python",
   "pygments_lexer": "ipython3",
   "version": "3.13.3"
  }
 },
 "nbformat": 4,
 "nbformat_minor": 5
}
