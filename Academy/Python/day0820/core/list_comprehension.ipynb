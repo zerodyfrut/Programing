{
 "cells": [
  {
   "cell_type": "markdown",
   "id": "b14ee73a",
   "metadata": {},
   "source": [
    "### 리스트 컴프리헨션\n",
    "- [식 for 변수 in range(범위)]\n",
    "- list =[ ]\n",
    "\n",
    "  for 변수 in range(범위) : \n",
    "  \n",
    "  list.append(식)\n",
    "\n",
    "\n",
    "- list 생성 -> for 문 -> if 문"
   ]
  },
  {
   "cell_type": "code",
   "execution_count": 1,
   "id": "c140e239",
   "metadata": {},
   "outputs": [
    {
     "name": "stdout",
     "output_type": "stream",
     "text": [
      "[1, 2, 3, 4, 5, 6, 7, 8, 9, 10]\n",
      "[1, 2, 3, 4, 5, 6, 7, 8, 9, 10]\n"
     ]
    }
   ],
   "source": [
    "# 1부터 10까지의 값이 있는 리스트 생성하기\n",
    "\n",
    "# 기존 방식\n",
    "result=[]\n",
    "for i in range(1,11) :\n",
    "    result.append(i)\n",
    "print(result)\n",
    "\n",
    "# 컴프리헨션 : 선언과 for문과 갑의 입력을 한번에\n",
    "a=[i for i in range(1,11)]\n",
    "print(a)"
   ]
  },
  {
   "cell_type": "code",
   "execution_count": 2,
   "id": "8df7819a",
   "metadata": {},
   "outputs": [
    {
     "name": "stdout",
     "output_type": "stream",
     "text": [
      "[1, 4, 9, 16, 25, 36, 49, 64, 81, 100]\n",
      "{64, 1, 4, 36, 100, 9, 16, 49, 81, 25}\n"
     ]
    }
   ],
   "source": [
    "# 컴프리헨션\n",
    "# 리스트에 넣을 값을 식으로 표현할 수 있다.\n",
    "b=[i**2 for i in range(1,11)]\n",
    "print(b)\n",
    "\n",
    "# 컴프리헨션\n",
    "# set으로도 표현이 되네\n",
    "c={i**2 for i in range(1,11)}\n",
    "print(c)\n"
   ]
  },
  {
   "cell_type": "markdown",
   "id": "f45254e5",
   "metadata": {},
   "source": [
    "필터링\n",
    "- [식 for 변수 in range(범위) if 조건식]\n",
    "- 조건식이 True 일때만 식을 수행후 리스트에 추가"
   ]
  },
  {
   "cell_type": "code",
   "execution_count": 3,
   "id": "b2c87e49",
   "metadata": {},
   "outputs": [
    {
     "name": "stdout",
     "output_type": "stream",
     "text": [
      "[2, 4, 6, 8, 10, 12, 14, 16, 18, 20]\n",
      "[2, 4, 6, 8, 10, 12, 14, 16, 18, 20]\n"
     ]
    }
   ],
   "source": [
    "# 1부터 20까지 짝수만 있는 list 생성하기\n",
    "\n",
    "# 기존\n",
    "result=[]\n",
    "for i in range(1,21) :\n",
    "    if(i%2==0) :\n",
    "        result.append(i)\n",
    "print(result)\n",
    "\n",
    "# 컴프리헨션(필터링) : 선언 + for문 + if 문을 한번에\n",
    "even=[i for i in range(1,21) if i%2==0]\n",
    "print(even)"
   ]
  },
  {
   "cell_type": "markdown",
   "id": "8698ddd6",
   "metadata": {},
   "source": [
    "[식1 if 조건식 else 식2 for 변수 in range(범위)]\n",
    "- True 면 식1의 값이, False면 식2의 값이 list에 추가됨"
   ]
  },
  {
   "cell_type": "code",
   "execution_count": 4,
   "id": "44f854b3",
   "metadata": {},
   "outputs": [
    {
     "name": "stdout",
     "output_type": "stream",
     "text": [
      "['-', 2, '-', 4, '-', 6, '-', 8, '-', 10, '-', 12, '-', 14, '-', 16, '-', 18, '-', 20]\n"
     ]
    }
   ],
   "source": [
    "# 1부터 20까지 짝수면 list에 값을 넣고, 홀수면 list에 '-' 을 넣기\n",
    "\n",
    "d=[i if i%2==0 else '-' for i in range(1,21)]\n",
    "print(d)"
   ]
  },
  {
   "cell_type": "code",
   "execution_count": 5,
   "id": "656060d4",
   "metadata": {},
   "outputs": [
    {
     "name": "stdout",
     "output_type": "stream",
     "text": [
      "['HW', 'Ho', 'Hr', 'Hl', 'Hd', 'eW', 'eo', 'er', 'el', 'ed', 'lW', 'lo', 'lr', 'll', 'ld', 'lW', 'lo', 'lr', 'll', 'ld', 'oW', 'oo', 'or', 'ol', 'od']\n",
      "['HW', 'Ho', 'Hr', 'Hl', 'Hd', 'eW', 'eo', 'er', 'el', 'ed', 'lW', 'lo', 'lr', 'll', 'ld', 'lW', 'lo', 'lr', 'll', 'ld', 'oW', 'oo', 'or', 'ol', 'od']\n"
     ]
    }
   ],
   "source": [
    "# 다중 for문\n",
    "# 기존\n",
    "word_1='Hello'\n",
    "word_2='World'\n",
    "result=[]\n",
    "\n",
    "for i in word_1 :\n",
    "    for j in word_2 :\n",
    "        result.append(i+j)\n",
    "print(result)\n",
    "\n",
    "# 컴프리헨션\n",
    "t1='Hello'\n",
    "t2='World'\n",
    "\n",
    "result=[i+j for i in t1 for j in t2]\n",
    "print(result)"
   ]
  },
  {
   "cell_type": "code",
   "execution_count": null,
   "id": "e068cdbe",
   "metadata": {},
   "outputs": [
    {
     "name": "stdout",
     "output_type": "stream",
     "text": [
      "[['YESTERDAY', 'yesterday', 9], ['ALL', 'all', 3], ['MY', 'my', 2], ['TROUBLES', 'troubles', 8], ['SEEMED', 'seemed', 6], ['SO', 'so', 2], ['FAR', 'far', 3], ['AWAY.', 'away.', 5]]\n",
      "[['YESTERDAY', 'yesterday', 9], ['ALL', 'all', 3], ['MY', 'my', 2], ['TROUBLES', 'troubles', 8], ['SEEMED', 'seemed', 6], ['SO', 'so', 2], ['FAR', 'far', 3], ['AWAY.', 'away.', 5]]\n"
     ]
    }
   ],
   "source": [
    "# 문장을 공백을 기준으로 나눠서 [대문자, 소문자, 길이]로 구성된 2차원 list 생성하기\n",
    "words= 'Yesterday all my troubles seemed so far away.'.split()\n",
    "\n",
    "# 기존\n",
    "stuff=[]\n",
    "for w in words:\n",
    "    stuff.append([w.upper(), w.lower(), len(w)])\n",
    "print(stuff)\n",
    "\n",
    "# 컴프리헨션\n",
    "stuff=[[w.upper(), w.lower(), len(w)] for w in words]\n",
    "print(stuff)"
   ]
  },
  {
   "cell_type": "code",
   "execution_count": null,
   "id": "eca39440",
   "metadata": {},
   "outputs": [
    {
     "name": "stdout",
     "output_type": "stream",
     "text": [
      "[['AD'], ['AE'], ['AF'], ['BD'], ['BE'], ['BF'], ['CD'], ['CE'], ['CF']]\n",
      "[['AD', 'BD', 'CD'], ['AE', 'BE', 'CE'], ['AF', 'BF', 'CF']]\n",
      "[['AD', 'AE', 'AF', 'BD', 'BE', 'BF', 'CD', 'CE', 'CF']]\n"
     ]
    }
   ],
   "source": [
    "# 컴프리헨션\n",
    "# 다양하게 묶으는 2차원 list\n",
    "\n",
    "t1=['A','B','C']\n",
    "t2=['D','E','F']\n",
    "\n",
    "result=[[i+j] for i in t1 for j in t2] \n",
    "print(result)\n",
    "result=[[i+j for i in t1] for j in t2]\n",
    "print(result)\n",
    "result=[[i+j for i in t1 for j in t2]]\n",
    "print(result)\n",
    "\n"
   ]
  },
  {
   "cell_type": "code",
   "execution_count": null,
   "id": "7deef9f9",
   "metadata": {},
   "outputs": [
    {
     "name": "stdout",
     "output_type": "stream",
     "text": [
      "[5, 6, 6]\n",
      "['even', 'even', 'odd', 'even', 'odd', 'even']\n",
      "[1, 2, 3, 4, 5, 6, 7, 8]\n",
      "[1, 2, 3, 4, 5, 6, 7, 8]\n"
     ]
    }
   ],
   "source": [
    "# 리스트 안의 문자열들의 길이를 각각 저장한 리스트를 만드세요\n",
    "words=['apple','banana','cherry']\n",
    "\n",
    "result=[len(w) for w in words]\n",
    "print(result)\n",
    "\n",
    "# 리스트 안의 숫자가 짝수면 'even, 홀수면 'odd'로 변환된 리스트를 만드세요\n",
    "nums=[4,2,5,6,3,8]\n",
    "\n",
    "result=['even' if n%2==0 else 'odd' for n in nums]\n",
    "print(result)\n",
    "\n",
    "# 2차원 리스트 -> 하나의 리스트로 (평탄화 flatten)\n",
    "matrix=[[1,2,3],[4,5],[6,7,8]]\n",
    "\n",
    "# 기존\n",
    "result=[]\n",
    "for m in matrix:\n",
    "    result+=m\n",
    "print(result)\n",
    "\n",
    "# 컴프리헨션\n",
    "result=[x for m in matrix for x in m]\n",
    "print(result)"
   ]
  }
 ],
 "metadata": {
  "kernelspec": {
   "display_name": "Python 3",
   "language": "python",
   "name": "python3"
  },
  "language_info": {
   "codemirror_mode": {
    "name": "ipython",
    "version": 3
   },
   "file_extension": ".py",
   "mimetype": "text/x-python",
   "name": "python",
   "nbconvert_exporter": "python",
   "pygments_lexer": "ipython3",
   "version": "3.13.3"
  }
 },
 "nbformat": 4,
 "nbformat_minor": 5
}
