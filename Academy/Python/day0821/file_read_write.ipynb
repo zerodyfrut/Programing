{
 "cells": [
  {
   "cell_type": "code",
   "execution_count": 66,
   "id": "291547be",
   "metadata": {},
   "outputs": [
    {
     "name": "stdout",
     "output_type": "stream",
     "text": [
      "I have a dream a song to sing\n",
      "to help me cope with anything\n",
      "if you see the wonder of a fairy tale\n",
      "you can take the future even\n",
      "if you fail I believe in angels\n",
      "something good in everything\n",
      "\n",
      "<class 'str'>\n"
     ]
    }
   ],
   "source": [
    "f= open('dream.txt','r')\n",
    "contents=f.read()\n",
    "print(contents)\n",
    "print()\n",
    "print(type(contents))\n",
    "\n",
    "f.close()"
   ]
  },
  {
   "cell_type": "code",
   "execution_count": 67,
   "id": "82094fdf",
   "metadata": {},
   "outputs": [
    {
     "name": "stdout",
     "output_type": "stream",
     "text": [
      "I have a dream a song to sing\n",
      "to help me cope with anything\n",
      "if you see the wonder of a fairy tale\n",
      "you can take the future even\n",
      "if you fail I believe in angels\n",
      "something good in everything\n",
      "end\n"
     ]
    }
   ],
   "source": [
    "with open('dream.txt','r') as f: \n",
    "    contents=f.read()\n",
    "    print(contents)\n",
    "print('end')"
   ]
  },
  {
   "cell_type": "code",
   "execution_count": 80,
   "id": "7dd672ae",
   "metadata": {},
   "outputs": [
    {
     "name": "stdout",
     "output_type": "stream",
     "text": [
      "['I have a dream a song to sing\\n', 'to help me cope with anything\\n', 'if you see the wonder of a fairy tale\\n', 'you can take the future even\\n', 'if you fail I believe in angels\\n', 'something good in everything']\n",
      "end\n"
     ]
    }
   ],
   "source": [
    "with open('dream.txt','r') as f: \n",
    "    contents=f.readlines()\n",
    "    print(contents)\n",
    "print('end')"
   ]
  },
  {
   "cell_type": "code",
   "execution_count": 79,
   "id": "baa06dd0",
   "metadata": {},
   "outputs": [
    {
     "name": "stdout",
     "output_type": "stream",
     "text": [
      "I have a dream a song to sing\n",
      "\n",
      "end\n"
     ]
    }
   ],
   "source": [
    "with open('dream.txt','r') as f: \n",
    "    contents=f.readline()\n",
    "    print(contents)\n",
    "print('end')"
   ]
  },
  {
   "cell_type": "code",
   "execution_count": 73,
   "id": "3941050e",
   "metadata": {},
   "outputs": [
    {
     "name": "stdout",
     "output_type": "stream",
     "text": [
      "0 === I have a dream a song to sing\n",
      "1 === to help me cope with anything\n",
      "2 === if you see the wonder of a fairy tale\n",
      "3 === you can take the future even\n",
      "4 === if you fail I believe in angels\n",
      "5 === something good in everything\n",
      "\n",
      "0 === I have a dream a song to sing\n",
      "1 === to help me cope with anything\n",
      "2 === if you see the wonder of a fairy tale\n",
      "3 === you can take the future even\n",
      "4 === if you fail I believe in angels\n",
      "5 === something good in everything"
     ]
    }
   ],
   "source": [
    "with open('dream.txt','r') as my_file:\n",
    "    i=0\n",
    "    while True:\n",
    "        line=my_file.readline()\n",
    "        if not line:\n",
    "            break\n",
    "        print(str(i),'===',line.replace('\\n','')) # 한줄씩 값 출력\n",
    "        # repleace(앞,뒤,(횟수)) : 앞의 문자를 뒤의 것으로 변경 (횟수는 옵션사항)\n",
    "        # print(str(i)+\" === \"+ line.replace(\"\\n\",\"\"))\n",
    "        # 문자열 뒤에 추가할때 + 도 사용가능\n",
    "        i+=1\n",
    "\n",
    "# enumerate 사용\n",
    "print()\n",
    "with open('dream.txt','r') as my_file:\n",
    "    for k,line in enumerate(my_file):\n",
    "        print(f'{k} === {line}', end='')"
   ]
  },
  {
   "cell_type": "code",
   "execution_count": 63,
   "id": "1c985ec6",
   "metadata": {},
   "outputs": [
    {
     "name": "stdout",
     "output_type": "stream",
     "text": [
      "총 글자의 수 : 187\n",
      "총 단어의 수 : 35\n",
      "총 줄의 수 : 6\n"
     ]
    }
   ],
   "source": [
    "with open('dream.txt','r') as my_file:\n",
    "    contents=my_file.read()\n",
    "    word_list=contents.split(' ') # 빈칸을 기준으로 단어로 분리하여 리스트화\n",
    "    line_list=contents.split('\\n') # 한 줄씩 분리하여 리스트화\n",
    "    # word_list = contents.replace('\\n', ' ').split(' ') # \\n을 공백으로 바꾸고 split() → 공백 여러 개도 무시\n",
    "    line_list = contents.splitlines()\n",
    "\n",
    "print('총 글자의 수 :', len(contents))\n",
    "print('총 단어의 수 :', len(word_list))\n",
    "print('총 줄의 수 :', len(line_list))\n"
   ]
  },
  {
   "cell_type": "code",
   "execution_count": null,
   "id": "e12cf645",
   "metadata": {},
   "outputs": [],
   "source": [
    "\n",
    "import os\n",
    "\n",
    "if not os.path.isdir('log'):\n",
    "    os.mkdir('log')\n",
    "# log 폴더가 없으면 log 폴더 생성\n",
    "\n",
    "if not os.path.exists('log/conunt_log.txt'):\n",
    "    # log 폴더안에 'count_log.txt' 파일이 없으면\n",
    "    f= open('log/conunt_log.txt','w', encoding='utf-8')\n",
    "    #'count_log.txt' 만들어서 작성, 기본값이 utf8 이라 인코딩은 생략가능\n",
    "    # 쓰기를 할때 파일이 없으면 만듬\n",
    "    for i in range(11,21):\n",
    "        data=f'{i}번째 줄 \\n'\n",
    "        f.write(data)\n",
    "        # 1-10까지 반복 작성\n",
    "    f.close()\n",
    "    # 파일 닫기\n"
   ]
  },
  {
   "cell_type": "code",
   "execution_count": 96,
   "id": "8453d4ee",
   "metadata": {},
   "outputs": [],
   "source": [
    "f= open('log/conunt_log.txt','a', encoding='utf-8')\n",
    "for i in range(11,21):\n",
    "    data=f'{i}번째 줄 \\n'\n",
    "    f.write(data)\n",
    "f.close()"
   ]
  },
  {
   "cell_type": "code",
   "execution_count": 142,
   "id": "bcaf51de",
   "metadata": {},
   "outputs": [
    {
     "name": "stdout",
     "output_type": "stream",
     "text": [
      "새로운 내용\n"
     ]
    }
   ],
   "source": [
    "with open('log/conunt_log.txt','w+', encoding='utf-8') as f : # w+: 기존내용 삭제, 쓰기\n",
    "    f.write('새로운 내용')\n",
    "    f.seek(0)\n",
    "    print(f.read())"
   ]
  },
  {
   "cell_type": "code",
   "execution_count": 148,
   "id": "f23ce2be",
   "metadata": {},
   "outputs": [
    {
     "name": "stdout",
     "output_type": "stream",
     "text": [
      "초기 내용 : 새 내용내용\n"
     ]
    }
   ],
   "source": [
    "with open('log/conunt_log.txt','r+', encoding='utf-8') as f : # r+: 기존내용 유지, 쓰기(덮어쓰기)\n",
    "    print('초기 내용 : '+f.read())                             # 파일이 있어야 함\n",
    "    f.seek(0)                                                 \n",
    "    f.write('새 내용')"
   ]
  },
  {
   "cell_type": "code",
   "execution_count": null,
   "id": "4ff259fe",
   "metadata": {},
   "outputs": [
    {
     "name": "stdout",
     "output_type": "stream",
     "text": [
      "초기 내용 : \n"
     ]
    }
   ],
   "source": [
    "with open('log/conunt_log.txt','a+', encoding='utf-8') as f : # a+ : 추가 쓰기 + 읽기\n",
    "    print('초기 내용 : '+f.read())\n",
    "    f.seek(0)\n",
    "    f.write('새 내용2')"
   ]
  },
  {
   "cell_type": "code",
   "execution_count": 150,
   "id": "1615ac89",
   "metadata": {},
   "outputs": [
    {
     "name": "stdout",
     "output_type": "stream",
     "text": [
      "1. 새 일기 작성\n",
      "2. 특정 날짜 일기 읽기\n",
      "0. 종료\n",
      "2025-08-21.txt에 저장되었습니다!\n",
      "1. 새 일기 작성\n",
      "2. 특정 날짜 일기 읽기\n",
      "0. 종료\n",
      "\n",
      "=== 2025-08-21 일기장 ===\n",
      "[2025-08-21 18:10:06] 123\n",
      "\n",
      "=====================\n",
      "\n",
      "1. 새 일기 작성\n",
      "2. 특정 날짜 일기 읽기\n",
      "0. 종료\n"
     ]
    }
   ],
   "source": [
    "from datetime import datetime\n",
    "import os\n",
    "\n",
    "# 새 일기 작성\n",
    "def write_diary():\n",
    "    today_date = datetime.now().strftime(\"%Y-%m-%d\")  # 오늘 날짜\n",
    "    filename = f\"{today_date}.txt\"\n",
    "\n",
    "    # 일기 입력\n",
    "    entry = input(\"오늘의 일기: \")\n",
    "\n",
    "    # 날짜별 파일에 저장 (a+ 모드)\n",
    "    with open(filename, \"a+\", encoding=\"utf-8\") as f:\n",
    "        now = datetime.now().strftime(\"%Y-%m-%d %H:%M:%S\")\n",
    "        f.write(f\"[{now}] {entry}\\n\")\n",
    "\n",
    "    print(f\"{filename}에 저장되었습니다!\")\n",
    "\n",
    "# 특정 날짜 일기 읽기\n",
    "def read_diary():\n",
    "    date = input(\"읽고 싶은 날짜 (예: 2025-08-21): \")\n",
    "    filename = f\"{date}.txt\"\n",
    "\n",
    "    if not os.path.exists(filename):\n",
    "        print(\"해당 날짜의 일기가 없습니다.\")\n",
    "        return\n",
    "\n",
    "    with open(filename, \"r\", encoding=\"utf-8\") as f:\n",
    "        print(f\"\\n=== {date} 일기장 ===\")\n",
    "        print(f.read())\n",
    "        print(\"=====================\\n\")\n",
    "\n",
    "# 메인 메뉴\n",
    "def main():\n",
    "    while True:\n",
    "        print(\"1. 새 일기 작성\")\n",
    "        print(\"2. 특정 날짜 일기 읽기\")\n",
    "        print(\"0. 종료\")\n",
    "        choice = input(\"선택: \")\n",
    "\n",
    "        if choice == \"1\":\n",
    "            write_diary()\n",
    "        elif choice == \"2\":\n",
    "            read_diary()\n",
    "        elif choice == \"0\":\n",
    "            break\n",
    "        else:\n",
    "            print(\"잘못된 입력입니다.\")\n",
    "main()"
   ]
  }
 ],
 "metadata": {
  "kernelspec": {
   "display_name": "Python 3",
   "language": "python",
   "name": "python3"
  },
  "language_info": {
   "codemirror_mode": {
    "name": "ipython",
    "version": 3
   },
   "file_extension": ".py",
   "mimetype": "text/x-python",
   "name": "python",
   "nbconvert_exporter": "python",
   "pygments_lexer": "ipython3",
   "version": "3.13.3"
  }
 },
 "nbformat": 4,
 "nbformat_minor": 5
}
