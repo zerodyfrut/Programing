{
 "cells": [
  {
   "cell_type": "code",
   "execution_count": 1,
   "id": "56fe5a7e",
   "metadata": {},
   "outputs": [
    {
     "name": "stdout",
     "output_type": "stream",
     "text": [
      "division by zero\n",
      "0으로 못나눔\n",
      "10.0\n",
      "5.0\n",
      "3.3333333333333335\n",
      "2.5\n",
      "2.0\n",
      "1.6666666666666667\n",
      "1.4285714285714286\n",
      "1.25\n",
      "1.1111111111111112\n"
     ]
    }
   ],
   "source": [
    "for i in range(10):\n",
    "    try :\n",
    "        print(10/i)\n",
    "    except ZeroDivisionError as e:\n",
    "        print (e)\n",
    "        print(\"0으로 못나눔\")"
   ]
  },
  {
   "cell_type": "code",
   "execution_count": 2,
   "id": "4a6e0098",
   "metadata": {},
   "outputs": [
    {
     "name": "stdout",
     "output_type": "stream",
     "text": [
      "integer division or modulo by zero\n",
      "end\n"
     ]
    }
   ],
   "source": [
    "try :\n",
    "    for i in range(0,10):\n",
    "        # 0부터 하면 에러가 나서 바로 except로 예외처리\n",
    "        result=10//i\n",
    "        print(result)\n",
    "except ZeroDivisionError as e:\n",
    "    print (e)\n",
    "finally:\n",
    "    print(\"end\")"
   ]
  },
  {
   "cell_type": "code",
   "execution_count": 3,
   "id": "da7d45fe",
   "metadata": {},
   "outputs": [
    {
     "name": "stdout",
     "output_type": "stream",
     "text": [
      "5\n",
      "end\n",
      "3\n",
      "end\n",
      "integer division or modulo by zero\n",
      "end\n",
      "2\n",
      "end\n"
     ]
    }
   ],
   "source": [
    "# for 문이 밖에 있어서 t-e-e-f 가 반복됨\n",
    "for i in [2,3,0,4]:\n",
    "    try :\n",
    "        result=10//i\n",
    "    except ZeroDivisionError as e:\n",
    "        print (e)\n",
    "    else :\n",
    "        print(result)\n",
    "    finally:\n",
    "        print(\"end\")\n"
   ]
  },
  {
   "cell_type": "code",
   "execution_count": 4,
   "id": "dfac5917",
   "metadata": {},
   "outputs": [
    {
     "name": "stdout",
     "output_type": "stream",
     "text": [
      "1.0\n"
     ]
    }
   ],
   "source": [
    "try : \n",
    "    x=int(input(\"정수입력\"))\n",
    "    y=int(input(\"정수입력\"))\n",
    "\n",
    "except Exception as e:\n",
    "    print('예외처리',e)\n",
    "else :\n",
    "    d=x/y\n",
    "    print(d)"
   ]
  },
  {
   "cell_type": "code",
   "execution_count": 5,
   "id": "d4f10b3c",
   "metadata": {},
   "outputs": [
    {
     "name": "stdout",
     "output_type": "stream",
     "text": [
      "finally\n",
      "10.0\n",
      "end\n"
     ]
    }
   ],
   "source": [
    "def get_devision(a,b):\n",
    "    try:\n",
    "        r=a/b\n",
    "        return r\n",
    "    except :\n",
    "        print('?')\n",
    "        return -9999\n",
    "    finally :\n",
    "        print('finally') # return 이 수행되도 finally는 처리하고 return됨\n",
    "\n",
    "try:\n",
    "    result = get_devision(10,int(input(\"숫자 하나 입력\")))\n",
    "except :\n",
    "    print('숫자를 입력하세요')\n",
    "else :\n",
    "    print(result)\n",
    "finally:\n",
    "    print('end')\n"
   ]
  },
  {
   "cell_type": "code",
   "execution_count": 6,
   "id": "1ef769b1",
   "metadata": {},
   "outputs": [
    {
     "name": "stdout",
     "output_type": "stream",
     "text": [
      "변환완료  1\n",
      "변환완료  1\n"
     ]
    },
    {
     "ename": "TypeError",
     "evalue": "exceptions must derive from BaseException",
     "output_type": "error",
     "traceback": [
      "\u001b[31m---------------------------------------------------------------------------\u001b[39m",
      "\u001b[31mTypeError\u001b[39m                                 Traceback (most recent call last)",
      "\u001b[36mCell\u001b[39m\u001b[36m \u001b[39m\u001b[32mIn[6]\u001b[39m\u001b[32m, line 5\u001b[39m\n\u001b[32m      3\u001b[39m \u001b[38;5;28;01mfor\u001b[39;00m digit \u001b[38;5;129;01min\u001b[39;00m val:\n\u001b[32m      4\u001b[39m     \u001b[38;5;28;01mif\u001b[39;00m digit \u001b[38;5;129;01mnot\u001b[39;00m \u001b[38;5;129;01min\u001b[39;00m \u001b[33m'\u001b[39m\u001b[33m-0123456789\u001b[39m\u001b[33m'\u001b[39m:\n\u001b[32m----> \u001b[39m\u001b[32m5\u001b[39m         \u001b[38;5;28;01mraise\u001b[39;00m (\u001b[33m'\u001b[39m\u001b[33m숫자가 아님\u001b[39m\u001b[33m'\u001b[39m)\n\u001b[32m      6\u001b[39m \u001b[38;5;28mprint\u001b[39m(\u001b[33m'\u001b[39m\u001b[33m변환완료 \u001b[39m\u001b[33m'\u001b[39m, \u001b[38;5;28mint\u001b[39m(val))\n",
      "\u001b[31mTypeError\u001b[39m: exceptions must derive from BaseException"
     ]
    }
   ],
   "source": [
    "while True :\n",
    "    val= input('변환할 정수값 입력')\n",
    "    for digit in val:\n",
    "        if digit not in '-0123456789':\n",
    "            raise ('숫자가 아님')\n",
    "    print('변환완료 ', int(val))"
   ]
  },
  {
   "cell_type": "code",
   "execution_count": 7,
   "id": "6b1f41bd",
   "metadata": {},
   "outputs": [
    {
     "name": "stdout",
     "output_type": "stream",
     "text": [
      "0b1010\n"
     ]
    },
    {
     "ename": "AssertionError",
     "evalue": "",
     "output_type": "error",
     "traceback": [
      "\u001b[31m---------------------------------------------------------------------------\u001b[39m",
      "\u001b[31mAssertionError\u001b[39m                            Traceback (most recent call last)",
      "\u001b[36mCell\u001b[39m\u001b[36m \u001b[39m\u001b[32mIn[7]\u001b[39m\u001b[32m, line 5\u001b[39m\n\u001b[32m      3\u001b[39m     \u001b[38;5;28;01mreturn\u001b[39;00m \u001b[38;5;28mbin\u001b[39m(decimal_number)\n\u001b[32m      4\u001b[39m \u001b[38;5;28mprint\u001b[39m(get_binary_number(\u001b[32m10\u001b[39m))\n\u001b[32m----> \u001b[39m\u001b[32m5\u001b[39m \u001b[38;5;28mprint\u001b[39m(\u001b[43mget_binary_number\u001b[49m\u001b[43m(\u001b[49m\u001b[33;43m'\u001b[39;49m\u001b[33;43m10\u001b[39;49m\u001b[33;43m'\u001b[39;49m\u001b[43m)\u001b[49m)\n",
      "\u001b[36mCell\u001b[39m\u001b[36m \u001b[39m\u001b[32mIn[7]\u001b[39m\u001b[32m, line 2\u001b[39m, in \u001b[36mget_binary_number\u001b[39m\u001b[34m(decimal_number)\u001b[39m\n\u001b[32m      1\u001b[39m \u001b[38;5;28;01mdef\u001b[39;00m\u001b[38;5;250m \u001b[39m\u001b[34mget_binary_number\u001b[39m(decimal_number):\n\u001b[32m----> \u001b[39m\u001b[32m2\u001b[39m     \u001b[38;5;28;01massert\u001b[39;00m \u001b[38;5;28misinstance\u001b[39m(decimal_number,\u001b[38;5;28mint\u001b[39m)\n\u001b[32m      3\u001b[39m     \u001b[38;5;28;01mreturn\u001b[39;00m \u001b[38;5;28mbin\u001b[39m(decimal_number)\n",
      "\u001b[31mAssertionError\u001b[39m: "
     ]
    }
   ],
   "source": [
    "def get_binary_number(decimal_number):\n",
    "    assert isinstance(decimal_number,int)\n",
    "    return bin(decimal_number)\n",
    "print(get_binary_number(10))\n",
    "print(get_binary_number('10'))"
   ]
  }
 ],
 "metadata": {
  "kernelspec": {
   "display_name": "Python 3",
   "language": "python",
   "name": "python3"
  },
  "language_info": {
   "codemirror_mode": {
    "name": "ipython",
    "version": 3
   },
   "file_extension": ".py",
   "mimetype": "text/x-python",
   "name": "python",
   "nbconvert_exporter": "python",
   "pygments_lexer": "ipython3",
   "version": "3.13.3"
  }
 },
 "nbformat": 4,
 "nbformat_minor": 5
}
