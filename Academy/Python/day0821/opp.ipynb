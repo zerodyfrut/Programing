{
 "cells": [
  {
   "cell_type": "code",
   "execution_count": 9,
   "id": "8c759359",
   "metadata": {},
   "outputs": [],
   "source": [
    "class Player:\n",
    "    def __init__(self, name, sport):\n",
    "        self.name=name\n",
    "        self.sprot=sport\n",
    "    \n",
    "    def get_medal(self,color='gold'):\n",
    "        return \"%s medal\" %color\n",
    "    \n",
    "    def __str__(self) :\n",
    "        return f'{self.sprot}의 {self.name}선수가 {self.get_medal()}를 받았습니다.'\n"
   ]
  },
  {
   "cell_type": "code",
   "execution_count": null,
   "id": "db20b54d",
   "metadata": {},
   "outputs": [
    {
     "name": "stdout",
     "output_type": "stream",
     "text": [
      "gold medal\n",
      "배드민턴의 안세영선수가 gold medal를 받았습니다.\n"
     ]
    }
   ],
   "source": [
    "ann=Player('안세영','배드민턴')\n",
    "print(ann.get_medal('gold'))\n",
    "print(ann) #__str__함수가 선언되었다면 호출후 리턴값 출력\n",
    "            # 없으면 주소 출력\n",
    "\n"
   ]
  },
  {
   "cell_type": "code",
   "execution_count": 15,
   "id": "6db5208d",
   "metadata": {},
   "outputs": [
    {
     "name": "stdout",
     "output_type": "stream",
     "text": [
      "이름 : kim, 나이 : 20\n",
      "급여 : 3000\n"
     ]
    }
   ],
   "source": [
    "class Person(object):\n",
    "    def __init__(self, name,age) :\n",
    "        self.name=name\n",
    "        self.age=age\n",
    "    def about_me(self):\n",
    "        print(f'이름 : {self.name}, 나이 : {self.age}')\n",
    "\n",
    "class Employee(Person) :\n",
    "    def __init__(self,name,age,salary):\n",
    "        super().__init__(name,age)\n",
    "        self.salary=salary\n",
    "    \n",
    "    def about_me(self):\n",
    "        super().about_me()\n",
    "        print(f'급여 : {self.salary}')\n",
    "\n",
    "kim=Employee('kim',20,3000)\n",
    "kim.about_me()\n"
   ]
  },
  {
   "cell_type": "code",
   "execution_count": 20,
   "id": "9ad468ba",
   "metadata": {},
   "outputs": [
    {
     "name": "stdout",
     "output_type": "stream",
     "text": [
      "Missy  :  Meow!\n",
      "NaBi  :  Meow!\n",
      "Baduk  :  Woof! Woof!\n"
     ]
    }
   ],
   "source": [
    "class Animal:\n",
    "    def __init__(self,name):\n",
    "        self.name=name\n",
    "    def talk(self):\n",
    "        raise NotImplementedError('서브클래스는 추상메서드를 구현해야합니다.')\n",
    "\n",
    "class Cat(Animal):\n",
    "    def talk(self):\n",
    "        return 'Meow!'\n",
    "\n",
    "class Dog(Animal):\n",
    "    def talk(self):\n",
    "        return 'Woof! Woof!'\n",
    "\n",
    "animals=[Cat('Missy'),Cat('NaBi'),Dog('Baduk')]\n",
    "\n",
    "for animal in animals :\n",
    "    print(animal.name,' : ', animal.talk()) \n",
    "    # 하나의 이름으로 메소드를 호출하지만, 객체에 따라 다른 일을 수행(메소드 오버라이딩)\n",
    "\n"
   ]
  },
  {
   "cell_type": "code",
   "execution_count": 53,
   "id": "cb9f142b",
   "metadata": {},
   "outputs": [
    {
     "name": "stdout",
     "output_type": "stream",
     "text": [
      "new item added\n",
      "new item added\n",
      "2\n"
     ]
    },
    {
     "ename": "AttributeError",
     "evalue": "'Inventory' object has no attribute '__items'",
     "output_type": "error",
     "traceback": [
      "\u001b[31m---------------------------------------------------------------------------\u001b[39m",
      "\u001b[31mAttributeError\u001b[39m                            Traceback (most recent call last)",
      "\u001b[36mCell\u001b[39m\u001b[36m \u001b[39m\u001b[32mIn[53]\u001b[39m\u001b[32m, line 27\u001b[39m\n\u001b[32m     24\u001b[39m my_inventory.add_new_item(Product())\n\u001b[32m     26\u001b[39m \u001b[38;5;28mprint\u001b[39m(my_inventory.get_number_of_items())\n\u001b[32m---> \u001b[39m\u001b[32m27\u001b[39m \u001b[43mmy_inventory\u001b[49m\u001b[43m.\u001b[49m\u001b[43m__items\u001b[49m\n",
      "\u001b[31mAttributeError\u001b[39m: 'Inventory' object has no attribute '__items'"
     ]
    }
   ],
   "source": [
    "class Product :\n",
    "    pass\n",
    "\n",
    "class Inventory :\n",
    "    def __init__(self):\n",
    "        self.__items=[]\n",
    "    def add_new_item(self,product):\n",
    "        if type(product)==Product :\n",
    "            self.__items.append(product)\n",
    "            print(\"new item added\")\n",
    "        else :\n",
    "            raise ValueError(\"invalid Item\")\n",
    "    \n",
    "    def get_number_of_items(self):\n",
    "        return len(self.__items)\n",
    "    \n",
    "    @property\n",
    "    def items(self):\n",
    "        return self.__items\n",
    "    \n",
    "\n",
    "my_inventory=Inventory()\n",
    "my_inventory.add_new_item(Product())\n",
    "my_inventory.add_new_item(Product())\n",
    "\n",
    "print(my_inventory.get_number_of_items())\n",
    "my_inventory.__items\n",
    "\n"
   ]
  },
  {
   "cell_type": "code",
   "execution_count": 56,
   "id": "7b0dd0a8",
   "metadata": {},
   "outputs": [
    {
     "name": "stdout",
     "output_type": "stream",
     "text": [
      "new item added\n",
      "new item added\n",
      "2\n",
      "4\n"
     ]
    }
   ],
   "source": [
    "\n",
    "my_inventory=Inventory()\n",
    "my_inventory.add_new_item(Product())\n",
    "my_inventory.add_new_item(Product())\n",
    "\n",
    "print(my_inventory.get_number_of_items())\n",
    "items=my_inventory.items\n",
    "items.append(Dog('king'))\n",
    "items.append(Product())\n",
    "print(my_inventory.get_number_of_items())"
   ]
  },
  {
   "cell_type": "code",
   "execution_count": 51,
   "id": "b2fa2c43",
   "metadata": {},
   "outputs": [
    {
     "name": "stdout",
     "output_type": "stream",
     "text": [
      "Attack\n",
      "eat\n",
      "토니\n",
      "40\n",
      "미국\n"
     ]
    }
   ],
   "source": [
    "class Avengers:\n",
    "    def __init__(self,n,a):\n",
    "        self.name=n\n",
    "        self.age=a\n",
    "\n",
    "    def attack(self):\n",
    "        print(\"Attack\")\n",
    "    \n",
    "    def print_info(self):\n",
    "        print(self.name)\n",
    "        print(self.age)\n",
    "    \n",
    "class Human:\n",
    "    def __init__(self,name,addr) :\n",
    "        self.name=name\n",
    "        self.addr=addr\n",
    "\n",
    "    def eat(self):\n",
    "        print(\"eat\")\n",
    "    \n",
    "    def print_info(self):\n",
    "        print(self.name)\n",
    "        print(self.addr)\n",
    "\n",
    "class Ironman(Avengers,Human): # 다중상속 가능\n",
    "    def __init__(self, n, a,addr):\n",
    "        super().__init__(n, a) # super : 먼저 작성한 것 기준\n",
    "        self.addr=addr\n",
    "    \n",
    "    def print_info(self):\n",
    "        super().print_info()\n",
    "        print(self.addr)\n",
    "\n",
    "i=Ironman(\"토니\",40,\"미국\")\n",
    "i.attack()\n",
    "i.eat()\n",
    "i.print_info()"
   ]
  },
  {
   "cell_type": "code",
   "execution_count": 67,
   "id": "ef3758db",
   "metadata": {},
   "outputs": [],
   "source": [
    "class Note(object):\n",
    "    def __init__(self, contents):\n",
    "        self.contents = contents\n",
    "        # 뭔지 모르지만 객체에 contents 변수 선언 및 매개변수로 받아 입력\n",
    "\n",
    "    def get_number_of_lines(self):\n",
    "        return self.contents.count(\"\\n\")\n",
    "    # 개행('\\n')의 갯수를 출력 => 즉 몇줄인지 출력\n",
    "\n",
    "    def get_number_of_characters(self):\n",
    "        return len(self.contents)\n",
    "    # 전체길이 출력\n",
    "\n",
    "    def remove(self):\n",
    "        self.contents = \"삭제된 노트입니다.\"\n",
    "    # remove라고 하지만 실제로는 conntent 내용 변경인 듯\n",
    "\n",
    "    def __str__(self):\n",
    "        return self.contents\n",
    "    # content 출력\n",
    "\n",
    "\n",
    "class NoteBook(object):\n",
    "    def __init__(self, name):\n",
    "        self.name = name\n",
    "        self.pages = 0\n",
    "        self.notes = {}\n",
    "\n",
    "    def add_note(self, note, page_number=0):\n",
    "        if len(self.notes.keys()) < 300:\n",
    "            # 만약 notes dict의 키가 300개 미만 => notes에 300개의 key와 value가 300개보다 적으면\n",
    "            if page_number == 0:\n",
    "                # page number가 0이면,\n",
    "                if self.pages < 301:\n",
    "                    # pages 가 300 이하면,\n",
    "                    self.notes[self.pages] = note\n",
    "                    # notes의 key:pages 에 value 값을 note로 저장\n",
    "                    self.pages += 1\n",
    "                    # pages 값1증가, 다음에 notes에 저장할 key값 증가\n",
    "                else:\n",
    "                    for i in range(300):\n",
    "                        # 0부터 299까지 반복, 변수는 i\n",
    "                        if i not in list(self.notes.keys()):\n",
    "                            # 변수 i가 notes의 key 값에 해당하지 않으면,\n",
    "                            # 아마 중간에 빠져있는 키값이 있을때, 해당 키값을 추가하는 것으로 보임\n",
    "                            self.notes[self.pages] = note\n",
    "                            # notes의 key:pages 에 value 값을 note로 저장\n",
    "            else:\n",
    "                # page number가 0이 아니라면, 작성자가 특정 page number를 입력했다면\n",
    "                if page_number not in self.notes.keys():\n",
    "                    # page number 에 해당하는 notes 의 키값이 없으면\n",
    "                    self.notes[page_number] = note\n",
    "                    # notes의 key:pages 에 value 값을 note로 저장\n",
    "                else:\n",
    "                    print(\"해당 페이지에는 이미 노트가 존재합니다.\")\n",
    "                    # 해당 페이지가 있으면 저장하지 않고 출력문 출력\n",
    "        else:\n",
    "            print(\"더 이상 노트를 추가하지 못합니다.\")\n",
    "            # notes dict의 크기를 300 미만으로 제한한듯\n",
    "\n",
    "    def remove_note(self, page_number):\n",
    "        del self.notes[page_number]\n",
    "        # key가 page number에 해당하는 내용삭제(del)\n",
    "\n",
    "    def get_number_of_all_lines(self):\n",
    "        result = 0\n",
    "        for k in self.notes.keys():\n",
    "            result += self.notes[k].get_number_of_lines()\n",
    "        return result\n",
    "        # 몇줄인지 출력\n",
    "\n",
    "    def get_number_of_all_characters(self):\n",
    "        result = 0\n",
    "        for k in self.notes.keys():\n",
    "            result += self.notes[k].get_number_of_characters()\n",
    "        return result\n",
    "        # 길이 출력\n",
    "\n",
    "    def get_number_of_all_pages(self):\n",
    "        return len(self.notes.keys())\n",
    "        # 키의 길이(notes에 저장된 것의 갯수) 출력\n",
    "\n",
    "    def __str__(self):\n",
    "        return self.name\n",
    "        #이름출력\n",
    "     "
   ]
  },
  {
   "cell_type": "code",
   "execution_count": null,
   "id": "9671fd13",
   "metadata": {},
   "outputs": [
    {
     "name": "stdout",
     "output_type": "stream",
     "text": [
      "4\n",
      "237\n",
      "3\n",
      "해당 페이지에는 이미 노트가 존재합니다.\n",
      "해당 페이지에는 이미 노트가 존재합니다.\n",
      "해당 페이지에는 이미 노트가 존재합니다.\n",
      "해당 페이지에는 이미 노트가 존재합니다.\n",
      "300\n",
      "더 이상 노트를 추가하지 못합니다.\n",
      "더 이상 노트를 추가하지 못합니다.\n"
     ]
    }
   ],
   "source": [
    "good_sentence = \"\"\"세상사는 데 도움이 되는 명언, 힘이 되는 명언, 용기를 주는 명언, 위로가 되는 명언, 좋은 명언 모음 100가지. 자주 보면 좋을 것 같아서 선별했습니다.\"\"\"\n",
    "note_1 = Note(good_sentence)\n",
    "\n",
    "# print(note_1)\n",
    "# note_1.remove()\n",
    "# print(note_1)\n",
    "\n",
    "\n",
    "good_sentence = \"\"\"삶이 있는 한 희망은 있다. - 키케로 \"\"\"\n",
    "note_2 = Note(good_sentence)\n",
    "\n",
    "good_sentence = \"\"\"하루에 3시간을 걸으면 7년 후에 지구를 한 바퀴 돌 수 있다. - 사무엘 존슨\"\"\"\n",
    "note_3 = Note(good_sentence)\n",
    "\n",
    "good_sentence = \"\"\"행복의 문이 하나 닫히면 다른 문이 열린다. 그러나 우리는 종종 닫힌 문을 멍하니 바라보다가 우리를 향해 열린 문을 보지 못하게 된다. - 헬렌 켈러\"\"\"\n",
    "note_4 = Note(good_sentence)\n",
    "\n",
    "wise_saying_notebook = NoteBook(\"명언 노트\")\n",
    "wise_saying_notebook.add_note(note_1)\n",
    "# 노트북에 노트추가\n",
    "# print(wise_saying_notebook.get_number_of_all_pages())\n",
    "# 전체 페이지 수 출력\n",
    "\n",
    "wise_saying_notebook.add_note(note_2)\n",
    "# 노트북에 노트추가\n",
    "# print(wise_saying_notebook.get_number_of_all_pages())\n",
    "# 전체 페이지 수 출력\n",
    "\n",
    "wise_saying_notebook.add_note(note_3)\n",
    "wise_saying_notebook.add_note(note_4)\n",
    "# 노트북에 노트추가\n",
    "print(wise_saying_notebook.get_number_of_all_pages())\n",
    "# 전체 페이지 수 출력\n",
    "print(wise_saying_notebook.get_number_of_all_characters())\n",
    "# 전체 글자 수 출력\n",
    "\n",
    "wise_saying_notebook.remove_note(3)\n",
    "# 해당 페이지 삭제\n",
    "print(wise_saying_notebook.get_number_of_all_pages())\n",
    "# 전체 페이지 수 출력\n",
    "\n",
    "wise_saying_notebook.add_note(note_1, 100)\n",
    "# note1을 100번째 페이지에 저장\n",
    "# wise_saying_notebook.add_note(note_1, 100)\n",
    "# note1을 100번째 페이지에 저장 -> 이미 저장된 페이지므로 에러문장 출력\n",
    "\n",
    "for i in range(300):\n",
    "    wise_saying_notebook.add_note(note_1, i)\n",
    "# note1을 1페이지부터 300페이지까지 note1로 추가\n",
    "# 현재 등록된 0,1,2,100 에는 이미 페이지가 있음\n",
    "\n",
    "print(wise_saying_notebook.get_number_of_all_pages())\n",
    "# 전체 페이지 수 출력\n",
    "\n",
    "wise_saying_notebook.add_note(note_1)\n",
    "# 300 페이지가 다 차서 추가가 안됨\n"
   ]
  }
 ],
 "metadata": {
  "kernelspec": {
   "display_name": "Python 3",
   "language": "python",
   "name": "python3"
  },
  "language_info": {
   "codemirror_mode": {
    "name": "ipython",
    "version": 3
   },
   "file_extension": ".py",
   "mimetype": "text/x-python",
   "name": "python",
   "nbconvert_exporter": "python",
   "pygments_lexer": "ipython3",
   "version": "3.13.3"
  }
 },
 "nbformat": 4,
 "nbformat_minor": 5
}
