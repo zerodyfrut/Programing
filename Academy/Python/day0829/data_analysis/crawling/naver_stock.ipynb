{
 "cells": [
  {
   "cell_type": "code",
   "execution_count": 4,
   "id": "49ca7ebc",
   "metadata": {},
   "outputs": [
    {
     "name": "stdout",
     "output_type": "stream",
     "text": [
      "< 현재 네이버 금융 국내 코스피 거래상위 100 기업 목록 >\n",
      "['KODEX 200선물인버스2X', 'KODEX 2차전지산업레버리지', 'KODEX 코스닥150선물인버스', 'HJ중공업', 'KODEX 코스닥150레버리지', '엔케이', 'KODEX 레버리지', 'KODEX 인버스', '영흥', '세진중공업', '삼성 인버스 2X WTI원유 선물 ETN', '삼성전자', 'SOL 조선TOP3플러스', 'TIGER 2차전지TOP10레버리지', '한화엔진', '삼성중공업', '화인베스틸', '삼성 인버스 2X 코스닥150 선물 ETN', 'KODEX 코스닥150', '두산에너빌리티', 'KODEX 2차전지산업', 'TIGER 2차전지소재Fn', 'STX엔진', 'KODEX 200', 'TIGER 미국S&P500', 'KODEX 미국S&P500', 'TIGER 200선물인버스2X', '파미셀', '미래에셋 인버스 2X 코스피200 선물 ETN', '삼성 레버리지 천연가스 선물 ETN C', '대우건설', 'KODEX 증권', 'TIGER 조선TOP10', 'N2 블룸버그 2X 천연가스 선물 ETN(H)', '한화오션', '모나미', 'TIGER 코리아원자력', 'TIGER 화장품', 'ACE 미국30년국채액티브(H)', '미래에셋증권', 'TIGER 2차전지TOP10', 'KODEX 2차전지핵심소재10', 'TIGER 미국테크TOP10 INDXX', '삼성 인버스 2X 코스피200 선물 ETN', '한국전력', '이수페타시스', 'SK오션플랜트', 'TIGER 200 중공업', 'TP', '상상인증권', '두산퓨얼셀', 'KODEX AI전력핵심설비', '웅진', '삼성 레버리지 WTI원유 선물 ETN', 'ACE 미국빅테크TOP7 Plus', 'KODEX 200타겟위클리커버드콜', '한화손해보험', 'ACE 엔비디아밸류체인액티브', '에이프로젠', '형지엘리트', '카카오', 'TIGER 바이오TOP10', 'SK하이닉스', '대한해운', 'TIGER 미국배당다우존스', '현대로템', 'LG디스플레이', '미래에셋 인버스 2X 코스닥150 선물 ETN', 'SK증권', 'KODEX 미국AI전력핵심인프라', 'TIGER 차이나항셍테크', '신한 레버리지 WTI원유 선물 ETN(H)', 'TIGER 리츠부동산인프라', 'YG PLUS', 'TIGER K방산&우주', 'SOL 조선TOP3플러스레버리지', '신원', '일동제약', '오리엔트바이오', 'KODEX 차이나휴머노이드로봇', '서울식품', 'TIMEFOLIO K바이오액티브', '한화투자증권', 'ACE KPOP포커스', 'SK텔레콤', 'RISE 미국S&P500', '신성이엔지', '티에이치엔', 'TIGER 차이나전기차SOLACTIVE', '한화생명', 'ACE 포스코그룹포커스', 'TIGER 미국30년국채커버드콜액티브(H)', 'PLUS K방산', 'KB 인버스 2X KOSDAQ 150 선물 ETN', 'KODEX AI반도체핵심장비', 'ACE 미국S&P500', 'TIGER 200', 'KODEX K방산TOP10', 'KODEX 자동차', 'KODEX 미국배당커버드콜액티브']\n",
      "\n"
     ]
    },
    {
     "ename": "ValueError",
     "evalue": "invalid literal for int() with base 10: 'a'",
     "output_type": "error",
     "traceback": [
      "\u001b[31m---------------------------------------------------------------------------\u001b[39m",
      "\u001b[31mValueError\u001b[39m                                Traceback (most recent call last)",
      "\u001b[36mCell\u001b[39m\u001b[36m \u001b[39m\u001b[32mIn[4]\u001b[39m\u001b[32m, line 73\u001b[39m\n\u001b[32m     69\u001b[39m         \u001b[38;5;28mprint\u001b[39m(\u001b[33m'\u001b[39m\u001b[38;5;132;01m%s\u001b[39;00m\u001b[33m 기업의 현재 주가는 \u001b[39m\u001b[38;5;132;01m%s\u001b[39;00m\u001b[33m 입니다\u001b[39m\u001b[33m'\u001b[39m % (top100_name[company], now_price))\n\u001b[32m     72\u001b[39m \u001b[38;5;28;01mif\u001b[39;00m \u001b[34m__name__\u001b[39m == \u001b[33m'\u001b[39m\u001b[33m__main__\u001b[39m\u001b[33m'\u001b[39m:\n\u001b[32m---> \u001b[39m\u001b[32m73\u001b[39m      \u001b[43mmain\u001b[49m\u001b[43m(\u001b[49m\u001b[43m)\u001b[49m\n\u001b[32m     76\u001b[39m \u001b[38;5;66;03m# %%\u001b[39;00m\n",
      "\u001b[36mCell\u001b[39m\u001b[36m \u001b[39m\u001b[32mIn[4]\u001b[39m\u001b[32m, line 64\u001b[39m, in \u001b[36mmain\u001b[39m\u001b[34m()\u001b[39m\n\u001b[32m     61\u001b[39m \u001b[38;5;28mprint\u001b[39m(top100_name)\n\u001b[32m     62\u001b[39m \u001b[38;5;28mprint\u001b[39m(\u001b[33m'\u001b[39m\u001b[33m'\u001b[39m)\n\u001b[32m---> \u001b[39m\u001b[32m64\u001b[39m company = \u001b[38;5;28;43mint\u001b[39;49m\u001b[43m(\u001b[49m\u001b[43mget_company\u001b[49m\u001b[43m(\u001b[49m\u001b[43mtop100_name\u001b[49m\u001b[43m)\u001b[49m\u001b[43m)\u001b[49m  \u001b[38;5;66;03m#[CODE 2]\u001b[39;00m\n\u001b[32m     65\u001b[39m \u001b[38;5;28;01mif\u001b[39;00m company == \u001b[32m100\u001b[39m:\n\u001b[32m     66\u001b[39m     \u001b[38;5;28mprint\u001b[39m(\u001b[33mf\u001b[39m\u001b[33m\"\u001b[39m\u001b[33m입력한 기업\u001b[39m\u001b[38;5;132;01m{\u001b[39;00mcompany_name\u001b[38;5;132;01m}\u001b[39;00m\u001b[33m은 거래상위 100 목록에 없습니다.\u001b[39m\u001b[33m\"\u001b[39m)        \n",
      "\u001b[31mValueError\u001b[39m: invalid literal for int() with base 10: 'a'"
     ]
    }
   ],
   "source": [
    "#!/usr/bin/env python\n",
    "# coding: utf-8\n",
    "\n",
    "# In[6]:\n",
    "\n",
    "import requests   \n",
    "from bs4 import BeautifulSoup\n",
    "\n",
    "\n",
    "#네이버 금융 국내증시 상위100의 기업 이름과 url 크롤링\n",
    "def get_top100(top100_url, top100_name):\n",
    "    url = 'https://finance.naver.com/sise/sise_quant.nhn'\n",
    "    result = requests.get(url)\n",
    "    html = BeautifulSoup(result.content, 'html.parser')\n",
    "\n",
    "    top100 = html.find_all('a', {'class':'tltle'})\n",
    "\n",
    "    for i in range(100):\n",
    "        url = 'https://finance.naver.com' + top100[i]['href']    \n",
    "        top100_url.append(url)\n",
    "    \n",
    "        company_name = top100[i].string    \n",
    "        top100_name.append(company_name)\n",
    "\n",
    "    return (top100_url, top100_name)\n",
    "\n",
    "\n",
    "# 검색할 기업 입력받기\n",
    "def get_company(top100_name):\n",
    "    company_name = input('주가를 검색할 기업이름을 입력하세요: ')\n",
    "\n",
    "    for i in range(101):\n",
    "        if i == 100: #일치하는 종목이 없으면\n",
    "            return(company_name)\n",
    "        if company_name == top100_name[i]:            \n",
    "            return(i)            \n",
    "\n",
    "# company_url에 대한 기업 주식 정보 페이지 크롤링\n",
    "def get_company_stockPage(company_url):    \n",
    "    result = requests.get(company_url)\n",
    "    company_stockPage = BeautifulSoup(result.content, \"html.parser\")\n",
    "    return company_stockPage\n",
    "\n",
    "# 기업의 현재 주가 데이터 크롤링\n",
    "def get_price(company_url):\n",
    "    company_stockPage = get_company_stockPage(company_url) #[CODE 3]\n",
    "    no_today = company_stockPage.find(\"p\", {\"class\": \"no_today\"})\n",
    "    blind = no_today.find(\"span\", {\"class\": \"blind\"})\n",
    "    now_price = blind.text\n",
    "    return now_price\n",
    "\n",
    "\n",
    "#[CODE 0]\n",
    "def main():\n",
    "    top100_url=[]\n",
    "    top100_name = []\n",
    "\n",
    "    top100_url, top100_name = get_top100(top100_url, top100_name) #[CODE 1]\n",
    "\n",
    "    print(\"< 현재 네이버 금융 국내 코스피 거래상위 100 기업 목록 >\")\n",
    "    print(top100_name)\n",
    "    print('')\n",
    "\n",
    "    company = int(get_company(top100_name))  #[CODE 2]\n",
    "    if company == 100:\n",
    "        print(f\"입력한 기업{company_name}은 거래상위 100 목록에 없습니다.\")        \n",
    "    else :        \n",
    "        now_price = get_price(top100_url[company]) #[CODE 4]\n",
    "        print('%s 기업의 현재 주가는 %s 입니다' % (top100_name[company], now_price))\n",
    "\n",
    "\n",
    "if __name__ == '__main__':\n",
    "     main()\n",
    "\n",
    "\n",
    "# %%\n"
   ]
  }
 ],
 "metadata": {
  "kernelspec": {
   "display_name": "analysis",
   "language": "python",
   "name": "python3"
  },
  "language_info": {
   "codemirror_mode": {
    "name": "ipython",
    "version": 3
   },
   "file_extension": ".py",
   "mimetype": "text/x-python",
   "name": "python",
   "nbconvert_exporter": "python",
   "pygments_lexer": "ipython3",
   "version": "3.13.3"
  }
 },
 "nbformat": 4,
 "nbformat_minor": 5
}
