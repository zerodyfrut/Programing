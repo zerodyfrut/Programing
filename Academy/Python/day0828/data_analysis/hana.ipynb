{
 "cells": [
  {
   "cell_type": "code",
   "execution_count": 8,
   "id": "22aab3ab",
   "metadata": {},
   "outputs": [],
   "source": [
    "from selenium import webdriver\n",
    "from selenium.webdriver.common.by import By\n",
    "import time\n",
    "\n",
    "#크롬 창 크기 최대화\n",
    "options = webdriver.ChromeOptions()\n",
    "options.add_argument(\"--start-maximized\")\n",
    "driver = webdriver.Chrome() # 새 크롬창 열기\n",
    "\n",
    "driver.get(\"https://www.kebhana.com/cont/mall/mall15/mall1503/index.jsp\")\n",
    "# 현재 url get 방식 요청\n",
    "time.sleep(2)\n",
    "# 2초 기다림\n",
    "\n",
    "driver.switch_to.frame(\"bankIframe\")\n",
    "\n",
    "driver.find_element(By.XPATH,'//*[@id=\"inqFrm\"]/table/tbody/tr[1]/td/span/p/label[3]/span').click()\n",
    "# F12 눌러서 원하는 곳의 copy옵션에서 Xpath 선택해서 복사.클릭\n",
    "\n",
    "driver.find_element(By.ID, 'tmpInqStrDt_p').clear()\n",
    "# clear() : 기존입력값 지움\n",
    "# start = '20250801'\n",
    "start = int(input('검색 시작 지점(8자리)'))\n",
    "\n",
    "\n",
    "driver.find_element(By.ID, 'tmpInqStrDt_p').send_keys(start)\n",
    "# F12 눌러서 원하는 곳을 봤더니 ID값이 있어서 그걸로 찾아감. 해당태그에 send_keys를 통해 입력\n",
    "\n",
    "driver.find_element(By.ID, 'tmpInqEndDt_p').clear()\n",
    "# start = '20250827'\n",
    "start = int(input('검색 종료 지점(8자리)'))\n",
    "\n",
    "driver.find_element(By.ID, 'tmpInqEndDt_p').send_keys(start)\n",
    "\n",
    "currency = \"EUR:유로(유럽연합)\"\n",
    "driver.find_element(By.ID, 'curCd').send_keys(currency)\n",
    "\n",
    "\n",
    "driver.find_element(By.XPATH,'//*[@id=\"inqFrm\"]/table/tbody/tr[6]/td/span/p/label[2]').click()\n",
    "# F12 눌러서 보니 ID가 없어서 copy옵션에서 Xpath 선택해서 복사.클릭\n",
    "\n",
    "time.sleep(1)\n",
    "driver.find_element(By.XPATH, '//*[@id=\"HANA_CONTENTS_DIV\"]/div[2]/a').click()\n",
    "\n",
    "time.sleep(1)\n",
    "driver.find_element(By.XPATH, '//*[@id=\"searchContentDiv\"]/div[1]/a[2]/span').click()\n",
    "\n"
   ]
  }
 ],
 "metadata": {
  "kernelspec": {
   "display_name": "analysis",
   "language": "python",
   "name": "python3"
  },
  "language_info": {
   "codemirror_mode": {
    "name": "ipython",
    "version": 3
   },
   "file_extension": ".py",
   "mimetype": "text/x-python",
   "name": "python",
   "nbconvert_exporter": "python",
   "pygments_lexer": "ipython3",
   "version": "3.13.3"
  }
 },
 "nbformat": 4,
 "nbformat_minor": 5
}
