{
 "cells": [
  {
   "cell_type": "code",
   "execution_count": 1,
   "id": "83b3d926",
   "metadata": {},
   "outputs": [],
   "source": [
    "import urllib.request\n",
    "import datetime\n",
    "import json"
   ]
  },
  {
   "cell_type": "code",
   "execution_count": null,
   "id": "4cb1c174",
   "metadata": {},
   "outputs": [],
   "source": [
    "client_id='아이디'\n",
    "client_secret='시크릿'"
   ]
  },
  {
   "cell_type": "code",
   "execution_count": 3,
   "id": "959ea1d4",
   "metadata": {},
   "outputs": [],
   "source": [
    "\n",
    "def getRequestUrl(url):\n",
    "    req= urllib.request.Request(url) # 전달 받은 url로 request 객체 생성\n",
    "\n",
    "    # 네이버 인증용 id, secret 헤더에 추가\n",
    "    req.add_header(\"X-Naver-Client-Id\",client_id)\n",
    "    req.add_header(\"X-Naver-Client-Secret\",client_secret)\n",
    "\n",
    "    try:\n",
    "        response = urllib.request.urlopen(req) # api 요청 전송\n",
    "        if response.getcode()==200: # 정상 응답(HTTP 200)\n",
    "            return response.read().decode('utf-8')  # UTF-8로 디코딩된 JSON 문자열 반환\n",
    "    except Exception as e:\n",
    "        print(e)\n",
    "        print('[%s] Error for URL : %s' %(datetime.datetime.now(),url))\n",
    "        return None\n",
    "    \n",
    "\n"
   ]
  },
  {
   "cell_type": "code",
   "execution_count": 4,
   "id": "5e70a689",
   "metadata": {},
   "outputs": [],
   "source": [
    "def getNaverSearch(node, srcText, start, display):    \n",
    "    base = \"https://openapi.naver.com/v1/search\"\n",
    "    node = \"/%s.json\" % node\n",
    "    parameters = \"?query=%s&start=%s&display=%s\" % (urllib.parse.quote(srcText), start, display)\n",
    "    \n",
    "    url = base + node + parameters    \n",
    "    responseDecode = getRequestUrl(url)   #[CODE 1]\n",
    "    \n",
    "    if (responseDecode == None):\n",
    "        return None\n",
    "    else:\n",
    "        return json.loads(responseDecode)"
   ]
  },
  {
   "cell_type": "code",
   "execution_count": 5,
   "id": "7ece9e03",
   "metadata": {},
   "outputs": [],
   "source": [
    "def getPostData(post,jsonResult,cnt):\n",
    "    title=post['title']\n",
    "    description=post['originallink']\n",
    "    org_link=post['link']\n",
    "    \n",
    "    pDate = datetime.datetime.strptime(post['pubDate'],  '%a, %d %b %Y %H:%M:%S +0900')\n",
    "    pDate = pDate.strftime('%Y-%m-%d %H:%M:%S')\n",
    "    \n",
    "    jsonResult.append({'cnt':cnt, 'title':title, 'description': description, \n",
    "    'org_link':org_link,   'link': org_link,   'pDate':pDate})\n",
    "    return    "
   ]
  },
  {
   "cell_type": "code",
   "execution_count": 6,
   "id": "09eecb23",
   "metadata": {},
   "outputs": [],
   "source": [
    "def main():\n",
    "    node = 'news'   # 크롤링 할 대상\n",
    "    srcText = input('검색어를 입력하세요: ')\n",
    "    cnt = 0\n",
    "    jsonResult = []\n",
    "\n",
    "    jsonResponse = getNaverSearch(node, srcText, 1, 100)  #[CODE 2]\n",
    "    total = jsonResponse['total']\n",
    "    while ((jsonResponse != None) and (jsonResponse['display'] != 0)):         \n",
    "        for post in jsonResponse['items']:\n",
    "            cnt += 1\n",
    "            getPostData(post, jsonResult, cnt)  #[CODE 3]       \n",
    "        \n",
    "        start = jsonResponse['start'] + jsonResponse['display']\n",
    "        jsonResponse = getNaverSearch(node, srcText, start, 100)  #[CODE 2]\n",
    "       \n",
    "    print('전체 검색 : %d 건' %total)\n",
    "    with open('%s_naver_%s.json' % (srcText, node), 'w', encoding='utf8') as outfile:\n",
    "        jsonFile = json.dumps(jsonResult,  indent=4, sort_keys=True,  ensure_ascii=False)\n",
    "                        \n",
    "        outfile.write(jsonFile)\n",
    "        \n",
    "    print(\"가져온 데이터 : %d 건\" %(cnt))\n",
    "    print ('%s_naver_%s.json SAVED' % (srcText, node))\n"
   ]
  },
  {
   "cell_type": "code",
   "execution_count": 13,
   "id": "879b6ad0",
   "metadata": {},
   "outputs": [
    {
     "name": "stdout",
     "output_type": "stream",
     "text": [
      "HTTP Error 400: Bad Request\n",
      "[2025-08-28 16:06:09.480118] Error for URL : https://openapi.naver.com/v1/search/news.json?query=naver&start=1001&display=100\n",
      "전체 검색 : 1184070 건\n",
      "가져온 데이터 : 1000 건\n",
      "naver_naver_news.json SAVED\n"
     ]
    }
   ],
   "source": [
    "\n",
    "if __name__ == '__main__':  #임포트되지 않고 직접 실행하는 경우라면\n",
    "    main()                  #main 함수 호출"
   ]
  },
  {
   "cell_type": "code",
   "execution_count": 8,
   "id": "809e0666",
   "metadata": {},
   "outputs": [
    {
     "name": "stdout",
     "output_type": "stream",
     "text": [
      "%EC%95%88%EB%85%95%ED%95%98%EC%84%B8%EC%9A%94%20Python%21\n"
     ]
    }
   ],
   "source": [
    "from urllib.parse import quote\n",
    "\n",
    "srcText = \"안녕하세요 Python!\"\n",
    "encoded = quote(srcText)\n",
    "print(encoded)\n"
   ]
  }
 ],
 "metadata": {
  "kernelspec": {
   "display_name": "analysis",
   "language": "python",
   "name": "python3"
  },
  "language_info": {
   "codemirror_mode": {
    "name": "ipython",
    "version": 3
   },
   "file_extension": ".py",
   "mimetype": "text/x-python",
   "name": "python",
   "nbconvert_exporter": "python",
   "pygments_lexer": "ipython3",
   "version": "3.13.3"
  }
 },
 "nbformat": 4,
 "nbformat_minor": 5
}
