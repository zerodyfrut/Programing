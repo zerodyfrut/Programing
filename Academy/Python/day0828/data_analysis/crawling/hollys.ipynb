{
 "cells": [
  {
   "cell_type": "code",
   "execution_count": 1,
   "id": "ae2aa113",
   "metadata": {},
   "outputs": [],
   "source": [
    "import urllib.request\n",
    "from bs4 import BeautifulSoup as bs\n",
    "import pandas as pd\n",
    "from urllib import parse\n"
   ]
  },
  {
   "cell_type": "code",
   "execution_count": null,
   "id": "dd4af117",
   "metadata": {},
   "outputs": [
    {
     "name": "stdout",
     "output_type": "stream",
     "text": [
      "Hollys store crawling >>>>>>>>>>>>>>>>>>>>>>>>\n",
      ">>>\n"
     ]
    }
   ],
   "source": [
    "def hollys_store(result):\n",
    "    for page in range(1, 14):\n",
    "        # Hollys_url = \"https://www.hollys.co.kr/store/korea/korStore2.do?pageNo=%d&sido=%s&gugun=&store=\"% (page,'서울')\n",
    "        Hollys_url = \"https://www.hollys.co.kr/store/korea/korStore2.do?\"\n",
    "        #인코딩하는 부분(query) 꺼내옴\n",
    "        query = parse.parse_qs(parse.urlparse(\"https://www.hollys.co.kr/store/korea/korStore2.do?pageNo=%d&sido=%s&gugun=&store=\" % (page,'서울')).query)\n",
    "        #인코딩\n",
    "        param = parse.urlencode(query, doseq=True)\n",
    "\n",
    "        Hollys_url += param\n",
    "        \n",
    "        html = urllib.request.urlopen(Hollys_url)\n",
    "        soupHollys = bs(html, 'html.parser')\n",
    "        \n",
    "        tag_tbody = soupHollys.find(\"tbody\")\n",
    "        for store in tag_tbody.find_all('tr'):\n",
    "            store_td = store.find_all('td')\n",
    "            s_name = store_td[1].text\n",
    "            s_sido = store_td[0].string\n",
    "            s_address = store_td[3].string\n",
    "            s_phone = store_td[5].string\n",
    "            \n",
    "            result.append([s_name, s_sido, s_address, s_phone])\n",
    "            \n",
    "    return\n",
    "\n",
    "def main():\n",
    "    result = []\n",
    "    print(\"Hollys store crawling >>>>>>>>>>>>>>>>>>>>>>>>\")\n",
    "    hollys_store(result)\n",
    "    print(\">>>\")\n",
    "    hollys_df = pd.DataFrame(result, columns=('store', 'si-do-gu', 'address','phone'))\n",
    "    hollys_df.to_csv('hollys.csv', encoding='utf-8', mode='w', index=True)\n",
    "    \n",
    "if __name__ == '__main__':\n",
    "    main() "
   ]
  }
 ],
 "metadata": {
  "kernelspec": {
   "display_name": "analysis",
   "language": "python",
   "name": "python3"
  },
  "language_info": {
   "codemirror_mode": {
    "name": "ipython",
    "version": 3
   },
   "file_extension": ".py",
   "mimetype": "text/x-python",
   "name": "python",
   "nbconvert_exporter": "python",
   "pygments_lexer": "ipython3",
   "version": "3.13.3"
  }
 },
 "nbformat": 4,
 "nbformat_minor": 5
}
