{
 "cells": [
  {
   "cell_type": "code",
   "execution_count": 2,
   "id": "633531bf",
   "metadata": {},
   "outputs": [],
   "source": [
    "from bs4 import BeautifulSoup as bs\n"
   ]
  },
  {
   "cell_type": "code",
   "execution_count": 3,
   "id": "709b26b9",
   "metadata": {},
   "outputs": [],
   "source": [
    "html = '''<h1 id=\"title\">한빛출판네트워크</h1><div class=\"top\"><ul\n",
    "class=\"menu\"><li><a href=http://www.hanbit.co.kr/member/login.html\n",
    "class=\"login\">로그인 </a></li></ul><ul class=\"brand\"><li><a href=\"http://www. \n",
    "hanbit.co.kr/media/>한빛미디어<li><a href=\"http://www.hanbit.co.kr/\n",
    "academy/\">한빛아카데미</a></li></ul></div>'''"
   ]
  },
  {
   "cell_type": "code",
   "execution_count": 8,
   "id": "cf6e6ee6",
   "metadata": {},
   "outputs": [
    {
     "name": "stdout",
     "output_type": "stream",
     "text": [
      "<h1 id=\"title\">\n",
      " 한빛출판네트워크\n",
      "</h1>\n",
      "<div class=\"top\">\n",
      " <ul class=\"menu\">\n",
      "  <li>\n",
      "   <a class=\"login\" href=\"http://www.hanbit.co.kr/member/login.html\">\n",
      "    로그인\n",
      "   </a>\n",
      "  </li>\n",
      " </ul>\n",
      " <ul class=\"brand\">\n",
      "  <li>\n",
      "   <a \"=\"\" academy=\"\" href=\"http://www. \n",
      "hanbit.co.kr/media/&gt;한빛미디어&lt;li&gt;&lt;a href=\" http:=\"\" www.hanbit.co.kr=\"\">\n",
      "    한빛아카데미\n",
      "   </a>\n",
      "  </li>\n",
      " </ul>\n",
      "</div>\n",
      "\n"
     ]
    }
   ],
   "source": [
    "soup=bs(html,'html.parser')\n",
    "# print(type(soup))\n",
    "print(soup.prettify()) # 저장된 내용 확인"
   ]
  },
  {
   "cell_type": "code",
   "execution_count": null,
   "id": "33c9b8f1",
   "metadata": {},
   "outputs": [
    {
     "name": "stdout",
     "output_type": "stream",
     "text": [
      "<h1 id=\"title\">한빛출판네트워크</h1>\n",
      "<ul class=\"menu\"><li><a class=\"login\" href=\"http://www.hanbit.co.kr/member/login.html\">로그인 </a></li></ul>\n"
     ]
    }
   ],
   "source": [
    "# 원하는 태그 뽑아내기(이름으로)\n",
    "print(soup.h1)\n",
    "\n",
    "print(soup.ul) # 태그이름으로 가져오면 처음 하나만 가져온다.\n"
   ]
  },
  {
   "cell_type": "code",
   "execution_count": 18,
   "id": "3d0357c4",
   "metadata": {},
   "outputs": [
    {
     "data": {
      "text/plain": [
       "[<a class=\"login\" href=\"http://www.hanbit.co.kr/member/login.html\">로그인 </a>,\n",
       " <a \"=\"\" academy=\"\" href=\"http://www. \n",
       " hanbit.co.kr/media/&gt;한빛미디어&lt;li&gt;&lt;a href=\" http:=\"\" www.hanbit.co.kr=\"\">한빛아카데미</a>]"
      ]
     },
     "execution_count": 18,
     "metadata": {},
     "output_type": "execute_result"
    }
   ],
   "source": [
    "# 지정된 모든 태그 가져오기\n",
    "# find_all('tag') : 자식 태그 포함, 모든 태그를 리스트로 반환\n",
    "\n",
    "soup.find_all('a')\n"
   ]
  },
  {
   "cell_type": "code",
   "execution_count": 34,
   "id": "47cf88b3",
   "metadata": {},
   "outputs": [
    {
     "name": "stdout",
     "output_type": "stream",
     "text": [
      "{'href': 'http://www.hanbit.co.kr/member/login.html', 'class': ['login']}\n",
      "http://www.hanbit.co.kr/member/login.html\n"
     ]
    }
   ],
   "source": [
    "# 속성을 이용하여 가져오기\n",
    "# attrs: 속성 값을 통해서 가져옴.근데 처음 하나만 가져옴\n",
    "#        자식속성으로도 접근가능\n",
    "\n",
    "tag_a=soup.a\n",
    "print(tag_a.attrs)\n",
    "print(tag_a['href'])\n"
   ]
  },
  {
   "cell_type": "code",
   "execution_count": null,
   "id": "13ad4f64",
   "metadata": {},
   "outputs": [
    {
     "data": {
      "text/plain": [
       "<ul class=\"brand\"><li><a \"=\"\" academy=\"\" href=\"http://www. \n",
       "hanbit.co.kr/media/&gt;한빛미디어&lt;li&gt;&lt;a href=\" http:=\"\" www.hanbit.co.kr=\"\">한빛아카데미</a></li></ul>"
      ]
     },
     "execution_count": 27,
     "metadata": {},
     "output_type": "execute_result"
    }
   ],
   "source": [
    "# find 안에 세부조건에서 속성값을 통해 접근 가능\n",
    "brand= soup.find('ul',attrs={'class':'brand'})\n",
    "brand"
   ]
  },
  {
   "cell_type": "code",
   "execution_count": null,
   "id": "bba7ce03",
   "metadata": {},
   "outputs": [
    {
     "data": {
      "text/plain": [
       "<h1 id=\"title\">한빛출판네트워크</h1>"
      ]
     },
     "execution_count": 28,
     "metadata": {},
     "output_type": "execute_result"
    }
   ],
   "source": [
    "# find 안에 세부조건 id값을 통해 접근 가능\n",
    "title=soup.find(id='title')\n",
    "title"
   ]
  },
  {
   "cell_type": "code",
   "execution_count": null,
   "id": "5d8c0d16",
   "metadata": {},
   "outputs": [
    {
     "data": {
      "text/plain": [
       "[<li><a \"=\"\" academy=\"\" href=\"http://www. \n",
       " hanbit.co.kr/media/&gt;한빛미디어&lt;li&gt;&lt;a href=\" http:=\"\" www.hanbit.co.kr=\"\">한빛아카데미</a></li>]"
      ]
     },
     "execution_count": 30,
     "metadata": {},
     "output_type": "execute_result"
    }
   ],
   "source": [
    "# select를 통해 경로를 입력해서 접근 가능\n",
    "li_list= soup.select('div>ul.brand>li')\n",
    "li_list"
   ]
  },
  {
   "cell_type": "code",
   "execution_count": null,
   "id": "2c76fb43",
   "metadata": {},
   "outputs": [
    {
     "name": "stdout",
     "output_type": "stream",
     "text": [
      "한빛아카데미\n",
      "한빛아카데미\n"
     ]
    }
   ],
   "source": [
    "# 태그가 가지고 있는 문자열 출력\n",
    "for li in li_list:\n",
    "    print(li.text)\n",
    "    print(li.string)"
   ]
  }
 ],
 "metadata": {
  "kernelspec": {
   "display_name": "analysis",
   "language": "python",
   "name": "python3"
  },
  "language_info": {
   "codemirror_mode": {
    "name": "ipython",
    "version": 3
   },
   "file_extension": ".py",
   "mimetype": "text/x-python",
   "name": "python",
   "nbconvert_exporter": "python",
   "pygments_lexer": "ipython3",
   "version": "3.13.3"
  }
 },
 "nbformat": 4,
 "nbformat_minor": 5
}
